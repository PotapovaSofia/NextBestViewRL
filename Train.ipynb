{
 "cells": [
  {
   "cell_type": "code",
   "execution_count": 8,
   "metadata": {},
   "outputs": [],
   "source": [
    "import numpy as np\n",
    "import math, random\n",
    "\n",
    "import matplotlib.pyplot as plt\n",
    "%matplotlib inline\n",
    "\n",
    "import torch\n",
    "import torch.nn as nn\n",
    "import torch.optim as optim\n",
    "import torch.autograd as autograd \n",
    "import torch.nn.functional as F\n",
    "\n",
    "from geometry.model import Model, combine_observations, get_mesh\n",
    "from geometry.utils.visualisation import illustrate_points, illustrate_mesh\n",
    "\n",
    "from rl.environment import Environment, CombiningObservationsWrapper\n",
    "from rl.environment import StepPenaltyRewardWrapper, DepthMapWrapper\n",
    "from rl.dqn import CnnDQN\n",
    "\n",
    "\n",
    "# !conda install -c conda-forge pyembree\n",
    "# !conda install -c conda-forge igl\n",
    "# !pip install Cython\n",
    "# !pip install gym"
   ]
  },
  {
   "cell_type": "code",
   "execution_count": 241,
   "metadata": {},
   "outputs": [],
   "source": [
    "def plot(frame_idx, rewards, losses):\n",
    "    clear_output(True)\n",
    "    plt.figure(figsize=(20,5))\n",
    "    plt.subplot(131)\n",
    "    plt.title('frame %s. reward: %s' % (frame_idx, np.mean(rewards[-10:])))\n",
    "    plt.plot(rewards)\n",
    "    plt.subplot(132)\n",
    "    plt.title('loss')\n",
    "    if len(losses) > 20:\n",
    "        plt.plot(losses[20:])\n",
    "    else:\n",
    "        plt.plot(losses)\n",
    "    plt.show()"
   ]
  },
  {
   "cell_type": "markdown",
   "metadata": {},
   "source": [
    "## DQN"
   ]
  },
  {
   "cell_type": "code",
   "execution_count": 7,
   "metadata": {},
   "outputs": [],
   "source": [
    "USE_CUDA = torch.cuda.is_available()\n",
    "\n",
    "# if USE_CUDA:\n",
    "#     torch.cuda.set_device(1)\n",
    "#     print(torch.cuda.current_device())\n",
    "\n",
    "Variable = lambda *args, **kwargs: autograd.Variable(*args, **kwargs).cuda() \\\n",
    "    if USE_CUDA else autograd.Variable(*args, **kwargs)"
   ]
  },
  {
   "cell_type": "markdown",
   "metadata": {},
   "source": [
    "### Replay buffer"
   ]
  },
  {
   "cell_type": "code",
   "execution_count": 8,
   "metadata": {},
   "outputs": [],
   "source": [
    "from collections import deque\n",
    "\n",
    "class ReplayBuffer(object):\n",
    "    def __init__(self, capacity, use_gpu=False):\n",
    "        self.buffer = deque(maxlen=capacity)\n",
    "        self.use_gpu = use_gpu\n",
    "    \n",
    "    def push(self, state, action, reward, next_state, done):\n",
    "        \n",
    "        state      = np.expand_dims(state, 0)\n",
    "        next_state = np.expand_dims(next_state, 0)\n",
    "        \n",
    "        if self.use_gpu:\n",
    "            state      = Variable(torch.FloatTensor(np.float32(state)))\n",
    "            next_state = Variable(torch.FloatTensor(np.float32(next_state)), volatile=True)\n",
    "            action     = Variable(torch.LongTensor([action]))\n",
    "            reward     = Variable(torch.FloatTensor([reward]))\n",
    "            done       = Variable(torch.FloatTensor([done]))\n",
    "        \n",
    "        self.buffer.append((state, action, reward, next_state, done))\n",
    "\n",
    "    def sample(self, batch_size):\n",
    "        state, action, reward, next_state, done = zip(*random.sample(self.buffer, batch_size))\n",
    "        if self.use_gpu:\n",
    "            state      = torch.cat(state)\n",
    "            action     = torch.cat(action)\n",
    "            reward     = torch.cat(reward)\n",
    "            next_state = torch.cat(next_state)\n",
    "            done       = torch.cat(done)\n",
    "        else:\n",
    "            state      = Variable(torch.FloatTensor(np.float32(np.concatenate(state))))\n",
    "            next_state = Variable(torch.FloatTensor(np.float32(np.concatenate(next_state))),\n",
    "                                  volatile=True)\n",
    "            action     = Variable(torch.LongTensor(action))\n",
    "            reward     = Variable(torch.FloatTensor(reward))\n",
    "            done       = Variable(torch.FloatTensor(done))\n",
    "        return state, action, reward, next_state, done\n",
    "    \n",
    "    def __len__(self):\n",
    "        return len(self.buffer)\n",
    "\n"
   ]
  },
  {
   "cell_type": "markdown",
   "metadata": {},
   "source": [
    "### Epsilon-greedy"
   ]
  },
  {
   "cell_type": "code",
   "execution_count": 9,
   "metadata": {},
   "outputs": [
    {
     "data": {
      "text/plain": [
       "[<matplotlib.lines.Line2D at 0x7fbd829b4050>]"
      ]
     },
     "execution_count": 9,
     "metadata": {},
     "output_type": "execute_result"
    },
    {
     "data": {
      "image/png": "[encoded data removed]",
      "text/plain": [
       "<Figure size 432x288 with 1 Axes>"
      ]
     },
     "metadata": {
      "needs_background": "light"
     },
     "output_type": "display_data"
    }
   ],
   "source": [
    "epsilon_start = 1.0\n",
    "epsilon_final = 0.01\n",
    "epsilon_decay = 500\n",
    "\n",
    "epsilon_by_frame = lambda frame_idx: epsilon_final + (epsilon_start - epsilon_final) * \\\n",
    "        math.exp(-1. * frame_idx / epsilon_decay)\n",
    "\n",
    "plt.plot([epsilon_by_frame(i) for i in range(1000)])"
   ]
  },
  {
   "cell_type": "code",
   "execution_count": 7,
   "metadata": {},
   "outputs": [],
   "source": [
    "def compute_td_loss_actions(batch_size, actions):\n",
    "    state, action, reward, next_state, done = replay_buffer.sample(batch_size)\n",
    "\n",
    "#     state      = Variable(torch.FloatTensor(np.float32(state)))\n",
    "#     next_state = Variable(torch.FloatTensor(np.float32(next_state)), volatile=True)\n",
    "#     action     = Variable(torch.FloatTensor(action))\n",
    "#     reward     = Variable(torch.FloatTensor(reward))\n",
    "#     done       = Variable(torch.FloatTensor(done))\n",
    "\n",
    "    q_value = model(state, action).squeeze(1)\n",
    "    \n",
    "    next_q_values = []\n",
    "    for batch_idx in range(batch_size):\n",
    "        next_q_value = -np.inf\n",
    "        for next_action in actions:\n",
    "            next_action = Variable(torch.FloatTensor([next_action])).unsqueeze(0)\n",
    "            pred = model(next_state[batch_idx].unsqueeze(0), next_action).item()\n",
    "            next_q_value = max(next_q_value, pred)\n",
    "        next_q_values.append(next_q_value)\n",
    "\n",
    "    expected_q_value = reward + gamma * next_q_value * (1 - done)\n",
    "    \n",
    "    loss = torch.mean((q_value - expected_q_value) ** 2)\n",
    "    optimizer.zero_grad()\n",
    "    loss.backward()\n",
    "    optimizer.step()\n",
    "    return loss"
   ]
  },
  {
   "cell_type": "code",
   "execution_count": 234,
   "metadata": {},
   "outputs": [],
   "source": [
    "env = Environment(illustrate=False, model_path=\"./data/Dude.obj\", number_of_view_points=100)\n",
    "env = CombiningObservationsWrapper(env)\n",
    "env = StepPenaltyRewardWrapper(env)\n",
    "env = DepthMapWrapper(env)"
   ]
  },
  {
   "cell_type": "code",
   "execution_count": 10,
   "metadata": {
    "scrolled": true
   },
   "outputs": [
    {
     "ename": "NameError",
     "evalue": "name 'USE_CUDA' is not defined",
     "output_type": "error",
     "traceback": [
      "\u001b[0;31m---------------------------------------------------------------------------\u001b[0m",
      "\u001b[0;31mNameError\u001b[0m                                 Traceback (most recent call last)",
      "\u001b[0;32m<ipython-input-10-b83bb271af0d>\u001b[0m in \u001b[0;36m<module>\u001b[0;34m\u001b[0m\n\u001b[1;32m      1\u001b[0m \u001b[0mmodel\u001b[0m \u001b[0;34m=\u001b[0m \u001b[0mCnnDQN\u001b[0m\u001b[0;34m(\u001b[0m\u001b[0menv\u001b[0m\u001b[0;34m.\u001b[0m\u001b[0mobservation_space\u001b[0m\u001b[0;34m.\u001b[0m\u001b[0mshape\u001b[0m\u001b[0;34m,\u001b[0m \u001b[0menv\u001b[0m\u001b[0;34m.\u001b[0m\u001b[0maction_space\u001b[0m\u001b[0;34m.\u001b[0m\u001b[0mn\u001b[0m\u001b[0;34m)\u001b[0m\u001b[0;34m\u001b[0m\u001b[0;34m\u001b[0m\u001b[0m\n\u001b[1;32m      2\u001b[0m \u001b[0;34m\u001b[0m\u001b[0m\n\u001b[0;32m----> 3\u001b[0;31m \u001b[0;32mif\u001b[0m \u001b[0mUSE_CUDA\u001b[0m\u001b[0;34m:\u001b[0m\u001b[0;34m\u001b[0m\u001b[0;34m\u001b[0m\u001b[0m\n\u001b[0m\u001b[1;32m      4\u001b[0m     \u001b[0mmodel\u001b[0m \u001b[0;34m=\u001b[0m \u001b[0mmodel\u001b[0m\u001b[0;34m.\u001b[0m\u001b[0mcuda\u001b[0m\u001b[0;34m(\u001b[0m\u001b[0;34m)\u001b[0m\u001b[0;34m\u001b[0m\u001b[0;34m\u001b[0m\u001b[0m\n\u001b[1;32m      5\u001b[0m \u001b[0;34m\u001b[0m\u001b[0m\n",
      "\u001b[0;31mNameError\u001b[0m: name 'USE_CUDA' is not defined"
     ]
    }
   ],
   "source": [
    "model = CnnDQN(env.observation_space.shape, env.action_space.n)\n",
    "\n",
    "if USE_CUDA:\n",
    "    model = model.cuda()\n",
    "    \n",
    "optimizer = optim.Adam(model.parameters(), lr=0.001)\n",
    "\n",
    "replay_initial = 5\n",
    "replay_buffer = ReplayBuffer(20)"
   ]
  },
  {
   "cell_type": "markdown",
   "metadata": {},
   "source": [
    "### Training"
   ]
  },
  {
   "cell_type": "code",
   "execution_count": null,
   "metadata": {
    "scrolled": false
   },
   "outputs": [
    {
     "name": "stdout",
     "output_type": "stream",
     "text": [
      "Action:  1 (random)\n",
      "0.7650876054510058 0.23545316893791912 0.5296344365130867\n",
      "Action:  0 (random)\n",
      "0.7661691542288557 0.29574951330304994 0.47041964092580574\n",
      "Action:  9 (random)\n",
      "1.0 0.4704196409258058 0.5295803590741942\n",
      "Frame:  3 Number of View Points:  3\n",
      "\n",
      "Action:  8 (random)\n",
      "0.6865671641791045 0.4527363184079602 0.23383084577114427\n",
      "Action:  1 (random)\n",
      "0.9829115293099718 0.4532770927968851 0.5296344365130867\n",
      "Frame:  5 Number of View Points:  2\n",
      "\n",
      "Action:  4 (random)\n",
      "0.7608695652173914 0.46609344581440626 0.2947761194029851\n"
     ]
    }
   ],
   "source": [
    "num_frames = 15000\n",
    "batch_size = 64\n",
    "gamma      = 0.99\n",
    "\n",
    "losses = []\n",
    "all_rewards = []\n",
    "episode_reward = 0\n",
    "\n",
    "state, _ = env.reset()\n",
    "nof_vp = 0\n",
    "for frame_idx in range(1, num_frames + 1):\n",
    "    epsilon = epsilon_by_frame(frame_idx)\n",
    "    action = model.act(state, epsilon)\n",
    "\n",
    "    next_state, reward, done, _ = env.step(action)\n",
    "    replay_buffer.push(state, action, reward, next_state, done)\n",
    "    print(len(replay_buffer))\n",
    "    \n",
    "    # QUESTION episode_reward += reward * self._gamma ** t\n",
    "\n",
    "    state = next_state\n",
    "    episode_reward += reward\n",
    "    nof_vp += 1\n",
    "\n",
    "    # env.render(action, state)\n",
    "\n",
    "    if done:\n",
    "#         final_reward = env.final_reward()\n",
    "#         print(\"Number of View Points: \", nof_vp, \" Hausdorff reward: \", final_reward)\n",
    "        print(\"Frame: \", frame_idx, \"Number of View Points: \", nof_vp)\n",
    "        print()\n",
    "        \n",
    "        state, _ = env.reset()\n",
    "        nof_vp = 0\n",
    "        all_rewards.append(episode_reward)\n",
    "        episode_reward = 0\n",
    "        \n",
    "    if len(replay_buffer) > replay_initial:\n",
    "#         print(\"Computing loss\")\n",
    "        loss = compute_td_loss(batch_size)\n",
    "#         print(loss)\n",
    "        losses.append(loss.item())\n",
    "        \n",
    "    if frame_idx % 100 == 0:\n",
    "        plot(frame_idx, all_rewards, losses)\n",
    "        \n",
    "    if frame_idx % 500 ==  0:\n",
    "        torch.save(model, \"./models/dude-100vp-gpu-{}.pt\".format(frame_idx))"
   ]
  }
 ],
 "metadata": {
  "kernelspec": {
   "display_name": "Python 3",
   "language": "python",
   "name": "python3"
  },
  "language_info": {
   "codemirror_mode": {
    "name": "ipython",
    "version": 3
   },
   "file_extension": ".py",
   "mimetype": "text/x-python",
   "name": "python",
   "nbconvert_exporter": "python",
   "pygments_lexer": "ipython3",
   "version": "3.7.4"
  }
 },
 "nbformat": 4,
 "nbformat_minor": 4
}
