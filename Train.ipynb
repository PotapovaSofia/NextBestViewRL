{
 "cells": [
  {
   "cell_type": "code",
   "execution_count": 1,
   "metadata": {},
   "outputs": [],
   "source": [
    "import numpy as np\n",
    "import math, random\n",
    "from IPython.display import clear_output\n",
    "import matplotlib.pyplot as plt\n",
    "%matplotlib inline\n",
    "\n",
    "import torch\n",
    "import torch.nn as nn\n",
    "import torch.optim as optim\n",
    "import torch.autograd as autograd \n",
    "import torch.nn.functional as F\n",
    "\n",
    "from geometry.model import Model, combine_observations, get_mesh\n",
    "from geometry.utils.visualisation import illustrate_points, illustrate_mesh\n",
    "\n",
    "from rl.environment import Environment, CombiningObservationsWrapper\n",
    "from rl.environment import StepPenaltyRewardWrapper, DepthMapWrapper\n",
    "from rl.dqn import CnnDQN, CnnDQNA\n",
    "\n",
    "\n",
    "# !conda install -c conda-forge pyembree\n",
    "# !conda install -c conda-forge igl\n",
    "# !pip install Cython\n",
    "# !pip install gym"
   ]
  },
  {
   "cell_type": "code",
   "execution_count": 2,
   "metadata": {},
   "outputs": [],
   "source": [
    "def plot(frame_idx, rewards, losses):\n",
    "    clear_output(True)\n",
    "    plt.figure(figsize=(20,5))\n",
    "    plt.subplot(131)\n",
    "    plt.title('frame %s. reward: %s' % (frame_idx, np.mean(rewards[-10:])))\n",
    "    plt.plot(rewards)\n",
    "    plt.subplot(132)\n",
    "    plt.title('loss')\n",
    "    if len(losses) > 20:\n",
    "        plt.plot(losses[20:])\n",
    "    else:\n",
    "        plt.plot(losses)\n",
    "    plt.show()"
   ]
  },
  {
   "cell_type": "markdown",
   "metadata": {},
   "source": [
    "## DQN"
   ]
  },
  {
   "cell_type": "code",
   "execution_count": 3,
   "metadata": {},
   "outputs": [],
   "source": [
    "USE_CUDA = torch.cuda.is_available()\n",
    "\n",
    "# if USE_CUDA:\n",
    "#     torch.cuda.set_device(1)\n",
    "#     print(torch.cuda.current_device())\n",
    "\n",
    "Variable = lambda *args, **kwargs: autograd.Variable(*args, **kwargs).cuda() \\\n",
    "    if USE_CUDA else autograd.Variable(*args, **kwargs)"
   ]
  },
  {
   "cell_type": "markdown",
   "metadata": {},
   "source": [
    "### Replay buffer"
   ]
  },
  {
   "cell_type": "code",
   "execution_count": 4,
   "metadata": {},
   "outputs": [],
   "source": [
    "from collections import deque\n",
    "\n",
    "class ReplayBuffer(object):\n",
    "    def __init__(self, capacity, use_gpu=False):\n",
    "        self.buffer = deque(maxlen=capacity)\n",
    "        self.use_gpu = use_gpu\n",
    "    \n",
    "    def push(self, state, action, reward, next_state, done):\n",
    "        \n",
    "        state      = np.expand_dims(state, 0)\n",
    "        next_state = np.expand_dims(next_state, 0)\n",
    "        \n",
    "        if self.use_gpu:\n",
    "            state      = Variable(torch.FloatTensor(np.float32(state)))\n",
    "            next_state = Variable(torch.FloatTensor(np.float32(next_state)), volatile=True)\n",
    "            action     = Variable(torch.FloatTensor([action]))\n",
    "            reward     = Variable(torch.FloatTensor([reward]))\n",
    "            done       = Variable(torch.FloatTensor([done]))\n",
    "        \n",
    "        self.buffer.append((state, action, reward, next_state, done))\n",
    "\n",
    "    def sample(self, batch_size):\n",
    "        state, action, reward, next_state, done = zip(*random.sample(self.buffer, batch_size))\n",
    "        if self.use_gpu:\n",
    "            state      = torch.cat(state)\n",
    "            action     = torch.cat(action)\n",
    "            reward     = torch.cat(reward)\n",
    "            next_state = torch.cat(next_state)\n",
    "            done       = torch.cat(done)\n",
    "        else:\n",
    "            state      = Variable(torch.FloatTensor(np.float32(np.concatenate(state))))\n",
    "            next_state = Variable(torch.FloatTensor(np.float32(np.concatenate(next_state))),\n",
    "                                  volatile=True)\n",
    "            action     = Variable(torch.FloatTensor(action))\n",
    "            reward     = Variable(torch.FloatTensor(reward))\n",
    "            done       = Variable(torch.FloatTensor(done))\n",
    "        return state, action, reward, next_state, done\n",
    "    \n",
    "    def __len__(self):\n",
    "        return len(self.buffer)\n",
    "\n"
   ]
  },
  {
   "cell_type": "markdown",
   "metadata": {},
   "source": [
    "### Epsilon-greedy"
   ]
  },
  {
   "cell_type": "code",
   "execution_count": 5,
   "metadata": {},
   "outputs": [
    {
     "data": {
      "text/plain": [
       "[<matplotlib.lines.Line2D at 0x7fdc6a88e1d0>]"
      ]
     },
     "execution_count": 5,
     "metadata": {},
     "output_type": "execute_result"
    },
    {
     "data": {
      "image/png": "[encoded data removed]",
      "text/plain": [
       "<Figure size 432x288 with 1 Axes>"
      ]
     },
     "metadata": {
      "needs_background": "light"
     },
     "output_type": "display_data"
    }
   ],
   "source": [
    "epsilon_start = 1.0\n",
    "epsilon_final = 0.01\n",
    "epsilon_decay = 500\n",
    "\n",
    "epsilon_by_frame = lambda frame_idx: epsilon_final + (epsilon_start - epsilon_final) * \\\n",
    "        math.exp(-1. * frame_idx / epsilon_decay)\n",
    "\n",
    "plt.plot([epsilon_by_frame(i) for i in range(10000)])"
   ]
  },
  {
   "cell_type": "code",
   "execution_count": 6,
   "metadata": {},
   "outputs": [
    {
     "name": "stderr",
     "output_type": "stream",
     "text": [
      "/opt/conda/lib/python3.6/site-packages/gym/logger.py:30: UserWarning: \u001b[33mWARN: Box bound precision lowered by casting to float32\u001b[0m\n",
      "  warnings.warn(colorize('%s: %s'%('WARN', msg % args), 'yellow'))\n"
     ]
    }
   ],
   "source": [
    "env = Environment(illustrate=False, model_path=\"./data/Tetrahedron.obj\", number_of_view_points=10)\n",
    "env = CombiningObservationsWrapper(env)\n",
    "env = StepPenaltyRewardWrapper(env)\n",
    "env = DepthMapWrapper(env)"
   ]
  },
  {
   "cell_type": "code",
   "execution_count": 7,
   "metadata": {
    "scrolled": true
   },
   "outputs": [],
   "source": [
    "model = CnnDQNA(env.observation_space.shape, env.action_space.n)\n",
    "\n",
    "if USE_CUDA:\n",
    "    model = model.cuda()\n",
    "\n",
    "replay_initial = 100\n",
    "replay_buffer = ReplayBuffer(200, use_gpu=True)"
   ]
  },
  {
   "cell_type": "markdown",
   "metadata": {},
   "source": [
    "### Training"
   ]
  },
  {
   "cell_type": "code",
   "execution_count": null,
   "metadata": {
    "scrolled": true
   },
   "outputs": [
    {
     "data": {
      "image/png": "[encoded data removed]",
      "text/plain": [
       "<Figure size 1440x360 with 2 Axes>"
      ]
     },
     "metadata": {
      "needs_background": "light"
     },
     "output_type": "display_data"
    },
    {
     "name": "stdout",
     "output_type": "stream",
     "text": [
      "Action:  3 (random)\n",
      "Frame:  101 Number of View Points:  3\n",
      "\n",
      "Action:  4 (random)\n",
      "Action:  7 (random)\n",
      "Action:  5 (random)\n",
      "Action:  2 (random)\n",
      "Action:  2 (random)\n",
      "Action:  5 (random)\n",
      "Action:  0\n",
      "Frame:  108 Number of View Points:  7\n",
      "\n",
      "Action:  0 (random)\n",
      "Frame:  109 Number of View Points:  1\n",
      "\n",
      "Action:  1 (random)\n",
      "Action:  7 (random)\n",
      "Action:  7 (random)\n",
      "Action:  0\n",
      "Frame:  113 Number of View Points:  4\n",
      "\n",
      "Action:  0\n",
      "Action:  4 (random)\n",
      "Action:  0\n",
      "Action:  2 (random)\n",
      "Action:  0\n",
      "Action:  5 (random)\n",
      "Frame:  119 Number of View Points:  6\n",
      "\n",
      "Action:  3 (random)\n",
      "Action:  0 (random)\n",
      "Action:  9 (random)\n",
      "Frame:  122 Number of View Points:  3\n",
      "\n",
      "Action:  6 (random)\n",
      "Frame:  123 Number of View Points:  1\n",
      "\n",
      "Action:  0\n",
      "Action:  0\n",
      "Action:  0\n",
      "Action:  0 (random)\n",
      "Action:  8 (random)\n",
      "Action:  2 (random)\n",
      "Frame:  129 Number of View Points:  6\n",
      "\n",
      "Action:  0\n",
      "Action:  0 (random)\n",
      "Action:  8 (random)\n",
      "Action:  0\n",
      "Action:  0\n",
      "Action:  0\n",
      "Action:  3 (random)\n",
      "Action:  7 (random)\n",
      "Frame:  137 Number of View Points:  8\n",
      "\n"
     ]
    }
   ],
   "source": [
    "num_frames = 3500\n",
    "batch_size = 64\n",
    "save_model_path = \"./models/triangle-10vp-dqna-{}.pt\"\n",
    "\n",
    "\n",
    "losses = []\n",
    "all_rewards = []\n",
    "episode_reward = 0\n",
    "\n",
    "state, _ = env.reset()\n",
    "nof_vp = 0\n",
    "for frame_idx in range(1, num_frames + 1):\n",
    "    epsilon = epsilon_by_frame(frame_idx)\n",
    "    action = model.act(state, epsilon)\n",
    "\n",
    "    next_state, reward, done, _ = env.step(action)\n",
    "    replay_buffer.push(state, action, reward, next_state, done)\n",
    "\n",
    "    # QUESTION episode_reward += reward * self._gamma ** t\n",
    "\n",
    "    state = next_state\n",
    "    episode_reward += reward\n",
    "    nof_vp += 1\n",
    "\n",
    "    # env.render(action, state)\n",
    "\n",
    "    if done:\n",
    "        # final_reward = env.final_reward()\n",
    "        # print(\"Number of View Points: \", nof_vp, \" Hausdorff reward: \", final_reward)\n",
    "        print(\"Frame: \", frame_idx, \"Number of View Points: \", nof_vp)\n",
    "        print()\n",
    "\n",
    "        state, _ = env.reset()\n",
    "        nof_vp = 0\n",
    "        all_rewards.append(episode_reward)\n",
    "        episode_reward = 0\n",
    "        \n",
    "    if len(replay_buffer) > replay_initial:\n",
    "        batch = replay_buffer.sample(batch_size)\n",
    "        loss = model.compute_td_loss(*batch)\n",
    "        losses.append(loss.item())\n",
    "        \n",
    "    if frame_idx % 100 == 0:\n",
    "        plot(frame_idx, all_rewards, losses)\n",
    "        \n",
    "    if frame_idx % 500 ==  0:\n",
    "        torch.save(model, save_model_path.format(frame_idx))"
   ]
  },
  {
   "cell_type": "code",
   "execution_count": 10,
   "metadata": {},
   "outputs": [
    {
     "data": {
      "text/plain": [
       "9.0"
      ]
     },
     "execution_count": 10,
     "metadata": {},
     "output_type": "execute_result"
    }
   ],
   "source": [
    "action.item()"
   ]
  },
  {
   "cell_type": "code",
   "execution_count": null,
   "metadata": {},
   "outputs": [],
   "source": []
  },
  {
   "cell_type": "code",
   "execution_count": 25,
   "metadata": {
    "scrolled": true
   },
   "outputs": [
    {
     "name": "stdout",
     "output_type": "stream",
     "text": [
      "9437.184000000001\n",
      "104857.6\n"
     ]
    }
   ],
   "source": [
    "print((6 * 256 * 256 * 8) / 1e6 * 3000)\n",
    "print((10 * 512 * 512 * 8) / 1e6 * 5000)"
   ]
  },
  {
   "cell_type": "code",
   "execution_count": null,
   "metadata": {},
   "outputs": [],
   "source": [
    "TODO Today:\n",
    "    1. check DQN with A, S as input -> send Sergey\n",
    "    2. Smaller depth_maps (6 * 256 * 256)\n",
    "    3. Illustrate reward as area\n",
    "    4. Distributed Buffer\n",
    "    \n",
    "    5. Finish overfit experiments\n",
    "    \n",
    "    6. Experiment radius = 1.0\n",
    "    7. Experiments with smaller reward fine\n",
    "    8. Experiment with different DQN-s\n",
    "    9. ABC - write random model reading\n",
    "    10. * Greedy algo\n",
    "    11. * Voxels\n",
    "\n",
    "Ideas:\n",
    "    1. Add fine for same view_point\n",
    "    \n",
    "Big Experiments:\n",
    "    1. Voxels\n",
    "    2. PointNet\n",
    "    3. Context (N first view_points)\n",
    "    4. Meta-learning, подавать от простой к сложной детальке"
   ]
  }
 ],
 "metadata": {
  "kernelspec": {
   "display_name": "Python 3",
   "language": "python",
   "name": "python3"
  },
  "language_info": {
   "codemirror_mode": {
    "name": "ipython",
    "version": 3
   },
   "file_extension": ".py",
   "mimetype": "text/x-python",
   "name": "python",
   "nbconvert_exporter": "python",
   "pygments_lexer": "ipython3",
   "version": "3.6.9"
  }
 },
 "nbformat": 4,
 "nbformat_minor": 4
}
