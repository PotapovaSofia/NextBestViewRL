{
 "cells": [
  {
   "cell_type": "code",
   "execution_count": 1,
   "metadata": {},
   "outputs": [],
   "source": [
    "import numpy as np\n",
    "import math, random\n",
    "\n",
    "from IPython.display import clear_output\n",
    "import matplotlib.pyplot as plt\n",
    "%matplotlib inline\n",
    "\n",
    "import torch\n",
    "import torch.nn as nn\n",
    "import torch.optim as optim\n",
    "import torch.autograd as autograd \n",
    "import torch.nn.functional as F\n",
    "\n",
    "from geometry.model import Model, combine_observations, get_mesh\n",
    "from geometry.utils.visualisation import illustrate_points, illustrate_mesh, illustrate_voxels\n",
    "from geometry.voxel_grid import VoxelGrid\n",
    "\n",
    "from rl.environment import Environment, CombiningObservationsWrapper\n",
    "from rl.environment import StepPenaltyRewardWrapper, DepthMapWrapper\n",
    "from rl.environment import VoxelGridWrapper, VoxelWrapper\n",
    "from rl.environment import FrameStackWrapper, ActionMaskWrapper\n",
    "from rl.environment import FinalRewardWrapper\n",
    "\n",
    "\n",
    "from rl.dqn import CnnDQN, CnnDQNA, VoxelDQN\n",
    "from rl.utils import DiskReplayBuffer, ReplayBuffer\n",
    "\n",
    "\n",
    "# !conda install -c conda-forge pyembree\n",
    "# !conda install -c conda-forge igl\n",
    "# !pip install Cython\n",
    "# !pip install gym"
   ]
  },
  {
   "cell_type": "code",
   "execution_count": 2,
   "metadata": {},
   "outputs": [],
   "source": [
    "def plot(frame_idx, rewards, novps, losses):\n",
    "    clear_output(True)\n",
    "    plt.figure(figsize=(20,5))\n",
    "    plt.subplot(131)\n",
    "    plt.title('frame %s. reward: %s' % (frame_idx, np.mean(rewards[-10:])))\n",
    "    plt.plot(rewards)\n",
    "    plt.subplot(132)\n",
    "    plt.title('number of vp: %s' % np.mean(novps[-10:]))\n",
    "    plt.plot(novps)\n",
    "    plt.subplot(133)\n",
    "    plt.title('loss')\n",
    "    if len(losses) > 20:\n",
    "        plt.plot(losses[20:])\n",
    "    else:\n",
    "        plt.plot(losses)\n",
    "    plt.show()"
   ]
  },
  {
   "cell_type": "markdown",
   "metadata": {},
   "source": [
    "## DQN"
   ]
  },
  {
   "cell_type": "code",
   "execution_count": 3,
   "metadata": {},
   "outputs": [],
   "source": [
    "USE_CUDA = torch.cuda.is_available()\n",
    "\n",
    "if USE_CUDA:\n",
    "    torch.cuda.set_device(0)\n",
    "    print(torch.cuda.current_device())"
   ]
  },
  {
   "cell_type": "code",
   "execution_count": 6,
   "metadata": {},
   "outputs": [
    {
     "name": "stderr",
     "output_type": "stream",
     "text": [
      "/opt/conda/lib/python3.6/site-packages/gym/logger.py:30: UserWarning: \u001b[33mWARN: Box bound precision lowered by casting to float32\u001b[0m\n",
      "  warnings.warn(colorize('%s: %s'%('WARN', msg % args), 'yellow'))\n"
     ]
    }
   ],
   "source": [
    "env = Environment(illustrate=False, model_path=\"./data/Dude.obj\", number_of_view_points=100)\n",
    "# env = CombiningObservationsWrapper(env)\n",
    "# env = StepPenaltyRewardWrapper(env, weight=1.0)\n",
    "# env = DepthMapWrapper(env)\n",
    "\n",
    "env = FinalRewardWrapper(env, illustrate=True)\n",
    "env = VoxelGridWrapper(env)\n",
    "env = CombiningObservationsWrapper(env)\n",
    "env = VoxelWrapper(env)\n",
    "env = StepPenaltyRewardWrapper(env)\n",
    "env = FrameStackWrapper(env, num_stack=4, lz4_compress=False)\n",
    "env = ActionMaskWrapper(env)"
   ]
  },
  {
   "cell_type": "code",
   "execution_count": 7,
   "metadata": {},
   "outputs": [
    {
     "name": "stderr",
     "output_type": "stream",
     "text": [
      "unable to load materials from: FinalBaseMesh.mtl\n",
      "specified material (default)  not loaded!\n"
     ]
    },
    {
     "name": "stdout",
     "output_type": "stream",
     "text": [
      "0.3227646265178462 0.23361493030845826 0.5563795568263045\n",
      "0.23361493030845826\n",
      "0.3052455128991373 0.25113404392716715 0.5563795568263045\n",
      "0.25113404392716715\n",
      "0.2434073347234147 0.45753977035163895 0.7009471050750536\n",
      "0.45753977035163895\n",
      "0.33580686046036223 0.47057269636594223 0.8063795568263045\n",
      "0.47057269636594223\n"
     ]
    }
   ],
   "source": [
    "state, _, mask = env.reset()\n",
    "for frame_idx in range(4):\n",
    "    action = env.action_space.sample()\n",
    "    next_state, reward, done, _, mask = env.step(action)"
   ]
  },
  {
   "cell_type": "code",
   "execution_count": 8,
   "metadata": {},
   "outputs": [
    {
     "data": {
      "application/vnd.jupyter.widget-view+json": {
       "model_id": "07d73ee9e2f94c0c80bbc1b2a5c8db44",
       "version_major": 2,
       "version_minor": 0
      },
      "text/plain": [
       "Output()"
      ]
     },
     "metadata": {},
     "output_type": "display_data"
    },
    {
     "data": {
      "text/plain": [
       "0.42012922249897366"
      ]
     },
     "execution_count": 8,
     "metadata": {},
     "output_type": "execute_result"
    }
   ],
   "source": [
    "env.final_reward()"
   ]
  },
  {
   "cell_type": "code",
   "execution_count": 6,
   "metadata": {},
   "outputs": [
    {
     "data": {
      "application/vnd.jupyter.widget-view+json": {
       "model_id": "1d5a4decc560415bb079a9a7ff4b8214",
       "version_major": 2,
       "version_minor": 0
      },
      "text/plain": [
       "Plot(antialias=3, axes=['x', 'y', 'z'], axes_helper=1.0, background_color=16777215, camera=[2, -3, 0.2, 0.0, 0…"
      ]
     },
     "metadata": {},
     "output_type": "display_data"
    }
   ],
   "source": [
    "illustrate_voxels(next_state)"
   ]
  },
  {
   "cell_type": "code",
   "execution_count": 12,
   "metadata": {
    "scrolled": false
   },
   "outputs": [],
   "source": [
    "from rl.dqn import CnnDQN, CnnDQNA\n",
    "\n",
    "model = VoxelDQN(env.observation_space.shape, env.action_space.n)\n",
    "\n",
    "if USE_CUDA:\n",
    "    model = model.cuda()\n",
    "\n",
    "replay_initial = 1000\n",
    "replay_buffer = DiskReplayBuffer(capacity=100000,\n",
    "                                 overwrite=True,\n",
    "                                 location=\"buffer_voxels/\",\n",
    "                                 num_actions=env.action_space.n,\n",
    "                                 observation_dtype=env.observation_space.dtype,\n",
    "                                 observation_shape=env.observation_space.shape)"
   ]
  },
  {
   "cell_type": "code",
   "execution_count": 6,
   "metadata": {},
   "outputs": [
    {
     "data": {
      "text/plain": [
       "[<matplotlib.lines.Line2D at 0x7f86ad66c208>]"
      ]
     },
     "execution_count": 6,
     "metadata": {},
     "output_type": "execute_result"
    },
    {
     "data": {
      "image/png": "[encoded data removed]",
      "text/plain": [
       "<Figure size 432x288 with 1 Axes>"
      ]
     },
     "metadata": {
      "needs_background": "light"
     },
     "output_type": "display_data"
    }
   ],
   "source": [
    "epsilon_start = 1.0\n",
    "epsilon_final = 0.01\n",
    "epsilon_decay = 10000\n",
    "\n",
    "epsilon_by_frame = lambda frame_idx: epsilon_final + (epsilon_start - epsilon_final) * \\\n",
    "        math.exp(-1. * frame_idx / epsilon_decay)\n",
    "\n",
    "plt.plot([epsilon_by_frame(i) for i in range(50000)])"
   ]
  },
  {
   "cell_type": "markdown",
   "metadata": {},
   "source": [
    "### Training"
   ]
  },
  {
   "cell_type": "code",
   "execution_count": 7,
   "metadata": {
    "scrolled": true
   },
   "outputs": [
    {
     "data": {
      "image/png": "[encoded data removed]",
      "text/plain": [
       "<Figure size 1440x360 with 3 Axes>"
      ]
     },
     "metadata": {
      "needs_background": "light"
     },
     "output_type": "display_data"
    },
    {
     "name": "stdout",
     "output_type": "stream",
     "text": [
      "Action:  63\n",
      "0.3790706183680937 0.43607320565897906 0.8151438240270727\n",
      "0.43607320565897906\n",
      "Action:  63\n",
      "0.3790706183680937 0.43607320565897906 0.8151438240270727\n",
      "0.43607320565897906\n",
      "Action:  63\n",
      "0.3790706183680937 0.43607320565897906 0.8151438240270727\n",
      "0.43607320565897906\n",
      "Action:  63\n",
      "0.3790706183680937 0.43607320565897906 0.8151438240270727\n",
      "0.43607320565897906\n",
      "Action:  63\n",
      "0.3790706183680937 0.43607320565897906 0.8151438240270727\n",
      "0.43607320565897906\n",
      "Action:  63\n",
      "0.3790706183680937 0.43607320565897906 0.8151438240270727\n",
      "0.43607320565897906\n",
      "Action:  63\n",
      "0.3790706183680937 0.43607320565897906 0.8151438240270727\n",
      "0.43607320565897906\n",
      "Action:  63\n",
      "0.3790706183680937 0.43607320565897906 0.8151438240270727\n",
      "0.43607320565897906\n",
      "Action:  63\n",
      "0.3790706183680937 0.43607320565897906 0.8151438240270727\n",
      "0.43607320565897906\n",
      "Action:  63\n",
      "0.3790706183680937 0.43607320565897906 0.8151438240270727\n",
      "0.43607320565897906\n",
      "Action:  63\n",
      "0.3790706183680937 0.43607320565897906 0.8151438240270727\n",
      "0.43607320565897906\n",
      "Action:  63\n",
      "0.3790706183680937 0.43607320565897906 0.8151438240270727\n",
      "0.43607320565897906\n",
      "Action:  63\n",
      "0.3790706183680937 0.43607320565897906 0.8151438240270727\n",
      "0.43607320565897906\n",
      "Action:  63\n",
      "0.3790706183680937 0.43607320565897906 0.8151438240270727\n",
      "0.43607320565897906\n",
      "Action:  63\n",
      "0.3790706183680937 0.43607320565897906 0.8151438240270727\n",
      "0.43607320565897906\n",
      "Action:  63\n",
      "0.3790706183680937 0.43607320565897906 0.8151438240270727\n",
      "0.43607320565897906\n",
      "Action:  63\n",
      "0.3790706183680937 0.43607320565897906 0.8151438240270727\n",
      "0.43607320565897906\n",
      "Action:  63\n",
      "0.3790706183680937 0.43607320565897906 0.8151438240270727\n",
      "0.43607320565897906\n",
      "Action:  63\n",
      "0.3790706183680937 0.43607320565897906 0.8151438240270727\n",
      "0.43607320565897906\n",
      "Action:  63\n",
      "0.3790706183680937 0.43607320565897906 0.8151438240270727\n",
      "0.43607320565897906\n",
      "Action:  63\n",
      "0.3790706183680937 0.43607320565897906 0.8151438240270727\n",
      "0.43607320565897906\n",
      "Action:  63\n",
      "0.3790706183680937 0.43607320565897906 0.8151438240270727\n",
      "0.43607320565897906\n",
      "Action:  63\n",
      "0.3790706183680937 0.43607320565897906 0.8151438240270727\n",
      "0.43607320565897906\n",
      "Action:  63\n",
      "0.3790706183680937 0.43607320565897906 0.8151438240270727\n",
      "0.43607320565897906\n",
      "Action:  63\n",
      "0.3790706183680937 0.43607320565897906 0.8151438240270727\n",
      "0.43607320565897906\n",
      "Action:  75\n",
      "0.47613219094247244 0.17194238118466693 0.6480745721271394\n",
      "0.17194238118466693\n"
     ]
    },
    {
     "name": "stderr",
     "output_type": "stream",
     "text": [
      "IOPub message rate exceeded.\n",
      "The notebook server will temporarily stop sending output\n",
      "to the client in order to avoid crashing it.\n",
      "To change this limit, set the config variable\n",
      "`--NotebookApp.iopub_msg_rate_limit`.\n",
      "\n",
      "Current values:\n",
      "NotebookApp.iopub_msg_rate_limit=1000.0 (msgs/sec)\n",
      "NotebookApp.rate_limit_window=3.0 (secs)\n",
      "\n"
     ]
    },
    {
     "name": "stdout",
     "output_type": "stream",
     "text": [
      "Action:  63\n",
      "0.47191198533088846 0.46993622268035534 0.9418482080112438\n",
      "0.46993622268035534\n",
      "Action:  63\n",
      "0.47187031171861976 0.46997789629262404 0.9418482080112438\n",
      "0.46997789629262404\n",
      "Action:  63\n",
      "0.47187031171861976 0.46997789629262404 0.9418482080112438\n",
      "0.46997789629262404\n",
      "Action:  63\n",
      "0.47187031171861976 0.46997789629262404 0.9418482080112438\n",
      "0.46997789629262404\n",
      "Action:  63\n",
      "0.47187031171861976 0.46997789629262404 0.9418482080112438\n",
      "0.46997789629262404\n",
      "Action:  63\n",
      "0.47187031171861976 0.46997789629262404 0.9418482080112438\n",
      "0.46997789629262404\n",
      "Action:  63\n",
      "0.47187031171861976 0.46997789629262404 0.9418482080112438\n",
      "0.46997789629262404\n",
      "Action:  63\n",
      "0.47187031171861976 0.46997789629262404 0.9418482080112438\n",
      "0.46997789629262404\n",
      "Action:  63\n",
      "0.47187031171861976 0.46997789629262404 0.9418482080112438\n",
      "0.46997789629262404\n",
      "Action:  63\n",
      "0.47187031171861976 0.46997789629262404 0.9418482080112438\n",
      "0.46997789629262404\n",
      "Action:  63\n",
      "0.47187031171861976 0.46997789629262404 0.9418482080112438\n",
      "0.46997789629262404\n",
      "Action:  63\n",
      "0.47187031171861976 0.46997789629262404 0.9418482080112438\n",
      "0.46997789629262404\n",
      "Action:  63\n",
      "0.47187031171861976 0.46997789629262404 0.9418482080112438\n",
      "0.46997789629262404\n",
      "Action:  63\n",
      "0.47182863810635106 0.47001956990489274 0.9418482080112438\n",
      "0.47001956990489274\n",
      "Action:  63\n",
      "0.47187031171861976 0.46997789629262404 0.9418482080112438\n",
      "0.46997789629262404\n",
      "Action:  63\n",
      "0.47187031171861976 0.46997789629262404 0.9418482080112438\n",
      "0.46997789629262404\n",
      "Action:  63\n",
      "0.47182863810635106 0.47001956990489274 0.9418482080112438\n",
      "0.47001956990489274\n",
      "Action:  63\n",
      "0.47182863810635106 0.47001956990489274 0.9418482080112438\n",
      "0.47001956990489274\n",
      "Action:  63\n",
      "0.47182863810635106 0.47001956990489274 0.9418482080112438\n",
      "0.47001956990489274\n",
      "Action:  63\n",
      "0.47182863810635106 0.47001956990489274 0.9418482080112438\n",
      "0.47001956990489274\n",
      "Action:  75\n",
      "0.5008054617980976 0.17414566917090546 0.674951130969003\n",
      "0.17414566917090546\n",
      "Action:  63\n",
      "0.4889153114452286 0.2527769532852936 0.7416922647305222\n",
      "0.2527769532852936\n",
      "Action:  63\n",
      "0.4889153114452286 0.2527769532852936 0.7416922647305222\n",
      "0.2527769532852936\n",
      "Action:  63\n",
      "0.4889153114452286 0.2527769532852936 0.7416922647305222\n",
      "0.2527769532852936\n",
      "Action:  63\n",
      "0.4889153114452286 0.2527769532852936 0.7416922647305222\n",
      "0.2527769532852936\n"
     ]
    },
    {
     "ename": "KeyboardInterrupt",
     "evalue": "",
     "output_type": "error",
     "traceback": [
      "\u001b[0;31m---------------------------------------------------------------------------\u001b[0m",
      "\u001b[0;31mKeyboardInterrupt\u001b[0m                         Traceback (most recent call last)",
      "\u001b[0;32m<ipython-input-7-e561da6995bc>\u001b[0m in \u001b[0;36m<module>\u001b[0;34m\u001b[0m\n\u001b[1;32m     49\u001b[0m \u001b[0;34m\u001b[0m\u001b[0m\n\u001b[1;32m     50\u001b[0m     \u001b[0;32mif\u001b[0m \u001b[0mframe_idx\u001b[0m \u001b[0;34m>\u001b[0m \u001b[0mreplay_initial\u001b[0m\u001b[0;34m:\u001b[0m\u001b[0;34m\u001b[0m\u001b[0;34m\u001b[0m\u001b[0m\n\u001b[0;32m---> 51\u001b[0;31m         \u001b[0mbatch\u001b[0m \u001b[0;34m=\u001b[0m \u001b[0mreplay_buffer\u001b[0m\u001b[0;34m.\u001b[0m\u001b[0msample\u001b[0m\u001b[0;34m(\u001b[0m\u001b[0mbatch_size\u001b[0m\u001b[0;34m)\u001b[0m\u001b[0;34m\u001b[0m\u001b[0;34m\u001b[0m\u001b[0m\n\u001b[0m\u001b[1;32m     52\u001b[0m         \u001b[0mloss\u001b[0m \u001b[0;34m=\u001b[0m \u001b[0mmodel\u001b[0m\u001b[0;34m.\u001b[0m\u001b[0mcompute_td_loss\u001b[0m\u001b[0;34m(\u001b[0m\u001b[0;34m*\u001b[0m\u001b[0mbatch\u001b[0m\u001b[0;34m)\u001b[0m\u001b[0;34m\u001b[0m\u001b[0;34m\u001b[0m\u001b[0m\n\u001b[1;32m     53\u001b[0m         \u001b[0mlosses\u001b[0m\u001b[0;34m.\u001b[0m\u001b[0mappend\u001b[0m\u001b[0;34m(\u001b[0m\u001b[0mloss\u001b[0m\u001b[0;34m.\u001b[0m\u001b[0mitem\u001b[0m\u001b[0;34m(\u001b[0m\u001b[0;34m)\u001b[0m\u001b[0;34m)\u001b[0m\u001b[0;34m\u001b[0m\u001b[0;34m\u001b[0m\u001b[0m\n",
      "\u001b[0;32m/tf/NextBestViewRL/rl/utils.py\u001b[0m in \u001b[0;36msample\u001b[0;34m(self, batch_size)\u001b[0m\n\u001b[1;32m    111\u001b[0m         \u001b[0mindices\u001b[0m \u001b[0;34m=\u001b[0m \u001b[0mnp\u001b[0m\u001b[0;34m.\u001b[0m\u001b[0mrandom\u001b[0m\u001b[0;34m.\u001b[0m\u001b[0mchoice\u001b[0m\u001b[0;34m(\u001b[0m\u001b[0mself\u001b[0m\u001b[0;34m.\u001b[0m\u001b[0m_size\u001b[0m\u001b[0;34m,\u001b[0m \u001b[0mbatch_size\u001b[0m\u001b[0;34m)\u001b[0m\u001b[0;34m\u001b[0m\u001b[0;34m\u001b[0m\u001b[0m\n\u001b[1;32m    112\u001b[0m \u001b[0;34m\u001b[0m\u001b[0m\n\u001b[0;32m--> 113\u001b[0;31m         \u001b[0mstate\u001b[0m \u001b[0;34m=\u001b[0m \u001b[0mself\u001b[0m\u001b[0;34m.\u001b[0m\u001b[0m_states\u001b[0m\u001b[0;34m[\u001b[0m\u001b[0mindices\u001b[0m\u001b[0;34m]\u001b[0m\u001b[0;34m\u001b[0m\u001b[0;34m\u001b[0m\u001b[0m\n\u001b[0m\u001b[1;32m    114\u001b[0m         \u001b[0maction\u001b[0m \u001b[0;34m=\u001b[0m \u001b[0mself\u001b[0m\u001b[0;34m.\u001b[0m\u001b[0m_actions\u001b[0m\u001b[0;34m[\u001b[0m\u001b[0mindices\u001b[0m\u001b[0;34m]\u001b[0m\u001b[0;34m\u001b[0m\u001b[0;34m\u001b[0m\u001b[0m\n\u001b[1;32m    115\u001b[0m         \u001b[0mreward\u001b[0m \u001b[0;34m=\u001b[0m \u001b[0mself\u001b[0m\u001b[0;34m.\u001b[0m\u001b[0m_rewards\u001b[0m\u001b[0;34m[\u001b[0m\u001b[0mindices\u001b[0m\u001b[0;34m]\u001b[0m\u001b[0;34m\u001b[0m\u001b[0;34m\u001b[0m\u001b[0m\n",
      "\u001b[0;32m/opt/conda/lib/python3.6/site-packages/numpy/core/memmap.py\u001b[0m in \u001b[0;36m__getitem__\u001b[0;34m(self, index)\u001b[0m\n\u001b[1;32m    329\u001b[0m \u001b[0;34m\u001b[0m\u001b[0m\n\u001b[1;32m    330\u001b[0m     \u001b[0;32mdef\u001b[0m \u001b[0m__getitem__\u001b[0m\u001b[0;34m(\u001b[0m\u001b[0mself\u001b[0m\u001b[0;34m,\u001b[0m \u001b[0mindex\u001b[0m\u001b[0;34m)\u001b[0m\u001b[0;34m:\u001b[0m\u001b[0;34m\u001b[0m\u001b[0;34m\u001b[0m\u001b[0m\n\u001b[0;32m--> 331\u001b[0;31m         \u001b[0mres\u001b[0m \u001b[0;34m=\u001b[0m \u001b[0msuper\u001b[0m\u001b[0;34m(\u001b[0m\u001b[0mmemmap\u001b[0m\u001b[0;34m,\u001b[0m \u001b[0mself\u001b[0m\u001b[0;34m)\u001b[0m\u001b[0;34m.\u001b[0m\u001b[0m__getitem__\u001b[0m\u001b[0;34m(\u001b[0m\u001b[0mindex\u001b[0m\u001b[0;34m)\u001b[0m\u001b[0;34m\u001b[0m\u001b[0;34m\u001b[0m\u001b[0m\n\u001b[0m\u001b[1;32m    332\u001b[0m         \u001b[0;32mif\u001b[0m \u001b[0mtype\u001b[0m\u001b[0;34m(\u001b[0m\u001b[0mres\u001b[0m\u001b[0;34m)\u001b[0m \u001b[0;32mis\u001b[0m \u001b[0mmemmap\u001b[0m \u001b[0;32mand\u001b[0m \u001b[0mres\u001b[0m\u001b[0;34m.\u001b[0m\u001b[0m_mmap\u001b[0m \u001b[0;32mis\u001b[0m \u001b[0;32mNone\u001b[0m\u001b[0;34m:\u001b[0m\u001b[0;34m\u001b[0m\u001b[0;34m\u001b[0m\u001b[0m\n\u001b[1;32m    333\u001b[0m             \u001b[0;32mreturn\u001b[0m \u001b[0mres\u001b[0m\u001b[0;34m.\u001b[0m\u001b[0mview\u001b[0m\u001b[0;34m(\u001b[0m\u001b[0mtype\u001b[0m\u001b[0;34m=\u001b[0m\u001b[0mndarray\u001b[0m\u001b[0;34m)\u001b[0m\u001b[0;34m\u001b[0m\u001b[0;34m\u001b[0m\u001b[0m\n",
      "\u001b[0;32m/opt/conda/lib/python3.6/site-packages/numpy/core/memmap.py\u001b[0m in \u001b[0;36m__array_finalize__\u001b[0;34m(self, obj)\u001b[0m\n\u001b[1;32m    283\u001b[0m         \u001b[0;32mreturn\u001b[0m \u001b[0mself\u001b[0m\u001b[0;34m\u001b[0m\u001b[0;34m\u001b[0m\u001b[0m\n\u001b[1;32m    284\u001b[0m \u001b[0;34m\u001b[0m\u001b[0m\n\u001b[0;32m--> 285\u001b[0;31m     \u001b[0;32mdef\u001b[0m \u001b[0m__array_finalize__\u001b[0m\u001b[0;34m(\u001b[0m\u001b[0mself\u001b[0m\u001b[0;34m,\u001b[0m \u001b[0mobj\u001b[0m\u001b[0;34m)\u001b[0m\u001b[0;34m:\u001b[0m\u001b[0;34m\u001b[0m\u001b[0;34m\u001b[0m\u001b[0m\n\u001b[0m\u001b[1;32m    286\u001b[0m         \u001b[0;32mif\u001b[0m \u001b[0mhasattr\u001b[0m\u001b[0;34m(\u001b[0m\u001b[0mobj\u001b[0m\u001b[0;34m,\u001b[0m \u001b[0;34m'_mmap'\u001b[0m\u001b[0;34m)\u001b[0m \u001b[0;32mand\u001b[0m \u001b[0mnp\u001b[0m\u001b[0;34m.\u001b[0m\u001b[0mmay_share_memory\u001b[0m\u001b[0;34m(\u001b[0m\u001b[0mself\u001b[0m\u001b[0;34m,\u001b[0m \u001b[0mobj\u001b[0m\u001b[0;34m)\u001b[0m\u001b[0;34m:\u001b[0m\u001b[0;34m\u001b[0m\u001b[0;34m\u001b[0m\u001b[0m\n\u001b[1;32m    287\u001b[0m             \u001b[0mself\u001b[0m\u001b[0;34m.\u001b[0m\u001b[0m_mmap\u001b[0m \u001b[0;34m=\u001b[0m \u001b[0mobj\u001b[0m\u001b[0;34m.\u001b[0m\u001b[0m_mmap\u001b[0m\u001b[0;34m\u001b[0m\u001b[0;34m\u001b[0m\u001b[0m\n",
      "\u001b[0;31mKeyboardInterrupt\u001b[0m: "
     ]
    }
   ],
   "source": [
    "start_frame = 0\n",
    "\n",
    "num_frames = 150000\n",
    "batch_size = 256\n",
    "save_model_path = \"./models/abc-vdqn-occl-{}.pt\"\n",
    "\n",
    "if start_frame > 0:\n",
    "    model = torch.load(save_model_path.format(start_frame))\n",
    "    if USE_CUDA:\n",
    "        model = model.cuda()\n",
    "\n",
    "        \n",
    "losses = []\n",
    "all_rewards = []\n",
    "all_nofs = []\n",
    "episode_reward = 0\n",
    "\n",
    "state, _, mask = env.reset()\n",
    "nof_vp = 0\n",
    "for frame_idx in range(start_frame + 1, num_frames + 1):\n",
    "    epsilon = epsilon_by_frame(frame_idx)\n",
    "    action = model.act(state, mask, epsilon)\n",
    "\n",
    "    next_state, reward, done, _, mask = env.step(action)\n",
    "    replay_buffer.push(state, action, reward, next_state, done, mask)\n",
    "\n",
    "    state = next_state\n",
    "    episode_reward += reward\n",
    "    nof_vp += 1\n",
    "\n",
    "    # env.render(action, state)\n",
    "\n",
    "    if done:\n",
    "        # final_reward = env.final_reward()\n",
    "        # print(\"Number of View Points: \", nof_vp, \" Hausdorff reward: \", final_reward)\n",
    "        print(\"Frame: \", frame_idx, \"Number of View Points: \", nof_vp)\n",
    "        print()\n",
    "\n",
    "        state, _, mask = env.reset()\n",
    "        all_rewards.append(episode_reward)\n",
    "        all_nofs.append(nof_vp)\n",
    "        episode_reward = 0\n",
    "        nof_vp = 0\n",
    "\n",
    "    elif nof_vp > 50:\n",
    "        state, _, mask = env.reset()\n",
    "        episode_reward = 0\n",
    "        nof_vp = 0\n",
    "        \n",
    "    if frame_idx > replay_initial:\n",
    "        batch = replay_buffer.sample(batch_size)\n",
    "        loss = model.compute_td_loss(*batch)\n",
    "        losses.append(loss.item())\n",
    "        \n",
    "    if frame_idx % 100 == 0:\n",
    "        plot(frame_idx, all_rewards, all_nofs, losses)\n",
    "        \n",
    "    if frame_idx % 500 ==  0:\n",
    "        torch.save(model, save_model_path.format(frame_idx))"
   ]
  },
  {
   "cell_type": "code",
   "execution_count": 8,
   "metadata": {},
   "outputs": [
    {
     "data": {
      "image/png": "[encoded data removed]",
      "text/plain": [
       "<Figure size 1440x360 with 3 Axes>"
      ]
     },
     "metadata": {
      "needs_background": "light"
     },
     "output_type": "display_data"
    }
   ],
   "source": [
    "plot(frame_idx, all_rewards, all_nofs, losses)"
   ]
  },
  {
   "cell_type": "code",
   "execution_count": 84,
   "metadata": {},
   "outputs": [
    {
     "data": {
      "application/vnd.jupyter.widget-view+json": {
       "model_id": "f621d166feeb4375ab1dbbd282db5e34",
       "version_major": 2,
       "version_minor": 0
      },
      "text/plain": [
       "Plot(antialias=3, axes=['x', 'y', 'z'], axes_helper=1.0, background_color=16777215, camera=[2, -3, 0.2, 0.0, 0…"
      ]
     },
     "metadata": {},
     "output_type": "display_data"
    }
   ],
   "source": [
    "mesh = env.env.env.env.env.model.mesh\n",
    "illustrate_mesh(mesh.vertices, mesh.faces)"
   ]
  },
  {
   "cell_type": "code",
   "execution_count": null,
   "metadata": {},
   "outputs": [],
   "source": []
  },
  {
   "cell_type": "code",
   "execution_count": null,
   "metadata": {},
   "outputs": [],
   "source": []
  },
  {
   "cell_type": "code",
   "execution_count": 18,
   "metadata": {},
   "outputs": [
    {
     "name": "stdout",
     "output_type": "stream",
     "text": [
      "Action:  75\n",
      "0.45143494336522094 0.1252558778908177 0.5766908212560387\n",
      "0.1252558778908177\n",
      "Action:  63\n",
      "0.42420329831562886 0.3075599867085257 0.7317632850241546\n",
      "0.3075599867085257\n",
      "Action:  63\n",
      "0.42420329831562886 0.3094923538582842 0.7336956521739131\n",
      "0.3094923538582842\n",
      "Action:  63\n",
      "0.42420329831562886 0.3094923538582842 0.7336956521739131\n",
      "0.3094923538582842\n",
      "Action:  63\n",
      "0.42420329831562886 0.3094923538582842 0.7336956521739131\n",
      "0.3094923538582842\n"
     ]
    }
   ],
   "source": [
    "state, action, mask = env.reset()\n",
    "for t in range(5):\n",
    "    action = model.act(state, mask, epsilon=0.0)\n",
    "\n",
    "    state, reward, done, info, mask = env.step(action)"
   ]
  },
  {
   "cell_type": "code",
   "execution_count": 12,
   "metadata": {},
   "outputs": [
    {
     "data": {
      "text/plain": [
       "array([ True,  True,  True,  True,  True,  True, False,  True,  True,\n",
       "        True,  True,  True,  True,  True,  True,  True,  True,  True,\n",
       "        True,  True,  True,  True,  True,  True,  True,  True,  True,\n",
       "        True,  True,  True,  True,  True,  True,  True,  True,  True,\n",
       "        True,  True,  True,  True,  True,  True,  True,  True,  True,\n",
       "        True,  True,  True,  True,  True,  True,  True,  True,  True,\n",
       "        True,  True,  True,  True,  True,  True,  True,  True,  True,\n",
       "       False,  True,  True,  True,  True,  True,  True,  True,  True,\n",
       "        True,  True,  True, False,  True,  True,  True,  True,  True,\n",
       "        True,  True,  True,  True,  True,  True,  True,  True,  True,\n",
       "        True,  True,  True,  True,  True,  True,  True,  True,  True,\n",
       "        True])"
      ]
     },
     "execution_count": 12,
     "metadata": {},
     "output_type": "execute_result"
    }
   ],
   "source": [
    "mask"
   ]
  },
  {
   "cell_type": "code",
   "execution_count": 19,
   "metadata": {},
   "outputs": [],
   "source": [
    "state   = torch.FloatTensor(np.float32(state)).unsqueeze(0).cuda()\n",
    "mask = torch.FloatTensor(np.float32(mask)).cuda()"
   ]
  },
  {
   "cell_type": "code",
   "execution_count": 49,
   "metadata": {},
   "outputs": [],
   "source": [
    "q_value = model.forward(state)"
   ]
  },
  {
   "cell_type": "code",
   "execution_count": 50,
   "metadata": {},
   "outputs": [],
   "source": [
    "q_value *= mask"
   ]
  },
  {
   "cell_type": "code",
   "execution_count": 51,
   "metadata": {},
   "outputs": [
    {
     "name": "stderr",
     "output_type": "stream",
     "text": [
      "/opt/conda/lib/python3.6/site-packages/ipykernel_launcher.py:1: UserWarning: Implicit dimension choice for softmax has been deprecated. Change the call to include dim=X as an argument.\n",
      "  \"\"\"Entry point for launching an IPython kernel.\n"
     ]
    }
   ],
   "source": [
    "q_value = F.softmax(q_value)"
   ]
  },
  {
   "cell_type": "code",
   "execution_count": 52,
   "metadata": {},
   "outputs": [
    {
     "data": {
      "text/plain": [
       "tensor([[0., 0., 0., 0., 0., 0., 0., 0., 0., 0., 0., 0., 0., 0., 0., 0., 0., 0.,\n",
       "         0., 0., 0., 0., 0., 0., 0., 0., 0., 0., 0., 0., 0., 0., 0., 0., 0., 0.,\n",
       "         1., 0., 0., 0., 0., 0., 0., 0., 0., 0., 0., 0., 0., 0., 0., 0., 0., 0.,\n",
       "         0., 0., 0., 0., 0., 0., 0., 0., 0., 0., 0., 0., 0., 0., 0., 0., 0., 0.,\n",
       "         0., 0., 0., 0., 0., 0., 0., 0., 0., 0., 0., 0., 0., 0., 0., 0., 0., 0.,\n",
       "         0., 0., 0., 0., 0., 0., 0., 0., 0., 0.]], device='cuda:0',\n",
       "       grad_fn=<SoftmaxBackward>)"
      ]
     },
     "execution_count": 52,
     "metadata": {},
     "output_type": "execute_result"
    }
   ],
   "source": [
    "q_value"
   ]
  },
  {
   "cell_type": "code",
   "execution_count": 53,
   "metadata": {},
   "outputs": [
    {
     "data": {
      "text/plain": [
       "36"
      ]
     },
     "execution_count": 53,
     "metadata": {},
     "output_type": "execute_result"
    }
   ],
   "source": [
    "q_value.argmax().item()"
   ]
  },
  {
   "cell_type": "code",
   "execution_count": null,
   "metadata": {},
   "outputs": [],
   "source": []
  },
  {
   "cell_type": "code",
   "execution_count": 54,
   "metadata": {},
   "outputs": [],
   "source": [
    "def compute_metrics(env, iter_cnt=10, max_iter=30):\n",
    "    rewards, final_rewards, novp = [], [], []\n",
    "    for _ in range(iter_cnt):\n",
    "        state, action, mask = env.reset()\n",
    "        episode_reward = 0.0\n",
    "        for t in range(max_iter):\n",
    "#             action = model.act(state, mask, epsilon=0.0)\n",
    "            \n",
    "\n",
    "            s   = autograd.Variable(torch.FloatTensor(np.float32(state)).unsqueeze(0), volatile=True).cuda()\n",
    "            m = autograd.Variable(torch.FloatTensor(np.float32(mask)), volatile=True).cuda()\n",
    "            q_value = model.forward(s)\n",
    "            q_value *= m\n",
    "            a = torch.nn.functional.softmax(q_value)\n",
    "            \n",
    "            action = a.argmax().item()\n",
    "            print(action)\n",
    "\n",
    "            state, reward, done, info, mask = env.step(action)\n",
    "            # print(\"REWARD: \", reward)\n",
    "#             env.render(action, state)\n",
    "            episode_reward += reward\n",
    "\n",
    "            if done:\n",
    "                break\n",
    "\n",
    "        final_reward = 0\n",
    "        # final_reward = env.final_reward()\n",
    "        # episode_reward += 1.0 / final_reward\n",
    "        rewards.append(episode_reward)\n",
    "        final_rewards.append(final_reward)\n",
    "        novp.append(t + 1)\n",
    "    return np.mean(rewards), np.mean(final_rewards), np.mean(novp)"
   ]
  },
  {
   "cell_type": "code",
   "execution_count": 55,
   "metadata": {},
   "outputs": [
    {
     "name": "stderr",
     "output_type": "stream",
     "text": [
      "/opt/conda/lib/python3.6/site-packages/ipykernel_launcher.py:10: UserWarning: volatile was removed and now has no effect. Use `with torch.no_grad():` instead.\n",
      "  # Remove the CWD from sys.path while we load stuff.\n",
      "/opt/conda/lib/python3.6/site-packages/ipykernel_launcher.py:11: UserWarning: volatile was removed and now has no effect. Use `with torch.no_grad():` instead.\n",
      "  # This is added back by InteractiveShellApp.init_path()\n",
      "/opt/conda/lib/python3.6/site-packages/ipykernel_launcher.py:14: UserWarning: Implicit dimension choice for softmax has been deprecated. Change the call to include dim=X as an argument.\n",
      "  \n"
     ]
    },
    {
     "name": "stdout",
     "output_type": "stream",
     "text": [
      "75\n",
      "0.45846322352346447 0.007501328236103999 0.46596455175956847\n",
      "0.007501328236103999\n",
      "36\n",
      "0.38924930491195553 0.41681285794445344 0.806062162856409\n",
      "0.41681285794445344\n",
      "60\n",
      "0.4547982138343584 0.36333690047337336 0.8181351143077318\n",
      "0.36333690047337336\n",
      "33\n",
      "0.4140197152245345 0.46807635464446107 0.8820960698689956\n",
      "0.46807635464446107\n",
      "83\n",
      "0.4585896031679164 0.42350646670107917 0.8820960698689956\n",
      "0.42350646670107917\n",
      "59\n",
      "0.4459937652708737 0.44445062209105796 0.8904443873619317\n",
      "0.44445062209105796\n",
      "85\n",
      "0.4557249978936726 0.4388293303878583 0.8945543282815309\n",
      "0.4388293303878583\n",
      "98\n",
      "0.45475608728620776 0.440825726225223 0.8955818135114307\n",
      "0.440825726225223\n",
      "13\n",
      "0.476535512680091 0.4916124451930146 0.9681479578731056\n",
      "0.4916124451930146\n",
      "75\n",
      "0.4717649647887324 0.08067738581875583 0.5524423506074883\n",
      "0.08067738581875583\n",
      "36\n",
      "0.4639964788732394 0.19543818514858052 0.6594346640218199\n",
      "0.19543818514858052\n",
      "60\n",
      "0.4647887323943662 0.24739822520543547 0.7121869575998017\n",
      "0.24739822520543547\n",
      "33\n",
      "0.46307218309859155 0.26926106758328294 0.7323332506818745\n",
      "0.26926106758328294\n",
      "83\n",
      "0.4805017605633803 0.33154882212940423 0.8120505826927845\n",
      "0.33154882212940423\n",
      "59\n",
      "0.40275088028169015 0.5096592362568667 0.9124101165385569\n",
      "0.5096592362568667\n",
      "85\n",
      "0.4836707746478873 0.5078987765546914 0.9915695512025787\n",
      "0.5078987765546914\n",
      "75\n",
      "0.4389715325342466 0.2193639703729824 0.658335502907229\n",
      "0.2193639703729824\n",
      "36\n",
      "0.3898491010273973 0.27299911558286044 0.6628482166102577\n",
      "0.27299911558286044\n",
      "60\n",
      "0.435546875 0.23346293147400854 0.6690098064740085\n",
      "0.23346293147400854\n",
      "33\n",
      "0.4349315068493151 0.2523027203484633 0.6872342271977784\n",
      "0.2523027203484633\n",
      "83\n",
      "0.4322559931506849 0.2582759863685375 0.6905319795192224\n",
      "0.2582759863685375\n",
      "59\n",
      "0.3748929794520548 0.3579022995551482 0.732795279007203\n",
      "0.3579022995551482\n",
      "85\n",
      "0.4470515839041096 0.3658443633318532 0.8128959472359628\n",
      "0.3658443633318532\n",
      "98\n",
      "0.4669038955479452 0.3902513591600302 0.8571552547079754\n",
      "0.3902513591600302\n",
      "13\n",
      "0.4467840325342466 0.42104552574050824 0.8678295582747548\n",
      "0.42104552574050824\n",
      "39\n",
      "0.4306239297945205 0.45456221964572946 0.88518614944025\n",
      "0.45456221964572946\n",
      "40\n",
      "0.3878959760273973 0.5084851747145971 0.8963811507419943\n",
      "0.5084851747145971\n",
      "24\n",
      "0.4299818065068493 0.4684821351750044 0.8984639416818537\n",
      "0.4684821351750044\n",
      "29\n",
      "0.3889661815068493 0.5094977601750044 0.8984639416818537\n",
      "0.5094977601750044\n",
      "93\n",
      "0.4246040239726027 0.4744673984000433 0.899071422372646\n",
      "0.4744673984000433\n",
      "6\n",
      "0.3712275256849315 0.5353072308888773 0.9065347565738089\n",
      "0.5353072308888773\n",
      "74\n",
      "0.4397741866438356 0.4670209187974558 0.9067951054412914\n",
      "0.4670209187974558\n",
      "57\n",
      "0.2974636130136986 0.6093314924275928 0.9067951054412914\n",
      "0.6093314924275928\n",
      "17\n",
      "0.4358679366438356 0.47257604495817773 0.9084439816020133\n",
      "0.47257604495817773\n",
      "64\n",
      "0.4528842037671233 0.45555977783489005 0.9084439816020133\n",
      "0.45555977783489005\n",
      "70\n",
      "0.4083636558219178 0.5000803257800955 0.9084439816020133\n",
      "0.5000803257800955\n",
      "65\n",
      "0.3865047089041096 0.5219392726979037 0.9084439816020133\n",
      "0.5219392726979037\n",
      "90\n",
      "0.4598940496575342 0.4491574126352714 0.9090514622928056\n",
      "0.4491574126352714\n",
      "73\n",
      "0.452589897260274 0.4566351309441866 0.9092250282044606\n",
      "0.4566351309441866\n",
      "68\n",
      "0.4389715325342466 0.470253495670214 0.9092250282044606\n",
      "0.470253495670214\n",
      "14\n",
      "0.4522955907534247 0.4569294374510359 0.9092250282044606\n",
      "0.4569294374510359\n",
      "21\n",
      "0.4345301797945205 0.4746948484099401 0.9092250282044606\n",
      "0.4746948484099401\n",
      "88\n",
      "0.4429580479452055 0.46635376321508265 0.9093118111602881\n",
      "0.46635376321508265\n",
      "79\n",
      "0.4339148116438356 0.47609126316307226 0.9100060748069079\n",
      "0.47609126316307226\n",
      "95\n",
      "0.3789865154109589 0.5357926219664602 0.9147791373774191\n",
      "0.5357926219664602\n",
      "9\n",
      "0.4615528681506849 0.4534866180942166 0.9150394862449015\n",
      "0.4534866180942166\n",
      "75\n",
      "0.49831712789827975 -0.1738828124172444 0.32443431548103535\n",
      "-0.1738828124172444\n",
      "36\n",
      "0.4868362004487659 -0.16240188496773056 0.32443431548103535\n",
      "-0.16240188496773056\n",
      "60\n",
      "0.49012715033657445 0.4784549756604954 0.9685821259970698\n",
      "0.4784549756604954\n",
      "75\n",
      "0.47449086710056687 0.36737660277895123 0.8418674698795181\n",
      "0.36737660277895123\n",
      "36\n",
      "0.4418958639512912 0.4516784332374638 0.893574297188755\n",
      "0.4516784332374638\n",
      "60\n",
      "0.47622296871719505 0.4305708733176108 0.9067938420348058\n",
      "0.4305708733176108\n",
      "33\n",
      "0.4876653369724963 0.44188620251880223 0.9295515394912985\n",
      "0.44188620251880223\n",
      "83\n",
      "0.45444047868990134 0.48632257351893404 0.9407630522088354\n",
      "0.48632257351893404\n",
      "59\n",
      "0.4788473651060256 0.48132666434511223 0.9601740294511378\n",
      "0.48132666434511223\n",
      "75\n",
      "0.3848515576587235 0.13856701569255514 0.5234185733512786\n",
      "0.13856701569255514\n",
      "36\n",
      "0.3665990648414174 0.25708868751389885 0.6236877523553163\n",
      "0.25708868751389885\n",
      "60\n",
      "0.3592191989183708 0.2882908952942806 0.6475100942126514\n",
      "0.2882908952942806\n",
      "33\n",
      "0.3622894484817757 0.3373740777631772 0.6996635262449529\n",
      "0.3373740777631772\n",
      "83\n",
      "0.38200664751281616 0.3398641465652457 0.7218707940780619\n",
      "0.3398641465652457\n",
      "59\n",
      "0.3493605994028505 0.3990916213239328 0.7484522207267833\n",
      "0.3990916213239328\n",
      "85\n",
      "0.42699002873077574 0.38095075188833594 0.8079407806191117\n",
      "0.38095075188833594\n",
      "98\n",
      "0.4518900343642612 0.3965621863625221 0.8484522207267833\n",
      "0.3965621863625221\n",
      "13\n",
      "0.4240324488761196 0.4997225982302061 0.9237550471063257\n",
      "0.4997225982302061\n",
      "39\n",
      "0.35367021576249225 0.5723728528781538 0.926043068640646\n",
      "0.5723728528781538\n",
      "40\n",
      "0.23083206579910992 0.7028153097056007 0.9336473755047107\n",
      "0.7028153097056007\n",
      "24\n",
      "0.3624302856177117 0.579696228514186 0.9421265141318977\n",
      "0.579696228514186\n",
      "29\n",
      "0.3546279082868571 0.5875659005960501 0.9421938088829072\n",
      "0.5875659005960501\n",
      "93\n",
      "0.4297786040223086 0.513626510378768 0.9434051144010767\n",
      "0.513626510378768\n",
      "6\n",
      "0.3749366232888288 0.5881185584069989 0.9630551816958277\n",
      "0.5881185584069989\n",
      "75\n",
      "0.27843986998916576 0.2980162271426308 0.5764560971317966\n",
      "0.2980162271426308\n",
      "36\n",
      "0.2119696641386782 0.5415056130036762 0.7534752771423544\n",
      "0.5415056130036762\n",
      "60\n",
      "0.2543965330444204 0.5990846095445879 0.8534811425890082\n",
      "0.5990846095445879\n",
      "33\n",
      "0.24506608884073672 0.6917630506982391 0.9368291395389758\n",
      "0.6917630506982391\n",
      "83\n",
      "0.27372914409534127 0.6661500277035912 0.9398791717989324\n",
      "0.6661500277035912\n",
      "59\n",
      "0.21089057421451787 0.7318626664447584 0.9427532406592762\n",
      "0.7318626664447584\n",
      "85\n",
      "0.2900888407367281 0.6531922901213867 0.9432811308581148\n",
      "0.6531922901213867\n",
      "98\n",
      "0.18667822318526545 0.7567202166059246 0.9433984397911901\n",
      "0.7567202166059246\n",
      "13\n",
      "0.28982448537378114 0.6945147720606725 0.9843392574344536\n",
      "0.6945147720606725\n",
      "75\n",
      "0.4831064044377206 0.3095765223915477 0.7926829268292683\n",
      "0.3095765223915477\n",
      "36\n",
      "0.4172970247100353 0.37619891024931423 0.7934959349593496\n",
      "0.37619891024931423\n",
      "60\n",
      "0.3789712556732224 0.470622240261737 0.8495934959349594\n",
      "0.470622240261737\n",
      "33\n",
      "0.4604135148764498 0.38917998105850954 0.8495934959349594\n",
      "0.38917998105850954\n",
      "83\n",
      "0.4778113968734241 0.41568453808592554 0.8934959349593496\n",
      "0.41568453808592554\n",
      "59\n",
      "0.348714069591528 0.5447818653678216 0.8934959349593496\n",
      "0.5447818653678216\n",
      "85\n",
      "0.48940998487140697 0.40815099073834915 0.8975609756097561\n",
      "0.40815099073834915\n",
      "98\n",
      "0.41805345436207764 0.48113353750784105 0.8991869918699187\n",
      "0.48113353750784105\n",
      "13\n",
      "0.48789712556732223 0.4194199476034095 0.9073170731707317\n",
      "0.4194199476034095\n",
      "39\n",
      "0.37418053454362077 0.5380145874075988 0.9121951219512195\n",
      "0.5380145874075988\n",
      "40\n",
      "0.3066061522945033 0.6064019777867975 0.9130081300813008\n",
      "0.6064019777867975\n",
      "24\n",
      "0.48461926374180536 0.4357059395102271 0.9203252032520325\n",
      "0.4357059395102271\n",
      "29\n",
      "0.47100353000504286 0.4574517545478027 0.9284552845528455\n",
      "0.4574517545478027\n",
      "93\n",
      "0.47478567826525464 0.4585476550680787 0.9333333333333333\n",
      "0.4585476550680787\n",
      "6\n",
      "0.39939485627836613 0.5339384770549672 0.9333333333333333\n",
      "0.5339384770549672\n",
      "74\n",
      "0.44251134644478063 0.49163499501863406 0.9341463414634147\n",
      "0.49163499501863406\n",
      "57\n",
      "0.259203227433182 0.6765691302903952 0.9357723577235773\n",
      "0.6765691302903952\n",
      "17\n",
      "0.4896621280887544 0.44611022963482283 0.9357723577235773\n",
      "0.44611022963482283\n",
      "64\n",
      "0.4455370650529501 0.49023529267062715 0.9357723577235773\n",
      "0.49023529267062715\n",
      "70\n",
      "0.4589006555723651 0.47687170215121216 0.9357723577235773\n",
      "0.47687170215121216\n",
      "65\n",
      "0.3812405446293495 0.5545318130942278 0.9357723577235773\n",
      "0.5545318130942278\n",
      "90\n",
      "0.45209278870398384 0.4836795690195934 0.9357723577235773\n",
      "0.4836795690195934\n",
      "73\n",
      "0.4659606656580938 0.471437708325646 0.9373983739837398\n",
      "0.471437708325646\n",
      "68\n",
      "0.4720121028744327 0.4694513117597136 0.9414634146341463\n",
      "0.4694513117597136\n",
      "14\n",
      "0.4314170448814927 0.5100463697526536 0.9414634146341463\n",
      "0.5100463697526536\n",
      "21\n"
     ]
    },
    {
     "name": "stdout",
     "output_type": "stream",
     "text": [
      "0.4856278366111952 0.45664858615303244 0.9422764227642276\n",
      "0.45664858615303244\n",
      "88\n",
      "0.4876449823499748 0.4554444485443342 0.943089430894309\n",
      "0.4554444485443342\n",
      "79\n",
      "0.4868885526979324 0.45620087819637656 0.943089430894309\n",
      "0.45620087819637656\n",
      "95\n",
      "0.402672718103883 0.5412297209205073 0.9439024390243902\n",
      "0.5412297209205073\n",
      "9\n",
      "0.47402924861321233 0.46987319041117787 0.9439024390243902\n",
      "0.46987319041117787\n",
      "75\n",
      "0.4959910430511413 0.3945139414234461 0.8905049844745874\n",
      "0.3945139414234461\n",
      "36\n",
      "0.4826278532216122 0.4654028707528934 0.9480307239745056\n",
      "0.4654028707528934\n",
      "60\n",
      "0.48949003178272177 0.47455638102982933 0.9640464128125511\n",
      "0.47455638102982933\n",
      "75\n",
      "0.4495060373216246 0.2607704793931918 0.7102765167148164\n",
      "0.2607704793931918\n",
      "36\n",
      "0.4339553604098061 0.2895279247738506 0.7234832851836567\n",
      "0.2895279247738506\n",
      "60\n",
      "0.4606659348701061 0.27602411878239086 0.736690053652497\n",
      "0.27602411878239086\n",
      "33\n",
      "0.42993047932674716 0.3174900737066824 0.7474205530334296\n",
      "0.3174900737066824\n",
      "83\n",
      "0.4610318331503842 0.3074370071302597 0.7684688402806439\n",
      "0.3074370071302597\n",
      "59\n",
      "0.354006586169045 0.5378629969923252 0.8918695831613702\n",
      "0.5378629969923252\n",
      "85\n",
      "0.4544456641053787 0.4749806668892561 0.9294263309946348\n",
      "0.4749806668892561\n",
      "98\n",
      "0.44548115623856566 0.48972313596118666 0.9352042921997523\n",
      "0.48972313596118666\n",
      "13\n",
      "0.4696304427369191 0.4754789258144635 0.9451093685513826\n",
      "0.4754789258144635\n",
      "39\n",
      "0.4621295279912184 0.4879323787359793 0.9500619067271977\n",
      "0.4879323787359793\n"
     ]
    }
   ],
   "source": [
    "agent_func = lambda s : model.act(s, epsilon=0.0)\n",
    "result = compute_metrics(env)"
   ]
  },
  {
   "cell_type": "code",
   "execution_count": 56,
   "metadata": {},
   "outputs": [
    {
     "data": {
      "text/plain": [
       "(-6.88126904400267, 0.0, 12.2)"
      ]
     },
     "execution_count": 56,
     "metadata": {},
     "output_type": "execute_result"
    }
   ],
   "source": [
    "result"
   ]
  },
  {
   "cell_type": "code",
   "execution_count": 151,
   "metadata": {
    "scrolled": true
   },
   "outputs": [
    {
     "name": "stdout",
     "output_type": "stream",
     "text": [
      "9.437184 G\n",
      "104.8576 G\n",
      "9.5367431640625 T\n",
      "0.3814697265625 T\n"
     ]
    }
   ],
   "source": [
    "print((6 * 256 * 256 * 8) / 1e9 * 3000, 'G')\n",
    "print((10 * 512 * 512 * 8) / 1e9 * 5000, 'G')\n",
    "print(1e6 * 10 * 512 * 512 * 4 / 2 ** 40, 'T')\n",
    "print(1e5 * 64 * 64 * 64 * 4 * 4 / 2 ** 40, 'T')"
   ]
  },
  {
   "cell_type": "code",
   "execution_count": null,
   "metadata": {},
   "outputs": [],
   "source": []
  },
  {
   "cell_type": "code",
   "execution_count": null,
   "metadata": {},
   "outputs": [],
   "source": [
    "TODO Today:\n",
    "    1. + check DQN with A, S as input -> send Sergey\n",
    "    2. + Smaller depth_maps (6 * 256 * 256)\n",
    "    3. + Illustrate reward as area + novp\n",
    "    4. + Distributed Buffer\n",
    "    5. + Buffer on hard disk (memmap)\n",
    "    6. Floats to int\n",
    "    7. GPU raycasting\n",
    "    8. * Greedy algo\n",
    "    9. * Voxels\n",
    "    10. CNN different shapes input\n",
    "    11. Preprocessed depth_maps\n",
    "    \n",
    "    10. Overfit experiments \n",
    "    11. ABC experiment\n",
    "    \n",
    "    12. Experiment radius = 1.0\n",
    "    13. Experiments with smaller reward fine\n",
    "    14. Experiment with different DQN-s\n",
    "    15. ABC - write random model reading\n",
    "    \n",
    "\n",
    "Ideas:\n",
    "    1. Add fine for same view_point\n",
    "    \n",
    "Big Experiments:\n",
    "    1. Voxels\n",
    "    2. PointNet\n",
    "    3. Context (N first view_points)\n",
    "    4. Meta-learning, подавать от простой к сложной детальке"
   ]
  },
  {
   "cell_type": "code",
   "execution_count": 15,
   "metadata": {},
   "outputs": [],
   "source": [
    "difficult = [\n",
    "    \"00020107_b27a1602d1d44a3d89140ce4_007.obj\",\n",
    "    \"00010095_5ae1ee45b583467fa009adc4_006.obj\",\n",
    "    \"00010163_ccef4063b69f428e91b498c9_008.obj\",\n",
    "    \"00010145_77759770d8cd48af80775d86_002.obj\",\n",
    "    \"00010153_556de37e0a7447fcbfbdfd22_000.obj\",\n",
    "    \"00010162_ccef4063b69f428e91b498c9_007.obj\",\n",
    "    \"00020074_37170a1ba80747f1a1478985_000.obj\",\n",
    "    \"00020077_bf146f0c5dee4199be920a21_000.obj\",\n",
    "    \"00020080_7a689565e1e0481ca3ad4a6f_000.obj\",\n",
    "    \"00010164_ccef4063b69f428e91b498c9_009.obj\",\n",
    "    \"00010179_f91d806ac1e34ea1b14e23be_000.obj\",\n",
    "    \"00020095_842a932142a9431784488344_000.obj\",\n",
    "    \"00020097_e24ecc9c647f4bd1832bfb1d_000.obj\",\n",
    "    \"00020106_b27a1602d1d44a3d89140ce4_006.obj\",\n",
    "    \"00020141_b27a1602d1d44a3d89140ce4_041.obj\",\n",
    "    \"00020155_b27a1602d1d44a3d89140ce4_055.obj\",\n",
    "    \"00020186_b27a1602d1d44a3d89140ce4_086.obj\",\n",
    "    \"00020202_b27a1602d1d44a3d89140ce4_102.obj\",\n",
    "    \"00020203_b27a1602d1d44a3d89140ce4_103.obj\",\n",
    "    \"00020213_1f65839d7f6c42bf8c2b3391_000.obj\"]"
   ]
  },
  {
   "cell_type": "code",
   "execution_count": null,
   "metadata": {},
   "outputs": [],
   "source": []
  }
 ],
 "metadata": {
  "kernelspec": {
   "display_name": "Python 3",
   "language": "python",
   "name": "python3"
  },
  "language_info": {
   "codemirror_mode": {
    "name": "ipython",
    "version": 3
   },
   "file_extension": ".py",
   "mimetype": "text/x-python",
   "name": "python",
   "nbconvert_exporter": "python",
   "pygments_lexer": "ipython3",
   "version": "3.7.4"
  }
 },
 "nbformat": 4,
 "nbformat_minor": 4
}
