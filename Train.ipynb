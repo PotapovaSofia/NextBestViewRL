{
 "cells": [
  {
   "cell_type": "code",
   "execution_count": 25,
   "metadata": {},
   "outputs": [],
   "source": [
    "import numpy as np\n",
    "import math, random\n",
    "\n",
    "from IPython.display import clear_output\n",
    "import matplotlib.pyplot as plt\n",
    "%matplotlib inline\n",
    "\n",
    "import torch\n",
    "import torch.nn as nn\n",
    "import torch.optim as optim\n",
    "import torch.autograd as autograd \n",
    "import torch.nn.functional as F\n",
    "\n",
    "from geometry.model import Model, combine_observations, get_mesh\n",
    "from geometry.utils.visualisation import illustrate_points, illustrate_mesh, illustrate_voxels\n",
    "\n",
    "from rl.environment import Environment, CombiningObservationsWrapper\n",
    "from rl.environment import StepPenaltyRewardWrapper, DepthMapWrapper\n",
    "from rl.dqn import CnnDQN, CnnDQNA\n",
    "\n",
    "\n",
    "# !conda install -c conda-forge pyembree\n",
    "# !conda install -c conda-forge igl\n",
    "# !pip install Cython\n",
    "# !pip install gym"
   ]
  },
  {
   "cell_type": "code",
   "execution_count": 15,
   "metadata": {},
   "outputs": [],
   "source": [
    "def plot(frame_idx, rewards, losses):\n",
    "    clear_output(True)\n",
    "    plt.figure(figsize=(20,5))\n",
    "    plt.subplot(131)\n",
    "    plt.title('frame %s. reward: %s' % (frame_idx, np.mean(rewards[-10:])))\n",
    "    plt.plot(rewards)\n",
    "    plt.subplot(132)\n",
    "    plt.title('loss')\n",
    "    if len(losses) > 20:\n",
    "        plt.plot(losses[20:])\n",
    "    else:\n",
    "        plt.plot(losses)\n",
    "    plt.show()"
   ]
  },
  {
   "cell_type": "code",
   "execution_count": null,
   "metadata": {},
   "outputs": [],
   "source": []
  },
  {
   "cell_type": "markdown",
   "metadata": {},
   "source": [
    "## DQN"
   ]
  },
  {
   "cell_type": "code",
   "execution_count": null,
   "metadata": {},
   "outputs": [],
   "source": []
  },
  {
   "cell_type": "code",
   "execution_count": 3,
   "metadata": {},
   "outputs": [],
   "source": [
    "USE_CUDA = torch.cuda.is_available()\n",
    "\n",
    "# if USE_CUDA:\n",
    "#     torch.cuda.set_device(1)\n",
    "#     print(torch.cuda.current_device())\n",
    "\n",
    "Variable = lambda *args, **kwargs: autograd.Variable(*args, **kwargs).cuda() \\\n",
    "    if USE_CUDA else autograd.Variable(*args, **kwargs)"
   ]
  },
  {
   "cell_type": "markdown",
   "metadata": {},
   "source": [
    "### Replay buffer"
   ]
  },
  {
   "cell_type": "code",
   "execution_count": 4,
   "metadata": {},
   "outputs": [],
   "source": [
    "from collections import deque\n",
    "\n",
    "class ReplayBuffer(object):\n",
    "    def __init__(self, capacity, use_gpu=False):\n",
    "        self.buffer = deque(maxlen=capacity)\n",
    "        self.use_gpu = use_gpu\n",
    "    \n",
    "    def push(self, state, action, reward, next_state, done):\n",
    "        \n",
    "        state      = np.expand_dims(state, 0)\n",
    "        next_state = np.expand_dims(next_state, 0)\n",
    "        \n",
    "        if self.use_gpu:\n",
    "            state      = Variable(torch.FloatTensor(np.float32(state)))\n",
    "            next_state = Variable(torch.FloatTensor(np.float32(next_state)), volatile=True)\n",
    "            action     = Variable(torch.FloatTensor([action]))\n",
    "            reward     = Variable(torch.FloatTensor([reward]))\n",
    "            done       = Variable(torch.FloatTensor([done]))\n",
    "        \n",
    "        self.buffer.append((state, action, reward, next_state, done))\n",
    "\n",
    "    def sample(self, batch_size):\n",
    "        state, action, reward, next_state, done = zip(*random.sample(self.buffer, batch_size))\n",
    "        if self.use_gpu:\n",
    "            state      = torch.cat(state)\n",
    "            action     = torch.cat(action)\n",
    "            reward     = torch.cat(reward)\n",
    "            next_state = torch.cat(next_state)\n",
    "            done       = torch.cat(done)\n",
    "        else:\n",
    "            state      = Variable(torch.FloatTensor(np.float32(np.concatenate(state))))\n",
    "            next_state = Variable(torch.FloatTensor(np.float32(np.concatenate(next_state))),\n",
    "                                  volatile=True)\n",
    "            action     = Variable(torch.FloatTensor(action))\n",
    "            reward     = Variable(torch.FloatTensor(reward))\n",
    "            done       = Variable(torch.FloatTensor(done))\n",
    "        return state, action, reward, next_state, done\n",
    "    \n",
    "    def __len__(self):\n",
    "        return len(self.buffer)\n",
    "\n"
   ]
  },
  {
   "cell_type": "markdown",
   "metadata": {},
   "source": [
    "### Epsilon-greedy"
   ]
  },
  {
   "cell_type": "code",
   "execution_count": 5,
   "metadata": {},
   "outputs": [
    {
     "data": {
      "text/plain": [
       "[<matplotlib.lines.Line2D at 0x7fdc6a88e1d0>]"
      ]
     },
     "execution_count": 5,
     "metadata": {},
     "output_type": "execute_result"
    },
    {
     "data": {
      "image/png": "[encoded data removed]",
      "text/plain": [
       "<Figure size 432x288 with 1 Axes>"
      ]
     },
     "metadata": {
      "needs_background": "light"
     },
     "output_type": "display_data"
    }
   ],
   "source": [
    "epsilon_start = 1.0\n",
    "epsilon_final = 0.01\n",
    "epsilon_decay = 500\n",
    "\n",
    "epsilon_by_frame = lambda frame_idx: epsilon_final + (epsilon_start - epsilon_final) * \\\n",
    "        math.exp(-1. * frame_idx / epsilon_decay)\n",
    "\n",
    "plt.plot([epsilon_by_frame(i) for i in range(1000)])"
   ]
  },
  {
   "cell_type": "code",
   "execution_count": 6,
   "metadata": {},
   "outputs": [],
   "source": [
    "def compute_td_loss_actions(batch_size, actions):\n",
    "    state, action, reward, next_state, done = replay_buffer.sample(batch_size)\n",
    "\n",
    "#     state      = Variable(torch.FloatTensor(np.float32(state)))\n",
    "#     next_state = Variable(torch.FloatTensor(np.float32(next_state)), volatile=True)\n",
    "#     action     = Variable(torch.FloatTensor(action))\n",
    "#     reward     = Variable(torch.FloatTensor(reward))\n",
    "#     done       = Variable(torch.FloatTensor(done))\n",
    "\n",
    "    q_value = model(state, action).squeeze(1)\n",
    "    \n",
    "    next_q_values = []\n",
    "    for batch_idx in range(batch_size):\n",
    "        next_q_value = -np.inf\n",
    "        for next_action in actions:\n",
    "            next_action = Variable(torch.FloatTensor([next_action])).unsqueeze(0)\n",
    "            pred = model(next_state[batch_idx].unsqueeze(0), next_action).item()\n",
    "            next_q_value = max(next_q_value, pred)\n",
    "        next_q_values.append(next_q_value)\n",
    "\n",
    "    expected_q_value = reward + gamma * next_q_value * (1 - done)\n",
    "    \n",
    "    loss = torch.mean((q_value - expected_q_value) ** 2)\n",
    "    optimizer.zero_grad()\n",
    "    loss.backward()\n",
    "    optimizer.step()\n",
    "    return loss"
   ]
  },
  {
   "cell_type": "code",
   "execution_count": 16,
   "metadata": {},
   "outputs": [],
   "source": [
    "import gym\n",
    "from gym import spaces\n",
    "import k3d\n",
    "\n",
    "class VoxelGridWrapper(gym.ObservationWrapper):\n",
    "    def __init__(self, env, grid_shape=(64, 64, 64), illustrate=False):\n",
    "        super().__init__(env)\n",
    "\n",
    "        self.grid_shape = grid_shape\n",
    "        self.illustrate = illustrate\n",
    "        \n",
    "        self.observation_space = spaces.Box(0, 1, grid_shape, dtype=bool)\n",
    "\n",
    "        self.bounds = None\n",
    "        self.plot = None\n",
    "\n",
    "    def reset(self):\n",
    "        observation, action = self.env.reset()\n",
    "        self.bounds = env.model.mesh.bounds\n",
    "        \n",
    "        if self.illustrate:\n",
    "            self.plot = k3d.plot(name='wrapper')\n",
    "            self.plot.display()\n",
    "\n",
    "        return self.observation(observation), action\n",
    "\n",
    "    def observation(self, observation):\n",
    "        voxel_grid = np.zeros(self.grid_shape)\n",
    "\n",
    "        points = observation.points - self.bounds[0]\n",
    "        indices = points * voxel_grid.shape / (self.bounds[1] - self.bounds[0])\n",
    "        indices = indices.astype(np.uint32)\n",
    "        indices = np.unique(indices, axis=0)\n",
    "        for ind in indices:\n",
    "            voxel_grid[ind[0], ind[1], ind[2]] = True\n",
    "        return voxel_grid\n",
    "\n",
    "    def render(self, action, observation):\n",
    "        self.plot = illustrate_voxels(observation, self.plot)\n",
    "\n",
    "    def final_reward(self):\n",
    "        return self.env.final_reward()\n",
    "\n"
   ]
  },
  {
   "cell_type": "code",
   "execution_count": 17,
   "metadata": {},
   "outputs": [
    {
     "name": "stderr",
     "output_type": "stream",
     "text": [
      "/opt/conda/lib/python3.6/site-packages/gym/logger.py:30: UserWarning: \u001b[33mWARN: Box bound precision lowered by casting to float32\u001b[0m\n",
      "  warnings.warn(colorize('%s: %s'%('WARN', msg % args), 'yellow'))\n"
     ]
    }
   ],
   "source": [
    "env = Environment(illustrate=False, model_path=\"./data/Tetrahedron.obj\", number_of_view_points=10)\n",
    "env = CombiningObservationsWrapper(env)\n",
    "env = StepPenaltyRewardWrapper(env)\n",
    "env = VoxelGridWrapper(env, illustrate=False)"
   ]
  },
  {
   "cell_type": "code",
   "execution_count": 18,
   "metadata": {},
   "outputs": [
    {
     "name": "stderr",
     "output_type": "stream",
     "text": [
      "unable to load materials from: FinalBaseMesh.mtl\n",
      "specified material (default)  not loaded!\n"
     ]
    }
   ],
   "source": [
    "from time import sleep\n",
    "\n",
    "state, _ = env.reset()\n",
    "for i in range(5):\n",
    "    action = env.action_space.sample()\n",
    "    state, reward, done, _ = env.step(action)\n",
    "    env.render(action, state)\n",
    "    sleep(3)"
   ]
  },
  {
   "cell_type": "code",
   "execution_count": 19,
   "metadata": {},
   "outputs": [],
   "source": [
    "class VoxelDQN(nn.Module):\n",
    "    def __init__(self, input_shape, num_actions):\n",
    "        super().__init__()\n",
    "\n",
    "        self.input_shape = input_shape\n",
    "        # TODO action input\n",
    "        self.num_actions = num_actions\n",
    "\n",
    "        self.features = nn.Sequential(\n",
    "            nn.Conv2d(input_shape[0], 64, kernel_size=8, stride=4),\n",
    "            nn.ReLU(),\n",
    "            nn.Conv2d(64, 64, kernel_size=5, stride=2),\n",
    "            nn.ReLU(),\n",
    "            nn.Conv2d(64, 32, kernel_size=3, stride=1),\n",
    "            nn.ReLU(),\n",
    "            nn.Conv2d(32, 32, kernel_size=3, stride=1),\n",
    "            nn.ReLU()\n",
    "        )\n",
    "\n",
    "        self.fc = nn.Sequential(\n",
    "            nn.Linear(self.feature_size(), 128),\n",
    "            nn.ReLU(),\n",
    "            nn.Linear(128, self.num_actions)\n",
    "        )\n",
    "\n",
    "    def forward(self, x):\n",
    "        x = self.features(x)\n",
    "        x = x.view(x.size(0), -1)\n",
    "        x = self.fc(x)\n",
    "        return x\n",
    "\n",
    "    def feature_size(self):\n",
    "        return self.features(autograd.Variable(torch.zeros(1, *self.input_shape))).view(1, -1).size(1)\n",
    "\n",
    "    def act(self, state, epsilon):\n",
    "        if random.random() > epsilon:\n",
    "            state   = Variable(torch.FloatTensor(np.float32(state)).unsqueeze(0), volatile=True)\n",
    "            q_value = self.forward(state)\n",
    "            action  = q_value.max(1)[1].item()\n",
    "            print(\"Action: \", action)\n",
    "        else:\n",
    "            action = random.randrange(env.action_space.n)\n",
    "            print(\"Action: \", action, \"(random)\")\n",
    "        return action\n",
    "    \n",
    "    \n",
    "    @staticmethod\n",
    "    def compute_td_loss(batch_size):\n",
    "        state, action, reward, next_state, done = replay_buffer.sample(batch_size)\n",
    "\n",
    "        q_values      = model(state)\n",
    "        next_q_values = model(next_state)\n",
    "\n",
    "        q_value          = q_values.gather(1, action.unsqueeze(1)).squeeze(1)\n",
    "        next_q_value     = next_q_values.max(1)[0]\n",
    "        expected_q_value = reward + gamma * next_q_value * (1 - done)\n",
    "\n",
    "        loss = torch.mean((q_value - expected_q_value.detach()) ** 2)\n",
    "        optimizer.zero_grad()\n",
    "        loss.backward()\n",
    "        optimizer.step()\n",
    "        return loss\n",
    "\n"
   ]
  },
  {
   "cell_type": "code",
   "execution_count": 20,
   "metadata": {
    "scrolled": true
   },
   "outputs": [],
   "source": [
    "model = VoxelDQN(env.observation_space.shape, env.action_space.n)\n",
    "\n",
    "if USE_CUDA:\n",
    "    model = model.cuda()\n",
    "\n",
    "replay_initial = 100\n",
    "replay_buffer = ReplayBuffer(200, use_gpu=True)"
   ]
  },
  {
   "cell_type": "markdown",
   "metadata": {},
   "source": [
    "### Training"
   ]
  },
  {
   "cell_type": "code",
   "execution_count": 26,
   "metadata": {
    "scrolled": true
   },
   "outputs": [
    {
     "data": {
      "image/png": "[encoded data removed]",
      "text/plain": [
       "<Figure size 1440x360 with 2 Axes>"
      ]
     },
     "metadata": {
      "needs_background": "light"
     },
     "output_type": "display_data"
    },
    {
     "name": "stdout",
     "output_type": "stream",
     "text": [
      "Action:  33\n",
      "20\n",
      "Action:  33\n",
      "20\n",
      "Action:  33\n",
      "20\n",
      "Action:  33\n",
      "20\n",
      "Action:  33\n",
      "20\n",
      "Action:  33\n",
      "20\n",
      "Action:  33\n",
      "20\n",
      "Action:  33\n",
      "20\n",
      "Action:  33\n",
      "20\n",
      "Action:  33\n",
      "20\n",
      "Action:  33\n",
      "20\n",
      "Action:  33\n",
      "20\n",
      "Action:  94\n",
      "20\n",
      "Action:  94\n",
      "20\n",
      "Action:  94\n",
      "20\n",
      "Action:  94\n",
      "20\n",
      "Action:  81 (random)\n",
      "20\n",
      "Action:  94\n",
      "20\n",
      "Action:  94\n",
      "20\n",
      "Action:  94\n",
      "20\n",
      "Action:  94\n",
      "20\n",
      "Action:  94\n",
      "20\n",
      "Action:  94\n",
      "20\n",
      "Action:  94\n",
      "20\n",
      "Action:  94\n",
      "20\n",
      "Action:  33\n",
      "20\n",
      "Action:  33\n",
      "20\n",
      "Action:  33\n",
      "20\n",
      "Action:  33\n",
      "20\n",
      "Action:  33\n",
      "20\n",
      "Action:  33\n",
      "20\n",
      "Action:  33\n",
      "20\n",
      "Action:  33\n",
      "20\n",
      "Action:  33\n",
      "20\n",
      "Action:  81\n",
      "20\n",
      "Action:  81\n",
      "20\n",
      "Action:  81\n",
      "20\n",
      "Action:  81\n",
      "20\n",
      "Action:  81\n",
      "20\n",
      "Action:  81\n",
      "20\n",
      "Action:  81\n",
      "20\n",
      "Action:  81\n",
      "20\n",
      "Action:  81\n",
      "20\n",
      "Action:  81\n",
      "20\n",
      "Action:  81\n",
      "20\n",
      "Action:  81\n",
      "20\n",
      "Action:  33\n",
      "20\n",
      "Action:  33\n",
      "20\n",
      "Action:  33\n",
      "20\n",
      "Action:  33\n",
      "20\n",
      "Action:  33\n",
      "20\n",
      "Action:  33\n",
      "20\n",
      "Action:  33\n",
      "20\n",
      "Action:  17\n",
      "20\n",
      "Action:  17\n",
      "20\n",
      "Action:  17\n",
      "20\n",
      "Action:  17\n",
      "20\n",
      "Action:  17\n",
      "20\n",
      "Action:  17\n",
      "20\n",
      "Action:  17\n",
      "20\n",
      "Action:  17\n",
      "20\n",
      "Action:  17\n",
      "20\n",
      "Action:  17\n",
      "20\n",
      "Action:  81\n",
      "20\n",
      "Action:  81\n",
      "20\n",
      "Action:  81\n",
      "20\n",
      "Action:  81\n",
      "20\n",
      "Action:  81\n",
      "20\n",
      "Action:  81\n",
      "20\n",
      "Action:  81\n",
      "20\n",
      "Action:  81\n",
      "20\n",
      "Action:  16\n",
      "20\n",
      "Action:  16\n",
      "20\n",
      "Action:  16\n",
      "20\n",
      "Action:  16\n",
      "20\n",
      "Action:  16\n",
      "20\n",
      "Action:  53 (random)\n",
      "20\n",
      "Action:  16\n",
      "20\n",
      "Action:  16\n",
      "20\n",
      "Action:  16\n",
      "20\n",
      "Action:  16\n",
      "20\n",
      "Action:  94\n",
      "20\n",
      "Action:  94\n",
      "20\n",
      "Action:  94\n",
      "20\n",
      "Action:  94\n",
      "20\n",
      "Action:  94\n",
      "20\n",
      "Action:  17\n",
      "20\n",
      "Action:  17\n",
      "20\n",
      "Action:  17\n",
      "20\n",
      "Action:  17\n",
      "20\n",
      "Action:  17\n",
      "20\n",
      "Action:  33\n",
      "20\n",
      "Action:  33\n",
      "20\n",
      "Action:  33\n",
      "20\n",
      "Action:  33\n",
      "20\n",
      "Action:  33\n",
      "20\n",
      "Action:  33\n",
      "20\n",
      "Action:  33\n"
     ]
    },
    {
     "ename": "KeyboardInterrupt",
     "evalue": "",
     "output_type": "error",
     "traceback": [
      "\u001b[0;31m---------------------------------------------------------------------------\u001b[0m",
      "\u001b[0;31mKeyboardInterrupt\u001b[0m                         Traceback (most recent call last)",
      "\u001b[0;32m<ipython-input-26-6f809b243adb>\u001b[0m in \u001b[0;36m<module>\u001b[0;34m\u001b[0m\n\u001b[1;32m     13\u001b[0m     \u001b[0maction\u001b[0m \u001b[0;34m=\u001b[0m \u001b[0mmodel\u001b[0m\u001b[0;34m.\u001b[0m\u001b[0mact\u001b[0m\u001b[0;34m(\u001b[0m\u001b[0mstate\u001b[0m\u001b[0;34m,\u001b[0m \u001b[0mepsilon\u001b[0m\u001b[0;34m)\u001b[0m\u001b[0;34m\u001b[0m\u001b[0;34m\u001b[0m\u001b[0m\n\u001b[1;32m     14\u001b[0m \u001b[0;34m\u001b[0m\u001b[0m\n\u001b[0;32m---> 15\u001b[0;31m     \u001b[0mnext_state\u001b[0m\u001b[0;34m,\u001b[0m \u001b[0mreward\u001b[0m\u001b[0;34m,\u001b[0m \u001b[0mdone\u001b[0m\u001b[0;34m,\u001b[0m \u001b[0m_\u001b[0m \u001b[0;34m=\u001b[0m \u001b[0menv\u001b[0m\u001b[0;34m.\u001b[0m\u001b[0mstep\u001b[0m\u001b[0;34m(\u001b[0m\u001b[0maction\u001b[0m\u001b[0;34m)\u001b[0m\u001b[0;34m\u001b[0m\u001b[0;34m\u001b[0m\u001b[0m\n\u001b[0m\u001b[1;32m     16\u001b[0m     \u001b[0mreplay_buffer\u001b[0m\u001b[0;34m.\u001b[0m\u001b[0mpush\u001b[0m\u001b[0;34m(\u001b[0m\u001b[0mstate\u001b[0m\u001b[0;34m,\u001b[0m \u001b[0maction\u001b[0m\u001b[0;34m,\u001b[0m \u001b[0mreward\u001b[0m\u001b[0;34m,\u001b[0m \u001b[0mnext_state\u001b[0m\u001b[0;34m,\u001b[0m \u001b[0mdone\u001b[0m\u001b[0;34m)\u001b[0m\u001b[0;34m\u001b[0m\u001b[0;34m\u001b[0m\u001b[0m\n\u001b[1;32m     17\u001b[0m     \u001b[0mprint\u001b[0m\u001b[0;34m(\u001b[0m\u001b[0mlen\u001b[0m\u001b[0;34m(\u001b[0m\u001b[0mreplay_buffer\u001b[0m\u001b[0;34m)\u001b[0m\u001b[0;34m)\u001b[0m\u001b[0;34m\u001b[0m\u001b[0;34m\u001b[0m\u001b[0m\n",
      "\u001b[0;32m/opt/conda/lib/python3.7/site-packages/gym/core.py\u001b[0m in \u001b[0;36mstep\u001b[0;34m(self, action)\u001b[0m\n\u001b[1;32m    262\u001b[0m     \u001b[0;32mdef\u001b[0m \u001b[0mstep\u001b[0m\u001b[0;34m(\u001b[0m\u001b[0mself\u001b[0m\u001b[0;34m,\u001b[0m \u001b[0maction\u001b[0m\u001b[0;34m)\u001b[0m\u001b[0;34m:\u001b[0m\u001b[0;34m\u001b[0m\u001b[0;34m\u001b[0m\u001b[0m\n\u001b[1;32m    263\u001b[0m         \u001b[0mobservation\u001b[0m\u001b[0;34m,\u001b[0m \u001b[0mreward\u001b[0m\u001b[0;34m,\u001b[0m \u001b[0mdone\u001b[0m\u001b[0;34m,\u001b[0m \u001b[0minfo\u001b[0m \u001b[0;34m=\u001b[0m \u001b[0mself\u001b[0m\u001b[0;34m.\u001b[0m\u001b[0menv\u001b[0m\u001b[0;34m.\u001b[0m\u001b[0mstep\u001b[0m\u001b[0;34m(\u001b[0m\u001b[0maction\u001b[0m\u001b[0;34m)\u001b[0m\u001b[0;34m\u001b[0m\u001b[0;34m\u001b[0m\u001b[0m\n\u001b[0;32m--> 264\u001b[0;31m         \u001b[0;32mreturn\u001b[0m \u001b[0mself\u001b[0m\u001b[0;34m.\u001b[0m\u001b[0mobservation\u001b[0m\u001b[0;34m(\u001b[0m\u001b[0mobservation\u001b[0m\u001b[0;34m)\u001b[0m\u001b[0;34m,\u001b[0m \u001b[0mreward\u001b[0m\u001b[0;34m,\u001b[0m \u001b[0mdone\u001b[0m\u001b[0;34m,\u001b[0m \u001b[0minfo\u001b[0m\u001b[0;34m\u001b[0m\u001b[0;34m\u001b[0m\u001b[0m\n\u001b[0m\u001b[1;32m    265\u001b[0m \u001b[0;34m\u001b[0m\u001b[0m\n\u001b[1;32m    266\u001b[0m     \u001b[0;32mdef\u001b[0m \u001b[0mobservation\u001b[0m\u001b[0;34m(\u001b[0m\u001b[0mself\u001b[0m\u001b[0;34m,\u001b[0m \u001b[0mobservation\u001b[0m\u001b[0;34m)\u001b[0m\u001b[0;34m:\u001b[0m\u001b[0;34m\u001b[0m\u001b[0;34m\u001b[0m\u001b[0m\n",
      "\u001b[0;32m<ipython-input-16-12281386a154>\u001b[0m in \u001b[0;36mobservation\u001b[0;34m(self, observation)\u001b[0m\n\u001b[1;32m     31\u001b[0m         \u001b[0mindices\u001b[0m \u001b[0;34m=\u001b[0m \u001b[0mpoints\u001b[0m \u001b[0;34m*\u001b[0m \u001b[0mvoxel_grid\u001b[0m\u001b[0;34m.\u001b[0m\u001b[0mshape\u001b[0m \u001b[0;34m/\u001b[0m \u001b[0;34m(\u001b[0m\u001b[0mself\u001b[0m\u001b[0;34m.\u001b[0m\u001b[0mbounds\u001b[0m\u001b[0;34m[\u001b[0m\u001b[0;36m1\u001b[0m\u001b[0;34m]\u001b[0m \u001b[0;34m-\u001b[0m \u001b[0mself\u001b[0m\u001b[0;34m.\u001b[0m\u001b[0mbounds\u001b[0m\u001b[0;34m[\u001b[0m\u001b[0;36m0\u001b[0m\u001b[0;34m]\u001b[0m\u001b[0;34m)\u001b[0m\u001b[0;34m\u001b[0m\u001b[0;34m\u001b[0m\u001b[0m\n\u001b[1;32m     32\u001b[0m         \u001b[0mindices\u001b[0m \u001b[0;34m=\u001b[0m \u001b[0mindices\u001b[0m\u001b[0;34m.\u001b[0m\u001b[0mastype\u001b[0m\u001b[0;34m(\u001b[0m\u001b[0mnp\u001b[0m\u001b[0;34m.\u001b[0m\u001b[0muint32\u001b[0m\u001b[0;34m)\u001b[0m\u001b[0;34m\u001b[0m\u001b[0;34m\u001b[0m\u001b[0m\n\u001b[0;32m---> 33\u001b[0;31m         \u001b[0mindices\u001b[0m \u001b[0;34m=\u001b[0m \u001b[0mnp\u001b[0m\u001b[0;34m.\u001b[0m\u001b[0munique\u001b[0m\u001b[0;34m(\u001b[0m\u001b[0mindices\u001b[0m\u001b[0;34m,\u001b[0m \u001b[0maxis\u001b[0m\u001b[0;34m=\u001b[0m\u001b[0;36m0\u001b[0m\u001b[0;34m)\u001b[0m\u001b[0;34m\u001b[0m\u001b[0;34m\u001b[0m\u001b[0m\n\u001b[0m\u001b[1;32m     34\u001b[0m         \u001b[0;32mfor\u001b[0m \u001b[0mind\u001b[0m \u001b[0;32min\u001b[0m \u001b[0mindices\u001b[0m\u001b[0;34m:\u001b[0m\u001b[0;34m\u001b[0m\u001b[0;34m\u001b[0m\u001b[0m\n\u001b[1;32m     35\u001b[0m             \u001b[0mvoxel_grid\u001b[0m\u001b[0;34m[\u001b[0m\u001b[0mind\u001b[0m\u001b[0;34m[\u001b[0m\u001b[0;36m0\u001b[0m\u001b[0;34m]\u001b[0m\u001b[0;34m,\u001b[0m \u001b[0mind\u001b[0m\u001b[0;34m[\u001b[0m\u001b[0;36m1\u001b[0m\u001b[0;34m]\u001b[0m\u001b[0;34m,\u001b[0m \u001b[0mind\u001b[0m\u001b[0;34m[\u001b[0m\u001b[0;36m2\u001b[0m\u001b[0;34m]\u001b[0m\u001b[0;34m]\u001b[0m \u001b[0;34m=\u001b[0m \u001b[0;32mTrue\u001b[0m\u001b[0;34m\u001b[0m\u001b[0;34m\u001b[0m\u001b[0m\n",
      "\u001b[0;32m<__array_function__ internals>\u001b[0m in \u001b[0;36munique\u001b[0;34m(*args, **kwargs)\u001b[0m\n",
      "\u001b[0;32m/opt/conda/lib/python3.7/site-packages/numpy/lib/arraysetops.py\u001b[0m in \u001b[0;36munique\u001b[0;34m(ar, return_index, return_inverse, return_counts, axis)\u001b[0m\n\u001b[1;32m    290\u001b[0m \u001b[0;34m\u001b[0m\u001b[0m\n\u001b[1;32m    291\u001b[0m     output = _unique1d(consolidated, return_index,\n\u001b[0;32m--> 292\u001b[0;31m                        return_inverse, return_counts)\n\u001b[0m\u001b[1;32m    293\u001b[0m     \u001b[0moutput\u001b[0m \u001b[0;34m=\u001b[0m \u001b[0;34m(\u001b[0m\u001b[0mreshape_uniq\u001b[0m\u001b[0;34m(\u001b[0m\u001b[0moutput\u001b[0m\u001b[0;34m[\u001b[0m\u001b[0;36m0\u001b[0m\u001b[0;34m]\u001b[0m\u001b[0;34m)\u001b[0m\u001b[0;34m,\u001b[0m\u001b[0;34m)\u001b[0m \u001b[0;34m+\u001b[0m \u001b[0moutput\u001b[0m\u001b[0;34m[\u001b[0m\u001b[0;36m1\u001b[0m\u001b[0;34m:\u001b[0m\u001b[0;34m]\u001b[0m\u001b[0;34m\u001b[0m\u001b[0;34m\u001b[0m\u001b[0m\n\u001b[1;32m    294\u001b[0m     \u001b[0;32mreturn\u001b[0m \u001b[0m_unpack_tuple\u001b[0m\u001b[0;34m(\u001b[0m\u001b[0moutput\u001b[0m\u001b[0;34m)\u001b[0m\u001b[0;34m\u001b[0m\u001b[0;34m\u001b[0m\u001b[0m\n",
      "\u001b[0;32m/opt/conda/lib/python3.7/site-packages/numpy/lib/arraysetops.py\u001b[0m in \u001b[0;36m_unique1d\u001b[0;34m(ar, return_index, return_inverse, return_counts)\u001b[0m\n\u001b[1;32m    308\u001b[0m         \u001b[0maux\u001b[0m \u001b[0;34m=\u001b[0m \u001b[0mar\u001b[0m\u001b[0;34m[\u001b[0m\u001b[0mperm\u001b[0m\u001b[0;34m]\u001b[0m\u001b[0;34m\u001b[0m\u001b[0;34m\u001b[0m\u001b[0m\n\u001b[1;32m    309\u001b[0m     \u001b[0;32melse\u001b[0m\u001b[0;34m:\u001b[0m\u001b[0;34m\u001b[0m\u001b[0;34m\u001b[0m\u001b[0m\n\u001b[0;32m--> 310\u001b[0;31m         \u001b[0mar\u001b[0m\u001b[0;34m.\u001b[0m\u001b[0msort\u001b[0m\u001b[0;34m(\u001b[0m\u001b[0;34m)\u001b[0m\u001b[0;34m\u001b[0m\u001b[0;34m\u001b[0m\u001b[0m\n\u001b[0m\u001b[1;32m    311\u001b[0m         \u001b[0maux\u001b[0m \u001b[0;34m=\u001b[0m \u001b[0mar\u001b[0m\u001b[0;34m\u001b[0m\u001b[0;34m\u001b[0m\u001b[0m\n\u001b[1;32m    312\u001b[0m     \u001b[0mmask\u001b[0m \u001b[0;34m=\u001b[0m \u001b[0mnp\u001b[0m\u001b[0;34m.\u001b[0m\u001b[0mempty\u001b[0m\u001b[0;34m(\u001b[0m\u001b[0maux\u001b[0m\u001b[0;34m.\u001b[0m\u001b[0mshape\u001b[0m\u001b[0;34m,\u001b[0m \u001b[0mdtype\u001b[0m\u001b[0;34m=\u001b[0m\u001b[0mnp\u001b[0m\u001b[0;34m.\u001b[0m\u001b[0mbool_\u001b[0m\u001b[0;34m)\u001b[0m\u001b[0;34m\u001b[0m\u001b[0;34m\u001b[0m\u001b[0m\n",
      "\u001b[0;31mKeyboardInterrupt\u001b[0m: "
     ]
    }
   ],
   "source": [
    "num_frames = 15000\n",
    "batch_size = 2\n",
    "gamma      = 0.99\n",
    "\n",
    "losses = []\n",
    "all_rewards = []\n",
    "episode_reward = 0\n",
    "\n",
    "state, _ = env.reset()\n",
    "nof_vp = 0\n",
    "for frame_idx in range(1, num_frames + 1):\n",
    "    epsilon = epsilon_by_frame(frame_idx)\n",
    "    action = model.act(state, epsilon)\n",
    "\n",
    "    next_state, reward, done, _ = env.step(action)\n",
    "    replay_buffer.push(state, action, reward, next_state, done)\n",
    "\n",
    "    # QUESTION episode_reward += reward * self._gamma ** t\n",
    "\n",
    "    state = next_state\n",
    "    episode_reward += reward\n",
    "    nof_vp += 1\n",
    "\n",
    "    # env.render(action, state)\n",
    "\n",
    "    if done:\n",
    "        # final_reward = env.final_reward()\n",
    "        # print(\"Number of View Points: \", nof_vp, \" Hausdorff reward: \", final_reward)\n",
    "        print(\"Frame: \", frame_idx, \"Number of View Points: \", nof_vp)\n",
    "        print()\n",
    "\n",
    "        state, _ = env.reset()\n",
    "        nof_vp = 0\n",
    "        all_rewards.append(episode_reward)\n",
    "        episode_reward = 0\n",
    "        \n",
    "    if len(replay_buffer) > replay_initial:\n",
    "#         print(\"Computing loss\")\n",
    "        loss = model.compute_td_loss(batch_size)\n",
    "#         print(loss)\n",
    "        losses.append(loss.item())\n",
    "        \n",
    "    if frame_idx % 100 == 0:\n",
    "        plot(frame_idx, all_rewards, losses)\n",
    "        \n",
    "    if frame_idx % 500 ==  0:\n",
    "        torch.save(model, save_model_path.format(frame_idx))"
   ]
  },
  {
   "cell_type": "code",
   "execution_count": 10,
   "metadata": {},
   "outputs": [
    {
     "data": {
      "text/plain": [
       "9.0"
      ]
     },
     "execution_count": 10,
     "metadata": {},
     "output_type": "execute_result"
    }
   ],
   "source": [
    "action.item()"
   ]
  },
  {
   "cell_type": "code",
   "execution_count": null,
   "metadata": {},
   "outputs": [],
   "source": []
  },
  {
   "cell_type": "code",
   "execution_count": 25,
   "metadata": {
    "scrolled": true
   },
   "outputs": [
    {
     "name": "stdout",
     "output_type": "stream",
     "text": [
      "9437.184000000001\n",
      "104857.6\n"
     ]
    }
   ],
   "source": [
    "print((6 * 256 * 256 * 8) / 1e6 * 3000)\n",
    "print((10 * 512 * 512 * 8) / 1e6 * 5000)"
   ]
  },
  {
   "cell_type": "code",
   "execution_count": null,
   "metadata": {},
   "outputs": [],
   "source": [
    "TODO Today:\n",
    "    1. check DQN with A, S as input -> send Sergey\n",
    "    2. Smaller depth_maps (6 * 256 * 256)\n",
    "    3. Illustrate reward as area\n",
    "    4. Distributed Buffer\n",
    "    \n",
    "    5. Finish overfit experiments\n",
    "    \n",
    "    6. Experiment radius = 1.0\n",
    "    7. Experiments with smaller reward fine\n",
    "    8. Experiment with different DQN-s\n",
    "    9. ABC - write random model reading\n",
    "    10. * Greedy algo\n",
    "    11. * Voxels\n",
    "\n",
    "Ideas:\n",
    "    1. Add fine for same view_point\n",
    "    \n",
    "Big Experiments:\n",
    "    1. Voxels\n",
    "    2. PointNet\n",
    "    3. Context (N first view_points)\n",
    "    4. Meta-learning, подавать от простой к сложной детальке"
   ]
  },
  {
   "cell_type": "code",
   "execution_count": null,
   "metadata": {},
   "outputs": [],
   "source": []
  },
  {
   "cell_type": "code",
   "execution_count": null,
   "metadata": {},
   "outputs": [],
   "source": []
  }
 ],
 "metadata": {
  "kernelspec": {
   "display_name": "Python 3",
   "language": "python",
   "name": "python3"
  },
  "language_info": {
   "codemirror_mode": {
    "name": "ipython",
    "version": 3
   },
   "file_extension": ".py",
   "mimetype": "text/x-python",
   "name": "python",
   "nbconvert_exporter": "python",
   "pygments_lexer": "ipython3",
   "version": "3.7.4"
  }
 },
 "nbformat": 4,
 "nbformat_minor": 4
}
