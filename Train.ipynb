{
 "cells": [
  {
   "cell_type": "code",
   "execution_count": 1,
   "metadata": {},
   "outputs": [],
   "source": [
    "import numpy as np\n",
    "import math, random\n",
    "\n",
    "from IPython.display import clear_output\n",
    "import matplotlib.pyplot as plt\n",
    "%matplotlib inline\n",
    "\n",
    "import torch\n",
    "import torch.nn as nn\n",
    "import torch.optim as optim\n",
    "import torch.autograd as autograd \n",
    "import torch.nn.functional as F\n",
    "\n",
    "from geometry.model import Model, combine_observations, get_mesh\n",
    "from geometry.utils.visualisation import illustrate_points, illustrate_mesh, illustrate_voxels\n",
    "from geometry.voxel_grid import VoxelGrid\n",
    "\n",
    "from rl.environment import Environment, CombiningObservationsWrapper\n",
    "from rl.environment import StepPenaltyRewardWrapper, DepthMapWrapper\n",
    "from rl.environment import VoxelGridWrapper, VoxelWrapper, FrameStackWrapper\n",
    "\n",
    "from rl.dqn import CnnDQN, CnnDQNA, VoxelDQN\n",
    "from rl.utils import DiskReplayBuffer, ReplayBuffer\n",
    "\n",
    "\n",
    "# !conda install -c conda-forge pyembree\n",
    "# !conda install -c conda-forge igl\n",
    "# !pip install Cython\n",
    "# !pip install gym"
   ]
  },
  {
   "cell_type": "code",
   "execution_count": 2,
   "metadata": {},
   "outputs": [],
   "source": [
    "def plot(frame_idx, rewards, novps, losses):\n",
    "    clear_output(True)\n",
    "    plt.figure(figsize=(20,5))\n",
    "    plt.subplot(131)\n",
    "    plt.title('frame %s. reward: %s' % (frame_idx, np.mean(rewards[-10:])))\n",
    "    plt.plot(rewards)\n",
    "    plt.subplot(132)\n",
    "    plt.title('number of vp: %s' % np.mean(novps[-10:]))\n",
    "    plt.plot(novps)\n",
    "    plt.subplot(133)\n",
    "    plt.title('loss')\n",
    "    if len(losses) > 20:\n",
    "        plt.plot(losses[20:])\n",
    "    else:\n",
    "        plt.plot(losses)\n",
    "    plt.show()"
   ]
  },
  {
   "cell_type": "markdown",
   "metadata": {},
   "source": [
    "## DQN"
   ]
  },
  {
   "cell_type": "code",
   "execution_count": 3,
   "metadata": {},
   "outputs": [],
   "source": [
    "USE_CUDA = torch.cuda.is_available()\n",
    "\n",
    "if USE_CUDA:\n",
    "    torch.cuda.set_device(1)\n",
    "    print(torch.cuda.current_device())"
   ]
  },
  {
   "cell_type": "code",
   "execution_count": 4,
   "metadata": {},
   "outputs": [],
   "source": [
    "import gym\n",
    "\n",
    "class ActionMaskWrapper(gym.Wrapper):\n",
    "    def __init__(self, env):\n",
    "        super().__init__(env)\n",
    "        self.mask = None\n",
    "        \n",
    "    def reset(self, **kwargs):\n",
    "        observation, action = self.env.reset(**kwargs)\n",
    "        self.mask = np.ones(self.number_of_view_points).astype(bool)\n",
    "        self.mask[action] = False\n",
    "        return observation, action, self.mask\n",
    "    \n",
    "    def step(self, action):\n",
    "        observation, reward, done, info = self.env.step(action)\n",
    "        \n",
    "        done = done or self.done()\n",
    "        return observation, reward, done, info, self.mask\n",
    "\n",
    "    def done(self):\n",
    "        return np.count_nonzero(self.mask) == len(self.mask)\n",
    "\n",
    "    def render(self, action, observation):\n",
    "        self.env.render(action, observation)\n",
    "\n",
    "    def final_reward(self):\n",
    "        return self.env.final_reward()"
   ]
  },
  {
   "cell_type": "code",
   "execution_count": 5,
   "metadata": {},
   "outputs": [],
   "source": [
    "env = Environment(illustrate=False, model_path=\"./data/Pyramid.obj\", number_of_view_points=100)\n",
    "# env = CombiningObservationsWrapper(env)\n",
    "# env = StepPenaltyRewardWrapper(env, weight=1.0)\n",
    "# env = DepthMapWrapper(env)\n",
    "\n",
    "env = VoxelGridWrapper(env)\n",
    "env = CombiningObservationsWrapper(env)\n",
    "env = VoxelWrapper(env)\n",
    "env = StepPenaltyRewardWrapper(env)\n",
    "env = FrameStackWrapper(env, num_stack=4, lz4_compress=False)\n",
    "env = ActionMaskWrapper(env)"
   ]
  },
  {
   "cell_type": "code",
   "execution_count": 6,
   "metadata": {},
   "outputs": [],
   "source": [
    "class VoxelDQN(nn.Module):\n",
    "    def __init__(self, input_shape, num_actions, gamma=0.99, learning_rate=0.001):\n",
    "        super().__init__()\n",
    "\n",
    "        self.input_shape = input_shape\n",
    "        self.num_actions = num_actions\n",
    "        self.gamma = gamma\n",
    "\n",
    "        self.features = nn.Sequential(\n",
    "            nn.Conv2d(input_shape[0], 64, kernel_size=8, stride=4),\n",
    "            nn.ReLU(),\n",
    "            nn.Conv2d(64, 64, kernel_size=5, stride=2),\n",
    "            nn.ReLU(),\n",
    "            nn.Conv2d(64, 32, kernel_size=3, stride=1),\n",
    "            nn.ReLU(),\n",
    "            nn.Conv2d(32, 32, kernel_size=3, stride=1),\n",
    "            nn.ReLU()\n",
    "        )\n",
    "\n",
    "        self.fc = nn.Sequential(\n",
    "            nn.Linear(self.feature_size(), 128),\n",
    "            nn.ReLU(),\n",
    "            nn.Linear(128, self.num_actions)\n",
    "        )\n",
    "\n",
    "        self.optimizer = optim.Adam(self.parameters(), lr=learning_rate)\n",
    "\n",
    "    def forward(self, x):\n",
    "        x = self.features(x)\n",
    "        x = x.view(x.size(0), -1)\n",
    "        x = self.fc(x)\n",
    "        return x\n",
    "\n",
    "    def feature_size(self):\n",
    "        return self.features(autograd.Variable(torch.zeros(1, *self.input_shape))).view(1, -1).size(1)\n",
    "\n",
    "    def act(self, state, mask, epsilon):\n",
    "        if random.random() > epsilon:\n",
    "            state   = Variable(torch.FloatTensor(np.float32(state)).unsqueeze(0), volatile=True)\n",
    "            q_value = self.forward(state)\n",
    "            q_value *= mask\n",
    "            action  = q_value.max(1)[1].item()\n",
    "            print(\"Action: \", action)\n",
    "        else:\n",
    "            action = np.random.choice(np.arange(self.num_actions)[mask])\n",
    "            print(\"Action: \", action, \"(random)\")\n",
    "        return action\n",
    "\n",
    "    def compute_td_loss(self, state, action, reward, next_state, done, mask):\n",
    "        q_values      = self.forward(state)\n",
    "        next_q_values = self.forward(next_state)\n",
    "        next_q_values *= mask\n",
    "\n",
    "        q_value          = q_values.gather(1, action.unsqueeze(1)).squeeze(1)\n",
    "        next_q_value     = next_q_values.max(1)[0]\n",
    "        expected_q_value = reward + self.gamma * next_q_value * (1 - done)\n",
    "\n",
    "        loss = torch.mean((q_value - expected_q_value.detach()) ** 2)\n",
    "        self.optimizer.zero_grad()\n",
    "        loss.backward()\n",
    "        self.optimizer.step()\n",
    "        return loss\n"
   ]
  },
  {
   "cell_type": "code",
   "execution_count": 7,
   "metadata": {
    "scrolled": false
   },
   "outputs": [],
   "source": [
    "from rl.dqn import CnnDQN, CnnDQNA\n",
    "\n",
    "model = VoxelDQN(env.observation_space.shape, env.action_space.n)\n",
    "\n",
    "if USE_CUDA:\n",
    "    model = model.cuda()\n",
    "\n",
    "replay_initial = 10\n",
    "replay_buffer = DiskReplayBuffer(capacity=100000,\n",
    "                                 overwrite=True,\n",
    "                                 num_actions=env.action_space.n,\n",
    "                                 observation_dtype=env.observation_space.dtype,\n",
    "                                 observation_shape=env.observation_space.shape)"
   ]
  },
  {
   "cell_type": "code",
   "execution_count": 8,
   "metadata": {},
   "outputs": [
    {
     "data": {
      "text/plain": [
       "[<matplotlib.lines.Line2D at 0x7f6870ef5b50>]"
      ]
     },
     "execution_count": 8,
     "metadata": {},
     "output_type": "execute_result"
    },
    {
     "data": {
      "image/png": "[encoded data removed]",
      "text/plain": [
       "<Figure size 432x288 with 1 Axes>"
      ]
     },
     "metadata": {
      "needs_background": "light"
     },
     "output_type": "display_data"
    }
   ],
   "source": [
    "epsilon_start = 1.0\n",
    "epsilon_final = 0.01\n",
    "epsilon_decay = 10000\n",
    "\n",
    "epsilon_by_frame = lambda frame_idx: epsilon_final + (epsilon_start - epsilon_final) * \\\n",
    "        math.exp(-1. * frame_idx / epsilon_decay)\n",
    "\n",
    "plt.plot([epsilon_by_frame(i) for i in range(50000)])"
   ]
  },
  {
   "cell_type": "markdown",
   "metadata": {},
   "source": [
    "### Training"
   ]
  },
  {
   "cell_type": "code",
   "execution_count": 9,
   "metadata": {
    "scrolled": true
   },
   "outputs": [
    {
     "name": "stdout",
     "output_type": "stream",
     "text": [
      "Action:  40 (random)\n",
      "0.4530335694487219 0.24320298969106308 0.696236559139785\n",
      "Action:  96 (random)\n",
      "0.32024432809773123 0.519442866428173 0.8396871945259042\n",
      "Action:  64 (random)\n",
      "0.6635355712965815 0.18323862225180565 0.8467741935483871\n",
      "Action:  27 (random)\n",
      "0.45462478184991273 0.39483758374148514 0.8494623655913979\n",
      "Action:  40 (random)\n",
      "0.4530335694487219 0.39642879614267595 0.8494623655913979\n",
      "Action:  53 (random)\n",
      "0.5287444820860281 0.32120664205864446 0.8499511241446726\n",
      "Action:  60 (random)\n",
      "0.504824966635869 0.48063446640420926 0.9854594330400782\n",
      "Frame:  7 Number of View Points:  7\n",
      "\n",
      "Action:  1 (random)\n",
      "0.6783697772302638 0.25070823695413336 0.9290780141843972\n",
      "Action:  30 (random)\n",
      "0.4592444307565958 0.470934097000802 0.9301785277573978\n",
      "Action:  36 (random)\n",
      "0.3038702391951545 0.6902603550821749 0.9941305942773294\n",
      "Frame:  10 Number of View Points:  3\n",
      "\n",
      "Action:  73 (random)\n",
      "0.5527666564007802 0.13913647471467971 0.6919031311154599\n",
      "Action:  5 (random)\n",
      "0.47279540088286626 0.23402945234609657 0.7068248532289628\n",
      "Action:  6 (random)\n",
      "0.47279540088286626 0.5252476519547071 0.9980430528375733\n",
      "Frame:  13 Number of View Points:  3\n",
      "\n",
      "Action:  99 (random)\n",
      "0.2116825787906786 0.4958968833120109 0.7075794621026895\n",
      "Action:  65 (random)\n",
      "0.5816651267836978 0.2662566336075003 0.847921760391198\n",
      "Action:  3 (random)\n",
      "0.6235499435376245 0.3632471224770454 0.9867970660146699\n",
      "Frame:  16 Number of View Points:  3\n",
      "\n",
      "Action:  69 (random)\n",
      "0.5148855353659788 0.47031867104145575 0.9852042064074346\n",
      "Frame:  17 Number of View Points:  1\n",
      "\n",
      "Action:  60 (random)\n",
      "0.504824966635869 0.333055860477798 0.837880827113667\n",
      "Action:  52 (random)\n",
      "0.504824966635869 0.33330056866328683 0.8381255352991558\n",
      "Action:  27 (random)\n",
      "0.45462478184991273 0.5267773960529382 0.9814021779028509\n",
      "Frame:  20 Number of View Points:  3\n",
      "\n",
      "Action:  84 (random)\n",
      "0.5262293399035006 0.1791420047679786 0.7053713446714792\n",
      "Action:  83 (random)\n",
      "0.5256647161482394 0.32799978892945547 0.8536645050776949\n",
      "Action:  80 (random)\n",
      "0.5232522328303049 0.4698959379760086 0.9931481708063135\n",
      "Frame:  23 Number of View Points:  3\n",
      "\n",
      "Action:  33 (random)\n",
      "0.43116723129042195 0.17252560314342497 0.6036928344338469\n",
      "Action:  25 (random)\n",
      "0.30961913561236015 0.2993317081147125 0.6089508437270726\n",
      "Action:  43 (random)\n",
      "0.4498511446463402 0.3016773464272719 0.7515284910736121\n",
      "Action:  58 (random)\n",
      "0.4833179345036444 0.49626142475289753 0.9795793592565419\n",
      "Frame:  27 Number of View Points:  4\n",
      "\n",
      "Action:  15 (random)\n",
      "0.4646340211477261 0.38618525006772997 0.8508192712154561\n",
      "Action:  49 (random)\n",
      "0.3005851555281799 0.5507232328308321 0.851308388359012\n",
      "Action:  26 (random)\n",
      "0.3188584334257263 0.6697695929865994 0.9886280264123257\n",
      "Frame:  30 Number of View Points:  3\n",
      "\n",
      "Action:  76 (random)\n",
      "0.5202751257571091 0.18303904814530014 0.7033141739024092\n",
      "Action:  61 (random)\n",
      "0.5094959449748486 0.3309100719017565 0.8404060168766051\n",
      "Action:  73 (random)\n",
      "0.5527666564007802 0.3481750092467678 0.900941665647548\n",
      "Action:  93 (random)\n",
      "0.474591931013243 0.5087760523547404 0.9833679833679834\n",
      "Frame:  34 Number of View Points:  4\n",
      "\n",
      "Action:  88 (random)\n",
      "0.5261266810389077 0.4661716074696498 0.9922982885085575\n",
      "Frame:  35 Number of View Points:  1\n",
      "\n",
      "Action:  76 (random)\n",
      "0.5202751257571091 0.33269123509916 0.8529663608562691\n",
      "Action:  5 (random)\n",
      "0.47279540088286626 0.3835960364260022 0.8563914373088685\n",
      "Action:  75 (random)\n",
      "0.6509598603839442 0.2061655218790528 0.857125382262997\n",
      "Action:  45 (random)\n",
      "0.30130376758033056 0.6923353761505562 0.9936391437308868\n",
      "Frame:  39 Number of View Points:  4\n",
      "\n",
      "Action:  22 (random)\n",
      "0.4630941381788317 0.38164913810478684 0.8447432762836186\n",
      "Action:  43 (random)\n",
      "0.4498511446463402 0.39880411207737615 0.8486552567237163\n",
      "Action:  0 (random)\n",
      "0.7858536084590905 0.2113346555995892 0.9971882640586797\n",
      "Frame:  42 Number of View Points:  3\n",
      "\n",
      "Action:  7 (random)\n",
      "0.4728467303151627 0.3788828870910223 0.851729617406185\n",
      "Action:  50 (random)\n",
      "0.4381993635150395 0.549943895255282 0.9881432587703215\n",
      "Frame:  44 Number of View Points:  2\n",
      "\n",
      "Action:  13 (random)\n",
      "0.3435992197926291 0.4246531955186098 0.7682524153112389\n",
      "Action:  79 (random)\n"
     ]
    },
    {
     "name": "stderr",
     "output_type": "stream",
     "text": [
      "ERROR:root:Internal Python error in the inspect module.\n",
      "Below is the traceback from this internal error.\n",
      "\n"
     ]
    },
    {
     "name": "stdout",
     "output_type": "stream",
     "text": [
      "Traceback (most recent call last):\n",
      "  File \"/opt/conda/lib/python3.7/site-packages/IPython/core/interactiveshell.py\", line 3319, in run_code\n",
      "    exec(code_obj, self.user_global_ns, self.user_ns)\n",
      "  File \"<ipython-input-9-b128a9fa4bfd>\", line 17, in <module>\n",
      "    next_state, reward, done, _, mask = env.step(action)\n",
      "  File \"<ipython-input-4-0d963be9001b>\", line 15, in step\n",
      "    observation, reward, done, info = self.env.step(action)\n",
      "  File \"/opt/conda/lib/python3.7/site-packages/gym/wrappers/frame_stack.py\", line 92, in step\n",
      "    observation, reward, done, info = self.env.step(action)\n",
      "  File \"/opt/conda/lib/python3.7/site-packages/gym/core.py\", line 275, in step\n",
      "    observation, reward, done, info = self.env.step(action)\n",
      "  File \"/opt/conda/lib/python3.7/site-packages/gym/core.py\", line 263, in step\n",
      "    observation, reward, done, info = self.env.step(action)\n",
      "  File \"/tf/NextBestViewRL/rl/environment.py\", line 234, in step\n",
      "    observation, reward, done, info = self.env.step(action)\n",
      "  File \"/opt/conda/lib/python3.7/site-packages/gym/core.py\", line 264, in step\n",
      "    return self.observation(observation), reward, done, info\n",
      "  File \"/tf/NextBestViewRL/rl/environment.py\", line 201, in observation\n",
      "    grid.build(observation.points, self.bounds, observation.occluded_points)\n",
      "  File \"/tf/NextBestViewRL/geometry/voxel_grid.py\", line 34, in build\n",
      "    self.occlusion_id)\n",
      "  File \"/tf/NextBestViewRL/geometry/voxel_grid.py\", line 59, in _build_grid\n",
      "    grid[ind[0], ind[1], ind[2]] = id\n",
      "KeyboardInterrupt\n",
      "\n",
      "During handling of the above exception, another exception occurred:\n",
      "\n",
      "Traceback (most recent call last):\n",
      "  File \"/opt/conda/lib/python3.7/site-packages/IPython/core/interactiveshell.py\", line 2034, in showtraceback\n",
      "    stb = value._render_traceback_()\n",
      "AttributeError: 'KeyboardInterrupt' object has no attribute '_render_traceback_'\n",
      "\n",
      "During handling of the above exception, another exception occurred:\n",
      "\n",
      "Traceback (most recent call last):\n",
      "  File \"/opt/conda/lib/python3.7/site-packages/IPython/core/ultratb.py\", line 1151, in get_records\n",
      "    return _fixed_getinnerframes(etb, number_of_lines_of_context, tb_offset)\n",
      "  File \"/opt/conda/lib/python3.7/site-packages/IPython/core/ultratb.py\", line 319, in wrapped\n",
      "    return f(*args, **kwargs)\n",
      "  File \"/opt/conda/lib/python3.7/site-packages/IPython/core/ultratb.py\", line 353, in _fixed_getinnerframes\n",
      "    records = fix_frame_records_filenames(inspect.getinnerframes(etb, context))\n",
      "  File \"/opt/conda/lib/python3.7/inspect.py\", line 1502, in getinnerframes\n",
      "    frameinfo = (tb.tb_frame,) + getframeinfo(tb, context)\n",
      "  File \"/opt/conda/lib/python3.7/inspect.py\", line 1464, in getframeinfo\n",
      "    lines, lnum = findsource(frame)\n",
      "  File \"/opt/conda/lib/python3.7/site-packages/IPython/core/ultratb.py\", line 185, in findsource\n",
      "    lines = linecache.getlines(file, globals_dict)\n",
      "  File \"/opt/conda/lib/python3.7/linecache.py\", line 47, in getlines\n",
      "    return updatecache(filename, module_globals)\n",
      "  File \"/opt/conda/lib/python3.7/linecache.py\", line 136, in updatecache\n",
      "    with tokenize.open(fullname) as fp:\n",
      "  File \"/opt/conda/lib/python3.7/tokenize.py\", line 449, in open\n",
      "    encoding, lines = detect_encoding(buffer.readline)\n",
      "  File \"/opt/conda/lib/python3.7/tokenize.py\", line 418, in detect_encoding\n",
      "    first = read_or_stop()\n",
      "  File \"/opt/conda/lib/python3.7/tokenize.py\", line 376, in read_or_stop\n",
      "    return readline()\n",
      "KeyboardInterrupt\n"
     ]
    },
    {
     "ename": "KeyboardInterrupt",
     "evalue": "",
     "output_type": "error",
     "traceback": [
      "\u001b[0;31m---------------------------------------------------------------------------\u001b[0m"
     ]
    }
   ],
   "source": [
    "num_frames = 100000\n",
    "batch_size = 2\n",
    "save_model_path = \"./models/abc-vdqn-{}.pt\"\n",
    "\n",
    "\n",
    "losses = []\n",
    "all_rewards = []\n",
    "all_nofs = []\n",
    "episode_reward = 0\n",
    "\n",
    "state, _, mask = env.reset()\n",
    "nof_vp = 0\n",
    "for frame_idx in range(1, num_frames + 1):\n",
    "    epsilon = epsilon_by_frame(frame_idx)\n",
    "    action = model.act(state, mask, epsilon)\n",
    "\n",
    "    next_state, reward, done, _, mask = env.step(action)\n",
    "    replay_buffer.push(state, action, reward, next_state, done, mask)\n",
    "\n",
    "    state = next_state\n",
    "    episode_reward += reward\n",
    "    nof_vp += 1\n",
    "\n",
    "    # env.render(action, state)\n",
    "\n",
    "    if done:\n",
    "        # final_reward = env.final_reward()\n",
    "        # print(\"Number of View Points: \", nof_vp, \" Hausdorff reward: \", final_reward)\n",
    "        print(\"Frame: \", frame_idx, \"Number of View Points: \", nof_vp)\n",
    "        print()\n",
    "\n",
    "        state, _, mask = env.reset()\n",
    "        all_rewards.append(episode_reward)\n",
    "        all_nofs.append(nof_vp)\n",
    "        episode_reward = 0\n",
    "        nof_vp = 0\n",
    "\n",
    "    elif nof_vp > 50:\n",
    "        state, _ = env.reset()\n",
    "        episode_reward = 0\n",
    "        nof_vp = 0\n",
    "        \n",
    "    if len(replay_buffer) > replay_initial:\n",
    "        batch = replay_buffer.sample(batch_size)\n",
    "        loss = model.compute_td_loss(*batch)\n",
    "        losses.append(loss.item())\n",
    "        \n",
    "    if frame_idx % 100 == 0:\n",
    "        plot(frame_idx, all_rewards, all_nofs, losses)\n",
    "        \n",
    "    if frame_idx % 500 ==  0:\n",
    "        torch.save(model, save_model_path.format(frame_idx))"
   ]
  },
  {
   "cell_type": "code",
   "execution_count": null,
   "metadata": {},
   "outputs": [],
   "source": []
  },
  {
   "cell_type": "code",
   "execution_count": 10,
   "metadata": {},
   "outputs": [],
   "source": [
    "ns, mask = batch[3], batch[5]"
   ]
  },
  {
   "cell_type": "code",
   "execution_count": 11,
   "metadata": {},
   "outputs": [
    {
     "data": {
      "text/plain": [
       "torch.Size([200])"
      ]
     },
     "execution_count": 11,
     "metadata": {},
     "output_type": "execute_result"
    }
   ],
   "source": [
    "mask.shape"
   ]
  },
  {
   "cell_type": "code",
   "execution_count": 46,
   "metadata": {
    "scrolled": true
   },
   "outputs": [
    {
     "data": {
      "text/plain": [
       "torch.Size([2, 256, 64, 64])"
      ]
     },
     "execution_count": 46,
     "metadata": {},
     "output_type": "execute_result"
    }
   ],
   "source": [
    "ns.shape"
   ]
  },
  {
   "cell_type": "code",
   "execution_count": 47,
   "metadata": {},
   "outputs": [],
   "source": [
    "a = model.forward(ns)"
   ]
  },
  {
   "cell_type": "code",
   "execution_count": 48,
   "metadata": {},
   "outputs": [
    {
     "ename": "RuntimeError",
     "evalue": "The size of tensor a (200) must match the size of tensor b (100) at non-singleton dimension 1",
     "output_type": "error",
     "traceback": [
      "\u001b[0;31m---------------------------------------------------------------------------\u001b[0m",
      "\u001b[0;31mRuntimeError\u001b[0m                              Traceback (most recent call last)",
      "\u001b[0;32m<ipython-input-48-987767e1a581>\u001b[0m in \u001b[0;36m<module>\u001b[0;34m\u001b[0m\n\u001b[0;32m----> 1\u001b[0;31m \u001b[0mtorch\u001b[0m\u001b[0;34m.\u001b[0m\u001b[0mmul\u001b[0m\u001b[0;34m(\u001b[0m\u001b[0mmask\u001b[0m\u001b[0;34m,\u001b[0m \u001b[0ma\u001b[0m\u001b[0;34m)\u001b[0m\u001b[0;34m\u001b[0m\u001b[0;34m\u001b[0m\u001b[0m\n\u001b[0m",
      "\u001b[0;31mRuntimeError\u001b[0m: The size of tensor a (200) must match the size of tensor b (100) at non-singleton dimension 1"
     ]
    }
   ],
   "source": [
    "torch.mul(mask, a)"
   ]
  },
  {
   "cell_type": "code",
   "execution_count": 49,
   "metadata": {},
   "outputs": [
    {
     "data": {
      "text/plain": [
       "torch.Size([400])"
      ]
     },
     "execution_count": 49,
     "metadata": {},
     "output_type": "execute_result"
    }
   ],
   "source": [
    "mask.repeat(2).shape"
   ]
  },
  {
   "cell_type": "code",
   "execution_count": null,
   "metadata": {},
   "outputs": [],
   "source": []
  },
  {
   "cell_type": "code",
   "execution_count": null,
   "metadata": {
    "scrolled": true
   },
   "outputs": [],
   "source": [
    "illustrate_voxels(state)"
   ]
  },
  {
   "cell_type": "code",
   "execution_count": 12,
   "metadata": {},
   "outputs": [
    {
     "data": {
      "image/png": "[encoded data removed]",
      "text/plain": [
       "<Figure size 1440x360 with 3 Axes>"
      ]
     },
     "metadata": {
      "needs_background": "light"
     },
     "output_type": "display_data"
    }
   ],
   "source": [
    "plot(frame_idx, all_rewards, all_nofs, losses)\n"
   ]
  },
  {
   "cell_type": "code",
   "execution_count": 13,
   "metadata": {},
   "outputs": [],
   "source": [
    "def compute_metrics(env, agent_func, iter_cnt=10, max_iter=30):\n",
    "    rewards, final_rewards, novp = [], [], []\n",
    "    for _ in range(iter_cnt):\n",
    "        state, action = env.reset()\n",
    "        episode_reward = 0.0\n",
    "        for t in range(max_iter):\n",
    "            action = agent_func(state)\n",
    "            state, reward, done, info = env.step(action)\n",
    "            # print(\"REWARD: \", reward)\n",
    "            env.render(action, state)\n",
    "            episode_reward += reward\n",
    "\n",
    "            if done:\n",
    "                break\n",
    "\n",
    "        final_reward = 0\n",
    "        # final_reward = env.final_reward()\n",
    "        # episode_reward += 1.0 / final_reward\n",
    "        rewards.append(episode_reward)\n",
    "        final_rewards.append(final_reward)\n",
    "        novp.append(t + 1)\n",
    "    return np.mean(rewards), np.mean(final_rewards), np.mean(novp)"
   ]
  },
  {
   "cell_type": "code",
   "execution_count": null,
   "metadata": {},
   "outputs": [
    {
     "name": "stdout",
     "output_type": "stream",
     "text": [
      "Action:  60\n"
     ]
    },
    {
     "name": "stderr",
     "output_type": "stream",
     "text": [
      "/opt/conda/lib/python3.6/site-packages/traittypes/traittypes.py:101: UserWarning: Given trait value dtype \"float64\" does not match required type \"float32\". A coerced copy has been created.\n",
      "  np.dtype(self.dtype).name))\n"
     ]
    },
    {
     "name": "stdout",
     "output_type": "stream",
     "text": [
      "Action:  60\n",
      "Action:  60\n",
      "Action:  60\n",
      "Action:  60\n",
      "Action:  60\n",
      "Action:  60\n",
      "Action:  60\n",
      "Action:  60\n",
      "Action:  60\n",
      "Action:  60\n",
      "Action:  60\n",
      "Action:  60\n",
      "Action:  60\n",
      "Action:  60\n",
      "Action:  60\n",
      "Action:  60\n",
      "Action:  60\n",
      "Action:  60\n",
      "Action:  60\n"
     ]
    }
   ],
   "source": [
    "agent_func = lambda s : model.act(s, epsilon=0.0)\n",
    "result = compute_metrics(env, agent_func)"
   ]
  },
  {
   "cell_type": "code",
   "execution_count": null,
   "metadata": {},
   "outputs": [],
   "source": []
  },
  {
   "cell_type": "code",
   "execution_count": 60,
   "metadata": {
    "scrolled": true
   },
   "outputs": [
    {
     "name": "stdout",
     "output_type": "stream",
     "text": [
      "9.437184 G\n",
      "104.8576 G\n",
      "9.5367431640625 T\n"
     ]
    }
   ],
   "source": [
    "print((6 * 256 * 256 * 8) / 1e9 * 3000, 'G')\n",
    "print((10 * 512 * 512 * 8) / 1e9 * 5000, 'G')\n",
    "print(1e6 * 10 * 512 * 512 * 4 / 2 ** 40, 'T')"
   ]
  },
  {
   "cell_type": "code",
   "execution_count": null,
   "metadata": {},
   "outputs": [],
   "source": []
  },
  {
   "cell_type": "code",
   "execution_count": null,
   "metadata": {},
   "outputs": [],
   "source": [
    "TODO Today:\n",
    "    1. + check DQN with A, S as input -> send Sergey\n",
    "    2. + Smaller depth_maps (6 * 256 * 256)\n",
    "    3. + Illustrate reward as area + novp\n",
    "    4. + Distributed Buffer\n",
    "    5. + Buffer on hard disk (memmap)\n",
    "    6. Floats to int\n",
    "    7. GPU raycasting\n",
    "    8. * Greedy algo\n",
    "    9. * Voxels\n",
    "    10. CNN different shapes input\n",
    "    11. Preprocessed depth_maps\n",
    "    \n",
    "    10. Overfit experiments \n",
    "    11. ABC experiment\n",
    "    \n",
    "    12. Experiment radius = 1.0\n",
    "    13. Experiments with smaller reward fine\n",
    "    14. Experiment with different DQN-s\n",
    "    15. ABC - write random model reading\n",
    "    \n",
    "\n",
    "Ideas:\n",
    "    1. Add fine for same view_point\n",
    "    \n",
    "Big Experiments:\n",
    "    1. Voxels\n",
    "    2. PointNet\n",
    "    3. Context (N first view_points)\n",
    "    4. Meta-learning, подавать от простой к сложной детальке"
   ]
  },
  {
   "cell_type": "code",
   "execution_count": 15,
   "metadata": {},
   "outputs": [],
   "source": [
    "difficult = [\n",
    "    \"00020107_b27a1602d1d44a3d89140ce4_007.obj\",\n",
    "    \"00010095_5ae1ee45b583467fa009adc4_006.obj\",\n",
    "    \"00010163_ccef4063b69f428e91b498c9_008.obj\",\n",
    "    \"00010145_77759770d8cd48af80775d86_002.obj\",\n",
    "    \"00010153_556de37e0a7447fcbfbdfd22_000.obj\",\n",
    "    \"00010162_ccef4063b69f428e91b498c9_007.obj\",\n",
    "    \"00020074_37170a1ba80747f1a1478985_000.obj\",\n",
    "    \"00020077_bf146f0c5dee4199be920a21_000.obj\",\n",
    "    \"00020080_7a689565e1e0481ca3ad4a6f_000.obj\",\n",
    "    \"00010164_ccef4063b69f428e91b498c9_009.obj\",\n",
    "    \"00010179_f91d806ac1e34ea1b14e23be_000.obj\",\n",
    "    \"00020095_842a932142a9431784488344_000.obj\",\n",
    "    \"00020097_e24ecc9c647f4bd1832bfb1d_000.obj\",\n",
    "    \"00020106_b27a1602d1d44a3d89140ce4_006.obj\",\n",
    "    \"00020141_b27a1602d1d44a3d89140ce4_041.obj\",\n",
    "    \"00020155_b27a1602d1d44a3d89140ce4_055.obj\",\n",
    "    \"00020186_b27a1602d1d44a3d89140ce4_086.obj\",\n",
    "    \"00020202_b27a1602d1d44a3d89140ce4_102.obj\",\n",
    "    \"00020203_b27a1602d1d44a3d89140ce4_103.obj\",\n",
    "    \"00020213_1f65839d7f6c42bf8c2b3391_000.obj\"]"
   ]
  },
  {
   "cell_type": "code",
   "execution_count": null,
   "metadata": {},
   "outputs": [],
   "source": []
  }
 ],
 "metadata": {
  "kernelspec": {
   "display_name": "Python 3",
   "language": "python",
   "name": "python3"
  },
  "language_info": {
   "codemirror_mode": {
    "name": "ipython",
    "version": 3
   },
   "file_extension": ".py",
   "mimetype": "text/x-python",
   "name": "python",
   "nbconvert_exporter": "python",
   "pygments_lexer": "ipython3",
   "version": "3.7.4"
  }
 },
 "nbformat": 4,
 "nbformat_minor": 4
}
