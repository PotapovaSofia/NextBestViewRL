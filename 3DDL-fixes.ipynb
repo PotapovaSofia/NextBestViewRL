{
 "cells": [
  {
   "cell_type": "code",
   "execution_count": 1,
   "metadata": {},
   "outputs": [],
   "source": [
    "import numpy as np\n",
    "import itertools\n",
    "import trimesh\n",
    "import math\n",
    "import k3d\n",
    "from time import sleep\n",
    "\n",
    "from IPython.display import clear_output\n",
    "import matplotlib.pyplot as plt\n",
    "%matplotlib inline\n",
    "\n",
    "import warnings\n",
    "warnings.filterwarnings('ignore')\n",
    "\n",
    "from geometry.model import Model, combine_observations, get_mesh\n",
    "from geometry.utils.visualisation import illustrate_points, illustrate_mesh\n",
    "\n",
    "\n",
    "# !conda install -c conda-forge pyembree\n",
    "# !conda install -c conda-forge igl\n",
    "# !pip install Cython\n",
    "# !pip install gym"
   ]
  },
  {
   "cell_type": "code",
   "execution_count": 3,
   "metadata": {
    "scrolled": true
   },
   "outputs": [
    {
     "data": {
      "application/vnd.jupyter.widget-view+json": {
       "model_id": "7369d8a8e40c4054b38b5eb48b9b011d",
       "version_major": 2,
       "version_minor": 0
      },
      "text/plain": [
       "Output()"
      ]
     },
     "metadata": {},
     "output_type": "display_data"
    },
    {
     "name": "stderr",
     "output_type": "stream",
     "text": [
      "unable to load materials from: FinalBaseMesh.mtl\n",
      "specified material (default)  not loaded!\n",
      "ERROR:root:Internal Python error in the inspect module.\n",
      "Below is the traceback from this internal error.\n",
      "\n"
     ]
    },
    {
     "name": "stdout",
     "output_type": "stream",
     "text": [
      "Traceback (most recent call last):\n",
      "  File \"/opt/conda/lib/python3.7/site-packages/IPython/core/interactiveshell.py\", line 3319, in run_code\n",
      "    exec(code_obj, self.user_global_ns, self.user_ns)\n",
      "  File \"<ipython-input-3-30b1dabedaf0>\", line 12, in <module>\n",
      "    observation = model.get_observation(view_point_idx)\n",
      "  File \"/tf/NextBestViewRL/geometry/model.py\", line 154, in get_observation\n",
      "    observation = self.raycast()\n",
      "  File \"/tf/NextBestViewRL/geometry/model.py\", line 134, in raycast\n",
      "    mesh_face_indexes) = self.raycaster.get_image(self.mesh)\n",
      "  File \"/tf/NextBestViewRL/geometry/utils/raycasting.py\", line 25, in get_image\n",
      "    mesh, self.rays_origins, self.rays_directions)\n",
      "  File \"/tf/NextBestViewRL/geometry/utils/raycasting.py\", line 105, in ray_cast_mesh\n",
      "    multiple_hits=False, return_locations=True)\n",
      "  File \"/opt/conda/lib/python3.7/site-packages/trimesh/constants.py\", line 134, in timed\n",
      "    result = method(*args, **kwargs)\n",
      "  File \"/opt/conda/lib/python3.7/site-packages/trimesh/ray/ray_pyembree.py\", line 243, in intersects_id\n",
      "    else np.array(result_locations))\n",
      "KeyboardInterrupt\n",
      "\n",
      "During handling of the above exception, another exception occurred:\n",
      "\n",
      "Traceback (most recent call last):\n",
      "  File \"/opt/conda/lib/python3.7/site-packages/IPython/core/interactiveshell.py\", line 2034, in showtraceback\n",
      "    stb = value._render_traceback_()\n",
      "AttributeError: 'KeyboardInterrupt' object has no attribute '_render_traceback_'\n",
      "\n",
      "During handling of the above exception, another exception occurred:\n",
      "\n",
      "Traceback (most recent call last):\n",
      "  File \"/opt/conda/lib/python3.7/site-packages/IPython/core/ultratb.py\", line 1151, in get_records\n",
      "    return _fixed_getinnerframes(etb, number_of_lines_of_context, tb_offset)\n",
      "  File \"/opt/conda/lib/python3.7/site-packages/IPython/core/ultratb.py\", line 319, in wrapped\n",
      "    return f(*args, **kwargs)\n",
      "  File \"/opt/conda/lib/python3.7/site-packages/IPython/core/ultratb.py\", line 353, in _fixed_getinnerframes\n",
      "    records = fix_frame_records_filenames(inspect.getinnerframes(etb, context))\n",
      "  File \"/opt/conda/lib/python3.7/inspect.py\", line 1502, in getinnerframes\n",
      "    frameinfo = (tb.tb_frame,) + getframeinfo(tb, context)\n",
      "  File \"/opt/conda/lib/python3.7/inspect.py\", line 1460, in getframeinfo\n",
      "    filename = getsourcefile(frame) or getfile(frame)\n",
      "  File \"/opt/conda/lib/python3.7/inspect.py\", line 696, in getsourcefile\n",
      "    if getattr(getmodule(object, filename), '__loader__', None) is not None:\n",
      "  File \"/opt/conda/lib/python3.7/inspect.py\", line 742, in getmodule\n",
      "    os.path.realpath(f)] = module.__name__\n",
      "  File \"/opt/conda/lib/python3.7/posixpath.py\", line 395, in realpath\n",
      "    path, ok = _joinrealpath(filename[:0], filename, {})\n",
      "  File \"/opt/conda/lib/python3.7/posixpath.py\", line 429, in _joinrealpath\n",
      "    if not islink(newpath):\n",
      "  File \"/opt/conda/lib/python3.7/posixpath.py\", line 171, in islink\n",
      "    st = os.lstat(path)\n",
      "KeyboardInterrupt\n"
     ]
    },
    {
     "ename": "KeyboardInterrupt",
     "evalue": "",
     "output_type": "error",
     "traceback": [
      "\u001b[0;31m---------------------------------------------------------------------------\u001b[0m"
     ]
    }
   ],
   "source": [
    "NUM_POINTS = 10\n",
    "\n",
    "\n",
    "plot = k3d.plot(name='points')\n",
    "plot.display()\n",
    "\n",
    "model = Model(\"./data/Dude.obj\")\n",
    "model.generate_view_points(NUM_POINTS)\n",
    "\n",
    "observations = []\n",
    "for view_point_idx in range(NUM_POINTS):\n",
    "    observation = model.get_observation(view_point_idx)\n",
    "    \n",
    "    plot = observation.illustrate(plot, size=0.04)\n",
    "    plot = illustrate_points([model.get_point(view_point_idx)], size=1.0, plot=plot)\n",
    "    sleep(2)\n",
    "    \n",
    "    observations.append(observation)\n",
    "    \n",
    "combined_observation = combine_observations(observations)\n",
    "reconstructed_vertices, reconstructed_faces = get_mesh(combined_observation)\n",
    "\n",
    "loss = model.surface_similarity(reconstructed_vertices, reconstructed_faces)\n",
    "print(loss)\n",
    "\n",
    "illustrate_mesh(reconstructed_vertices, reconstructed_faces)"
   ]
  },
  {
   "cell_type": "markdown",
   "metadata": {},
   "source": [
    "## Environment"
   ]
  },
  {
   "cell_type": "code",
   "execution_count": 2,
   "metadata": {},
   "outputs": [],
   "source": [
    "import gym\n",
    "from gym import spaces\n",
    "\n",
    "from pypoisson import poisson_reconstruction\n",
    "\n",
    "\n",
    "MAX_POINS_CNT = int(1e6)\n",
    "VIEW_POINTS_CNT = 10\n",
    "MEMORY_SIZE = 10\n",
    "\n",
    "\n",
    "class EnvError(Exception):\n",
    "    pass\n",
    "\n",
    "\n",
    "class Environment(gym.Env):\n",
    "    def __init__(self,\n",
    "                 number_of_view_points=VIEW_POINTS_CNT,\n",
    "                 similarity_threshold=0.95,\n",
    "                 illustrate=False):\n",
    "        super().__init__()\n",
    "\n",
    "        self.number_of_view_points = number_of_view_points\n",
    "        self.illustrate = illustrate\n",
    "\n",
    "        self.action_space = spaces.Discrete(number_of_view_points)\n",
    "        \n",
    "        image_size = 512 # model.raycaster.resolution_image\n",
    "\n",
    "        self.observation_space = spaces.Dict({\n",
    "            'points':  spaces.Box(-np.inf, np.inf, (MAX_POINS_CNT, 3), dtype=np.float32),\n",
    "            # 'normals': spaces.Box(-np.inf, np.inf, (MAX_POINS_CNT, 3), dtype=np.float32),\n",
    "            # 'vertex_indexes': spaces.Box(-np.inf, np.inf, (MAX_POINS_CNT, 3), dtype=np.int32),\n",
    "            # 'face_indexes': spaces.Box(-np.inf, np.inf, (MAX_POINS_CNT, 3), dtype=np.int32),\n",
    "            'depth_map': spaces.Box(-np.inf, np.inf, (MEMORY_SIZE, image_size, image_size), dtype=np.float32),\n",
    "            # 'normals_image': spaces.Box(-np.inf, np.inf, (VIEW_POINTS_CNT, image_size, image_size), dtype=np.float32)\n",
    "        })\n",
    "\n",
    "        self._similarity_threshold = similarity_threshold\n",
    "        self._reconstruction_depth = 10\n",
    "\n",
    "        self.model = None\n",
    "        self.plot = None\n",
    "\n",
    "    def reset(self):\n",
    "        \"\"\"\n",
    "        Reset the environment for new episode.\n",
    "        Randomly (or not) generate CAD model for this episode.\n",
    "        \"\"\"\n",
    "        self.model = Model(\"./data/Tetrahedron.obj\")\n",
    "        self.model.generate_view_points(self.number_of_view_points)\n",
    "        \n",
    "        if self.illustrate:\n",
    "            self.model.illustrate().display()\n",
    "        \n",
    "        init_state = self.action_space.sample()\n",
    "        observation = self.model.get_observation(init_state)\n",
    "        return observation\n",
    "\n",
    "    def step(self, action):\n",
    "        \"\"\"\n",
    "        Get new observation from current position (action), count step reward, decide whether to stop.\n",
    "        Args:\n",
    "            action: int\n",
    "        return: \n",
    "            next_state: List[List[List[int, int, int]]]\n",
    "            reward: float\n",
    "            done: bool\n",
    "            info: Tuple\n",
    "        \"\"\"\n",
    "        assert env.action_space.contains(action)\n",
    "        observation = self.model.get_observation(action)\n",
    "\n",
    "        reward = self.step_reward(observation)\n",
    "        done = reward >= self._similarity_threshold\n",
    "\n",
    "        return observation, reward, done, {}\n",
    "    \n",
    "    def render(self, action, observation, plot=None):\n",
    "        if plot is None:\n",
    "            plot = self.plot\n",
    "            \n",
    "        plot = illustrate_points(\n",
    "           [self.model.get_point(action)], size=0.5, plot=plot)\n",
    "        \n",
    "        plot = observation.illustrate(plot, size=0.03)\n",
    "        return plot\n",
    "    \n",
    "    def step_reward(self, observation):\n",
    "        # THINK ABOUT yet another reward\n",
    "        return self.model.observation_similarity(observation)\n",
    "    \n",
    "    def final_reward(self, observation):\n",
    "        vertices, faces = self._get_mesh(observation)\n",
    "        reward = self.model.surface_similarity(vertices, faces)\n",
    "        \n",
    "        if self.illustrate:\n",
    "            illustrate_mesh(vertices, faces).display()\n",
    "        return reward\n",
    "        \n",
    "    def _get_mesh(self, observation):\n",
    "        faces, vertices = poisson_reconstruction(observation.points,\n",
    "                                                 observation.normals,\n",
    "                                                 depth=self._reconstruction_depth)\n",
    "        return vertices, faces\n",
    "\n",
    "    \n",
    "class CombiningObservationsWrapper(gym.Wrapper):\n",
    "    def __init__(self, env):\n",
    "        super().__init__(env)\n",
    "        \n",
    "        self._similarity_threshold = env._similarity_threshold\n",
    "\n",
    "        self.combined_observation = None\n",
    "        self.plot = None\n",
    "    \n",
    "    def reset(self):\n",
    "        observation = self.env.reset()\n",
    "        self.combined_observation = observation\n",
    "        \n",
    "        if self.env.illustrate:\n",
    "            self.plot = k3d.plot(name='wrapper')\n",
    "            self.plot.display()\n",
    "        return self.combined_observation\n",
    "  \n",
    "    def step(self, action):\n",
    "        observation, reward, done, info = self.env.step(action)\n",
    "\n",
    "        self._combine_observations(observation)\n",
    "\n",
    "        combined_reward = self.env.step_reward(self.combined_observation)\n",
    "        done = done or combined_reward >= self._similarity_threshold\n",
    "        \n",
    "        new_reward = combined_reward - reward\n",
    "        print(combined_reward, new_reward, reward)\n",
    "        return self.combined_observation, new_reward, done, info\n",
    "\n",
    "    def render(self, action, observation):\n",
    "        self.plot = self.env.render(action, observation, self.plot)\n",
    "        \n",
    "    def final_reward(self):\n",
    "        return self.env.final_reward(self.combined_observation)\n",
    "    \n",
    "    def _combine_observations(self, observation):\n",
    "        if self.combined_observation is None:\n",
    "            raise EnvError(\"Environment wasn't reset\")\n",
    "        \n",
    "        self.combined_observation += observation\n",
    "\n",
    "\n",
    "class StepPenaltyRewardWrapper(gym.RewardWrapper):\n",
    "    def __init__(self, env):\n",
    "        super().__init__(env)\n",
    "        \n",
    "        self._similarity_reward_weight = 1.0\n",
    "            \n",
    "    def reward(self, reward):\n",
    "        # THINK ABOUT\n",
    "        reward = -1 + self._similarity_reward_weight * reward\n",
    "        return reward\n",
    "    \n",
    "    def render(self, action, observation):\n",
    "        self.env.render(action, observation)\n",
    "        \n",
    "    def final_reward(self):\n",
    "        return self.env.final_reward()\n",
    "\n",
    "    \n",
    "class DepthMapWrapper(gym.ObservationWrapper):\n",
    "    def __init__(self, env):\n",
    "        super().__init__(env)\n",
    "        \n",
    "        self.observation_space = self.observation_space['depth_map']\n",
    "        self.image_size = self.observation_space.shape[1]\n",
    "        self.memory_size = self.observation_space.shape[0]\n",
    "        \n",
    "        self.last_observation = None\n",
    "\n",
    "    def reset(self):\n",
    "        observation = self.env.reset()\n",
    "        return self.observation(observation)\n",
    "\n",
    "    def observation(self, observation):\n",
    "        self.last_observation = observation\n",
    "\n",
    "        depth_map = observation.depth_map\n",
    "        assert depth_map.ndim == 3\n",
    "\n",
    "        new_size = self.memory_size - depth_map.shape[0]\n",
    "        if new_size >= 0:\n",
    "            depth_map = np.pad(depth_map,\n",
    "                               ((0,new_size),(0,0), (0,0)),\n",
    "                               mode='constant')\n",
    "        else:\n",
    "            depth_map = depth_map[-new_size:]\n",
    "            \n",
    "        return depth_map\n",
    "    \n",
    "    def render(self, action, observation):\n",
    "        if self.last_observation is not None:\n",
    "            self.env.render(action, self.last_observation)\n",
    "    \n",
    "    def final_reward(self):\n",
    "        return self.env.final_reward()\n",
    "\n",
    "        \n",
    "        \n",
    "# TODO one more wrapper for GPU (observation, reward -> tensor)"
   ]
  },
  {
   "cell_type": "markdown",
   "metadata": {},
   "source": [
    "## RandomAgent"
   ]
  },
  {
   "cell_type": "code",
   "execution_count": 3,
   "metadata": {},
   "outputs": [],
   "source": [
    "class RandomAgent:\n",
    "\n",
    "    def __init__(self, env):\n",
    "        self.env = env\n",
    "        \n",
    "        # self.observation_size = env.observation_space.shape[0]\n",
    "        self.actions_cnt = env.action_space.n\n",
    "        \n",
    "        self._max_iter = 2\n",
    "        self._gamma = 0.99\n",
    "        self._final_reward_weight = 1.0\n",
    "  \n",
    "\n",
    "    def predict_action(self, state):\n",
    "        \"\"\"\n",
    "        Return action that should be done from input state according to current policy.\n",
    "        Args:\n",
    "            state: list of points - results of raycasting\n",
    "        return: \n",
    "            action: int\n",
    "        \"\"\"    \n",
    "        # some cool RL staff\n",
    "        return self.env.action_space.sample()\n",
    "    \n",
    "\n",
    "    def evaluate(self):\n",
    "        \"\"\"\n",
    "        Generate CAD model, reconstruct it and count the reward according   to MSE between original and reconstructed models and number of steps.\n",
    "        Args:\n",
    "            environment: Environment\n",
    "            max_iter: int - max number of iterations to stop (~15)\n",
    "            gamma: float - discounted factor\n",
    "            w: float - weight of mse to final episode reward\n",
    "        return: \n",
    "            episode_reward: float\n",
    "        \"\"\"    \n",
    "        \n",
    "        state = self.env.reset()\n",
    "        episode_reward = 0.0\n",
    "        states = []\n",
    "        for t in range(self._max_iter):\n",
    "            action = self.predict_action(state)\n",
    "            state, reward, done, info = self.env.step(action)\n",
    "            print(\"REWARD: \", reward)\n",
    "            states.append(state)\n",
    "            self.env.render(action, state)\n",
    "            episode_reward += reward * self._gamma ** t\n",
    "\n",
    "            if done:\n",
    "                break\n",
    "        \n",
    "        final_reward = self.env.final_reward()\n",
    "        print(\"Hausdorff reward: \", final_reward)\n",
    "        episode_reward += self._final_reward_weight / final_reward # QUESTION\n",
    "        return episode_reward, states\n"
   ]
  },
  {
   "cell_type": "code",
   "execution_count": 4,
   "metadata": {
    "scrolled": true
   },
   "outputs": [],
   "source": [
    "env = Environment(illustrate=False)\n",
    "env = CombiningObservationsWrapper(env)\n",
    "env = StepPenaltyRewardWrapper(env)\n",
    "env = DepthMapWrapper(env)\n",
    "\n",
    "agent = RandomAgent(env)"
   ]
  },
  {
   "cell_type": "code",
   "execution_count": 5,
   "metadata": {
    "scrolled": false
   },
   "outputs": [],
   "source": [
    "# reward, states = agent.evaluate()\n",
    "# print(\"FINAL REWARD: \", reward)"
   ]
  },
  {
   "cell_type": "markdown",
   "metadata": {},
   "source": [
    "## DQN"
   ]
  },
  {
   "cell_type": "code",
   "execution_count": 6,
   "metadata": {},
   "outputs": [],
   "source": [
    "import math, random\n",
    "\n",
    "import gym\n",
    "import numpy as np\n",
    "\n",
    "import torch\n",
    "import torch.nn as nn\n",
    "import torch.optim as optim\n",
    "import torch.autograd as autograd \n",
    "import torch.nn.functional as F"
   ]
  },
  {
   "cell_type": "code",
   "execution_count": 7,
   "metadata": {},
   "outputs": [],
   "source": [
    "USE_CUDA = torch.cuda.is_available()\n",
    "Variable = lambda *args, **kwargs: autograd.Variable(*args, **kwargs).cuda() if USE_CUDA else autograd.Variable(*args, **kwargs)"
   ]
  },
  {
   "cell_type": "markdown",
   "metadata": {},
   "source": [
    "### Replay buffer"
   ]
  },
  {
   "cell_type": "code",
   "execution_count": 8,
   "metadata": {},
   "outputs": [],
   "source": [
    "from collections import deque\n",
    "\n",
    "class ReplayBuffer(object):\n",
    "    def __init__(self, capacity):\n",
    "        self.buffer = deque(maxlen=capacity)\n",
    "    \n",
    "    def push(self, state, action, reward, next_state, done):\n",
    "        state      = np.expand_dims(state, 0)\n",
    "        next_state = np.expand_dims(next_state, 0)\n",
    "            \n",
    "        self.buffer.append((state, action, reward, next_state, done))\n",
    "    \n",
    "    def sample(self, batch_size):\n",
    "        state, action, reward, next_state, done = zip(*random.sample(self.buffer, batch_size))\n",
    "        return np.concatenate(state), action, reward, np.concatenate(next_state), done\n",
    "    \n",
    "    def __len__(self):\n",
    "        return len(self.buffer)\n",
    "\n"
   ]
  },
  {
   "cell_type": "markdown",
   "metadata": {},
   "source": [
    "### Epsilon-greedy"
   ]
  },
  {
   "cell_type": "code",
   "execution_count": 13,
   "metadata": {},
   "outputs": [
    {
     "data": {
      "text/plain": [
       "[<matplotlib.lines.Line2D at 0x7fa216c6efd0>]"
      ]
     },
     "execution_count": 13,
     "metadata": {},
     "output_type": "execute_result"
    },
    {
     "data": {
      "image/png": "[encoded data removed]",
      "text/plain": [
       "<Figure size 432x288 with 1 Axes>"
      ]
     },
     "metadata": {
      "needs_background": "light"
     },
     "output_type": "display_data"
    }
   ],
   "source": [
    "epsilon_start = 1.0\n",
    "epsilon_final = 0.01\n",
    "epsilon_decay = 500\n",
    "\n",
    "epsilon_by_frame = lambda frame_idx: epsilon_final + (epsilon_start - epsilon_final) * \\\n",
    "        math.exp(-1. * frame_idx / epsilon_decay)\n",
    "\n",
    "plt.plot([epsilon_by_frame(i) for i in range(1000)])"
   ]
  },
  {
   "cell_type": "markdown",
   "metadata": {},
   "source": [
    "### DQN"
   ]
  },
  {
   "cell_type": "code",
   "execution_count": 14,
   "metadata": {},
   "outputs": [],
   "source": [
    "class DQN(nn.Module):\n",
    "    def __init__(self, num_inputs, num_actions):\n",
    "        super(DQN, self).__init__()\n",
    "        \n",
    "        self.layers = nn.Sequential(\n",
    "            nn.Linear(env.observation_space.shape[0], 128),\n",
    "            nn.ReLU(),\n",
    "            nn.Linear(128, 128),\n",
    "            nn.ReLU(),\n",
    "            nn.Linear(128, env.action_space.n)\n",
    "        )\n",
    "        \n",
    "    def forward(self, x):\n",
    "        return self.layers(x)\n",
    "    \n",
    "    def act(self, state, epsilon):\n",
    "        if random.random() > epsilon:\n",
    "            state   = Variable(torch.FloatTensor(state).unsqueeze(0), volatile=True)\n",
    "            q_value = self.forward(state)\n",
    "            action  = q_value.max(1)[1].data[0]\n",
    "        else:\n",
    "            action = random.randrange(env.action_space.n)\n",
    "        return action\n",
    "    \n",
    "    \n",
    "    \n",
    "class CnnDQN(nn.Module):\n",
    "    def __init__(self, input_shape, num_actions):\n",
    "        super(CnnDQN, self).__init__()\n",
    "        \n",
    "        self.input_shape = input_shape\n",
    "        # TODO action input\n",
    "        self.num_actions = num_actions\n",
    "        \n",
    "        self.features = nn.Sequential(\n",
    "            nn.Conv2d(input_shape[0], 32, kernel_size=8, stride=4),\n",
    "            nn.ReLU(),\n",
    "            nn.Conv2d(32, 64, kernel_size=4, stride=2),\n",
    "            nn.ReLU(),\n",
    "            nn.Conv2d(64, 64, kernel_size=3, stride=1),\n",
    "            nn.ReLU(),\n",
    "            nn.Conv2d(64, 64, kernel_size=3, stride=1),\n",
    "            nn.ReLU(),\n",
    "            nn.Conv2d(64, 64, kernel_size=3, stride=1),\n",
    "            nn.ReLU()\n",
    "        )\n",
    "        \n",
    "        # concat with action_num\n",
    "        \n",
    "        self.fc = nn.Sequential(\n",
    "            nn.Linear(self.feature_size(), 512),\n",
    "            nn.ReLU(),\n",
    "            nn.Linear(512, self.num_actions)\n",
    "        )\n",
    "        \n",
    "    def forward(self, x):\n",
    "        x = self.features(x)\n",
    "        x = x.view(x.size(0), -1)\n",
    "        x = self.fc(x)\n",
    "        return x\n",
    "    \n",
    "    def feature_size(self):\n",
    "        return self.features(autograd.Variable(torch.zeros(1, *self.input_shape))).view(1, -1).size(1)\n",
    "    \n",
    "    def act(self, state, epsilon):\n",
    "        if random.random() > epsilon:\n",
    "            state   = Variable(torch.FloatTensor(np.float32(state)).unsqueeze(0), volatile=True)\n",
    "            q_value = self.forward(state)\n",
    "            action  = q_value.max(1)[1].item()\n",
    "            print(\"Action: \", action)\n",
    "        else:\n",
    "            action = random.randrange(env.action_space.n)\n",
    "            print(\"Action: \", action, \"(random)\")\n",
    "        return action"
   ]
  },
  {
   "cell_type": "code",
   "execution_count": 15,
   "metadata": {},
   "outputs": [],
   "source": [
    "def compute_td_loss(batch_size):\n",
    "    state, action, reward, next_state, done = replay_buffer.sample(batch_size)\n",
    "\n",
    "    state      = Variable(torch.FloatTensor(np.float32(state)))\n",
    "    next_state = Variable(torch.FloatTensor(np.float32(next_state)), volatile=True)\n",
    "    action     = Variable(torch.LongTensor(action))\n",
    "    reward     = Variable(torch.FloatTensor(reward))\n",
    "    done       = Variable(torch.FloatTensor(done))\n",
    "\n",
    "    q_values      = model(state)\n",
    "    next_q_values = model(next_state)\n",
    "\n",
    "    q_value          = q_values.gather(1, action.unsqueeze(1)).squeeze(1)\n",
    "    next_q_value     = next_q_values.max(1)[0]\n",
    "    expected_q_value = reward + gamma * next_q_value * (1 - done)\n",
    "    \n",
    "    loss = torch.mean((q_value - expected_q_value.detach()) ** 2)\n",
    "    optimizer.zero_grad()\n",
    "    loss.backward()\n",
    "    optimizer.step()\n",
    "    return loss"
   ]
  },
  {
   "cell_type": "code",
   "execution_count": 16,
   "metadata": {},
   "outputs": [],
   "source": [
    "env = Environment(illustrate=False)\n",
    "env = CombiningObservationsWrapper(env)\n",
    "env = StepPenaltyRewardWrapper(env)\n",
    "env = DepthMapWrapper(env)"
   ]
  },
  {
   "cell_type": "code",
   "execution_count": 17,
   "metadata": {
    "scrolled": true
   },
   "outputs": [],
   "source": [
    "model = CnnDQN(env.observation_space.shape, env.action_space.n)\n",
    "\n",
    "if USE_CUDA:\n",
    "    model = model.cuda()\n",
    "    \n",
    "optimizer = optim.Adam(model.parameters(), lr=0.001)\n",
    "\n",
    "replay_initial = 5\n",
    "replay_buffer = ReplayBuffer(20)"
   ]
  },
  {
   "cell_type": "code",
   "execution_count": 18,
   "metadata": {},
   "outputs": [],
   "source": [
    "def plot(frame_idx, rewards, losses):\n",
    "    clear_output(True)\n",
    "    plt.figure(figsize=(20,5))\n",
    "    plt.subplot(131)\n",
    "    plt.title('frame %s. reward: %s' % (frame_idx, np.mean(rewards[-10:])))\n",
    "    plt.plot(rewards)\n",
    "    plt.subplot(132)\n",
    "    plt.title('loss')\n",
    "    if len(losses) > 20:\n",
    "        plt.plot(losses[20:])\n",
    "    else:\n",
    "        plt.plot(losses)\n",
    "    plt.show()"
   ]
  },
  {
   "cell_type": "markdown",
   "metadata": {},
   "source": [
    "### Training"
   ]
  },
  {
   "cell_type": "code",
   "execution_count": 19,
   "metadata": {
    "scrolled": false
   },
   "outputs": [
    {
     "data": {
      "image/png": "[encoded data removed]",
      "text/plain": [
       "<Figure size 1440x360 with 2 Axes>"
      ]
     },
     "metadata": {
      "needs_background": "light"
     },
     "output_type": "display_data"
    }
   ],
   "source": [
    "num_frames = 1000\n",
    "batch_size = 4\n",
    "gamma      = 0.99\n",
    "\n",
    "losses = []\n",
    "all_rewards = []\n",
    "episode_reward = 0\n",
    "\n",
    "state = env.reset()\n",
    "nof_vp = 0\n",
    "for frame_idx in range(1, num_frames + 1):\n",
    "    epsilon = epsilon_by_frame(frame_idx)\n",
    "    action = model.act(state, epsilon)\n",
    "\n",
    "    next_state, reward, done, _ = env.step(action)\n",
    "    replay_buffer.push(state, action, reward, next_state, done)\n",
    "    \n",
    "    # QUESTION episode_reward += reward * self._gamma ** t\n",
    "\n",
    "    state = next_state\n",
    "    episode_reward += reward\n",
    "    nof_vp += 1\n",
    "\n",
    "    # env.render(action, state)\n",
    "\n",
    "    if done:\n",
    "#         final_reward = env.final_reward()\n",
    "#         print(\"Number of View Points: \", nof_vp, \" Hausdorff reward: \", final_reward)\n",
    "        print(\"Frame: \", frame_idx, \"Number of View Points: \", nof_vp)\n",
    "        print()\n",
    "        \n",
    "        state = env.reset()\n",
    "        nof_vp = 0\n",
    "        all_rewards.append(episode_reward)\n",
    "        episode_reward = 0\n",
    "        \n",
    "    if len(replay_buffer) > replay_initial:\n",
    "#         print(\"Computing loss\")\n",
    "        loss = compute_td_loss(batch_size)\n",
    "#         print(loss)\n",
    "        losses.append(loss.item())\n",
    "        \n",
    "    if frame_idx % 100 == 0:\n",
    "        plot(frame_idx, all_rewards, losses)\n",
    "        \n",
    "    if frame_idx % 500 ==  0:\n",
    "        torch.save(model, \"./models/triangle-10vp.pt\")"
   ]
  },
  {
   "cell_type": "code",
   "execution_count": 23,
   "metadata": {},
   "outputs": [],
   "source": [
    "torch.save(model, \"./models/triangle-10vp.pt\")"
   ]
  },
  {
   "cell_type": "code",
   "execution_count": 28,
   "metadata": {},
   "outputs": [],
   "source": [
    "env = Environment(illustrate=True)\n",
    "env = CombiningObservationsWrapper(env)\n",
    "env = StepPenaltyRewardWrapper(env)\n",
    "env = DepthMapWrapper(env)"
   ]
  },
  {
   "cell_type": "code",
   "execution_count": null,
   "metadata": {},
   "outputs": [
    {
     "data": {
      "application/vnd.jupyter.widget-view+json": {
       "model_id": "131211f6e2fa4b9392c3620c1dd8b4c0",
       "version_major": 2,
       "version_minor": 0
      },
      "text/plain": [
       "Output()"
      ]
     },
     "metadata": {},
     "output_type": "display_data"
    },
    {
     "data": {
      "application/vnd.jupyter.widget-view+json": {
       "model_id": "6c9d5fc7222a46de9b01d7d1584da028",
       "version_major": 2,
       "version_minor": 0
      },
      "text/plain": [
       "Output()"
      ]
     },
     "metadata": {},
     "output_type": "display_data"
    },
    {
     "name": "stdout",
     "output_type": "stream",
     "text": [
      "Action:  1\n",
      "0.7649794505732208 0.23534501406013408 0.5296344365130867\n",
      "REWARD:  -0.7646549859398659\n",
      "Action:  6\n",
      "0.7660609993510707 0.2966147523253299 0.46944624702574084\n",
      "REWARD:  -0.70338524767467\n",
      "Action:  6\n",
      "0.7660609993510707 0.2966147523253299 0.46944624702574084\n",
      "REWARD:  -0.70338524767467\n",
      "Action:  6\n",
      "0.7660609993510707 0.2966147523253299 0.46944624702574084\n",
      "REWARD:  -0.70338524767467\n",
      "Action:  6\n",
      "0.7660609993510707 0.2966147523253299 0.46944624702574084\n",
      "REWARD:  -0.70338524767467\n",
      "Action:  6\n",
      "0.7660609993510707 0.2966147523253299 0.46944624702574084\n",
      "REWARD:  -0.70338524767467\n",
      "Action:  6\n",
      "0.7660609993510707 0.2966147523253299 0.46944624702574084\n",
      "REWARD:  -0.70338524767467\n",
      "Action:  7\n",
      "0.7660609993510707 0.23750811161583385 0.5285528877352369\n",
      "REWARD:  -0.7624918883841661\n",
      "Action:  7\n",
      "0.7660609993510707 0.23745403417694144 0.5286069651741293\n",
      "REWARD:  -0.7625459658230586\n",
      "Action:  7\n",
      "0.7660609993510707 0.23750811161583385 0.5285528877352369\n",
      "REWARD:  -0.7624918883841661\n",
      "Action:  6\n",
      "0.7660609993510707 0.2966147523253299 0.46944624702574084\n",
      "REWARD:  -0.70338524767467\n",
      "Action:  6\n"
     ]
    }
   ],
   "source": [
    "max_iter = 100\n",
    "\n",
    "state = env.reset()\n",
    "episode_reward = 0.0\n",
    "states = []\n",
    "for t in range(max_iter):\n",
    "    action = model.act(state, epsilon=0.0)\n",
    "    state, reward, done, info = env.step(action)\n",
    "    print(\"REWARD: \", reward)\n",
    "    states.append(state)\n",
    "    env.render(action, state)\n",
    "    episode_reward += reward\n",
    "\n",
    "    if done:\n",
    "        break\n",
    "\n",
    "final_reward = env.final_reward()\n",
    "print(\"Hausdorff reward: \", final_reward)\n",
    "episode_reward += 1.0 / final_reward\n"
   ]
  },
  {
   "cell_type": "code",
   "execution_count": 31,
   "metadata": {},
   "outputs": [
    {
     "data": {
      "text/plain": [
       "-2.2363852743564823"
      ]
     },
     "execution_count": 31,
     "metadata": {},
     "output_type": "execute_result"
    }
   ],
   "source": [
    "episode_reward"
   ]
  },
  {
   "cell_type": "code",
   "execution_count": null,
   "metadata": {},
   "outputs": [],
   "source": []
  }
 ],
 "metadata": {
  "kernelspec": {
   "display_name": "Python 3",
   "language": "python",
   "name": "python3"
  },
  "language_info": {
   "codemirror_mode": {
    "name": "ipython",
    "version": 3
   },
   "file_extension": ".py",
   "mimetype": "text/x-python",
   "name": "python",
   "nbconvert_exporter": "python",
   "pygments_lexer": "ipython3",
   "version": "3.7.4"
  }
 },
 "nbformat": 4,
 "nbformat_minor": 4
}
