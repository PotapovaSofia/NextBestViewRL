{
 "cells": [
  {
   "cell_type": "code",
   "execution_count": 1,
   "metadata": {},
   "outputs": [],
   "source": [
    "import os\n",
    "import numpy as np\n",
    "import itertools\n",
    "import trimesh\n",
    "import math\n",
    "import k3d\n",
    "from time import sleep\n",
    "from tqdm import tqdm_notebook as tqdm\n",
    "\n",
    "from IPython.display import clear_output\n",
    "import matplotlib.pyplot as plt\n",
    "%matplotlib inline\n",
    "\n",
    "import warnings\n",
    "warnings.filterwarnings('ignore')\n",
    "\n",
    "from geometry.model import Model, combine_observations, get_mesh\n",
    "from geometry.utils.visualisation import illustrate_points, illustrate_mesh\n",
    "\n",
    "\n",
    "# !conda install -c conda-forge pyembree\n",
    "# !conda install -c conda-forge igl\n",
    "# !pip install Cython\n",
    "# !pip install gym"
   ]
  },
  {
   "cell_type": "code",
   "execution_count": 14,
   "metadata": {},
   "outputs": [
    {
     "data": {
      "application/vnd.jupyter.widget-view+json": {
       "model_id": "99fd843c67fa4bb7bf15171a5326af23",
       "version_major": 2,
       "version_minor": 0
      },
      "text/plain": [
       "Output()"
      ]
     },
     "metadata": {},
     "output_type": "display_data"
    },
    {
     "name": "stdout",
     "output_type": "stream",
     "text": [
      "CPU times: user 217 ms, sys: 4.02 ms, total: 221 ms\n",
      "Wall time: 53.1 ms\n",
      "CPU times: user 212 ms, sys: 3.88 ms, total: 216 ms\n",
      "Wall time: 51.7 ms\n",
      "CPU times: user 201 ms, sys: 11.8 ms, total: 213 ms\n",
      "Wall time: 51.2 ms\n",
      "CPU times: user 214 ms, sys: 8.14 ms, total: 222 ms\n",
      "Wall time: 53.9 ms\n",
      "CPU times: user 232 ms, sys: 11.9 ms, total: 243 ms\n",
      "Wall time: 58.2 ms\n",
      "CPU times: user 220 ms, sys: 8 µs, total: 220 ms\n",
      "Wall time: 52.9 ms\n",
      "CPU times: user 208 ms, sys: 7.87 ms, total: 215 ms\n",
      "Wall time: 51.9 ms\n",
      "CPU times: user 233 ms, sys: 0 ns, total: 233 ms\n",
      "Wall time: 56 ms\n",
      "CPU times: user 224 ms, sys: 0 ns, total: 224 ms\n",
      "Wall time: 54.5 ms\n",
      "CPU times: user 241 ms, sys: 4.13 ms, total: 245 ms\n",
      "Wall time: 59 ms\n",
      "CPU times: user 43.8 s, sys: 1.21 s, total: 45 s\n",
      "Wall time: 7 s\n",
      "0.46520023731505894\n"
     ]
    }
   ],
   "source": [
    "model = Model(\"./data/1kabc/simple/train/00070090_73b2f35a88394199b6fd1ab8_003.obj\")\n",
    "model.generate_view_points(10)\n",
    "\n",
    "model.illustrate()"
   ]
  },
  {
   "cell_type": "code",
   "execution_count": 2,
   "metadata": {},
   "outputs": [
    {
     "data": {
      "application/vnd.jupyter.widget-view+json": {
       "model_id": "ecc21dbc264148c8bc328479ae20afa4",
       "version_major": 2,
       "version_minor": 0
      },
      "text/plain": [
       "Output()"
      ]
     },
     "metadata": {},
     "output_type": "display_data"
    },
    {
     "ename": "KeyboardInterrupt",
     "evalue": "",
     "output_type": "error",
     "traceback": [
      "\u001b[0;31m---------------------------------------------------------------------------\u001b[0m",
      "\u001b[0;31mKeyboardInterrupt\u001b[0m                         Traceback (most recent call last)",
      "\u001b[0;32m<ipython-input-2-719a2e06a336>\u001b[0m in \u001b[0;36m<module>\u001b[0;34m\u001b[0m\n\u001b[1;32m     14\u001b[0m     \u001b[0mplot\u001b[0m \u001b[0;34m=\u001b[0m \u001b[0mobservation\u001b[0m\u001b[0;34m.\u001b[0m\u001b[0millustrate\u001b[0m\u001b[0;34m(\u001b[0m\u001b[0mplot\u001b[0m\u001b[0;34m,\u001b[0m \u001b[0msize\u001b[0m\u001b[0;34m=\u001b[0m\u001b[0;36m0.04\u001b[0m\u001b[0;34m)\u001b[0m\u001b[0;34m\u001b[0m\u001b[0;34m\u001b[0m\u001b[0m\n\u001b[1;32m     15\u001b[0m     \u001b[0mplot\u001b[0m \u001b[0;34m=\u001b[0m \u001b[0millustrate_points\u001b[0m\u001b[0;34m(\u001b[0m\u001b[0;34m[\u001b[0m\u001b[0mmodel\u001b[0m\u001b[0;34m.\u001b[0m\u001b[0mget_point\u001b[0m\u001b[0;34m(\u001b[0m\u001b[0mview_point_idx\u001b[0m\u001b[0;34m)\u001b[0m\u001b[0;34m]\u001b[0m\u001b[0;34m,\u001b[0m \u001b[0msize\u001b[0m\u001b[0;34m=\u001b[0m\u001b[0;36m1.0\u001b[0m\u001b[0;34m,\u001b[0m \u001b[0mplot\u001b[0m\u001b[0;34m=\u001b[0m\u001b[0mplot\u001b[0m\u001b[0;34m)\u001b[0m\u001b[0;34m\u001b[0m\u001b[0;34m\u001b[0m\u001b[0m\n\u001b[0;32m---> 16\u001b[0;31m     \u001b[0msleep\u001b[0m\u001b[0;34m(\u001b[0m\u001b[0;36m2\u001b[0m\u001b[0;34m)\u001b[0m\u001b[0;34m\u001b[0m\u001b[0;34m\u001b[0m\u001b[0m\n\u001b[0m\u001b[1;32m     17\u001b[0m \u001b[0;34m\u001b[0m\u001b[0m\n\u001b[1;32m     18\u001b[0m     \u001b[0mobservations\u001b[0m\u001b[0;34m.\u001b[0m\u001b[0mappend\u001b[0m\u001b[0;34m(\u001b[0m\u001b[0mobservation\u001b[0m\u001b[0;34m)\u001b[0m\u001b[0;34m\u001b[0m\u001b[0;34m\u001b[0m\u001b[0m\n",
      "\u001b[0;31mKeyboardInterrupt\u001b[0m: "
     ]
    }
   ],
   "source": [
    "NUM_POINTS = 10\n",
    "\n",
    "\n",
    "plot = k3d.plot(name='points')\n",
    "plot.display()\n",
    "\n",
    "model = Model(\"./data/Pyramid.obj\", resolution_image=64)\n",
    "model.generate_view_points(NUM_POINTS)\n",
    "\n",
    "observations = []\n",
    "for view_point_idx in range(NUM_POINTS):\n",
    "    %time observation = model.get_observation(view_point_idx)\n",
    "    \n",
    "    plot = observation.illustrate(plot, size=0.04)\n",
    "    plot = illustrate_points([model.get_point(view_point_idx)], size=1.0, plot=plot)\n",
    "#     sleep(2)\n",
    "    \n",
    "    observations.append(observation)\n",
    "    \n",
    "combined_observation = combine_observations(observations)\n",
    "%time reconstructed_vertices, reconstructed_faces = get_mesh(combined_observation)\n",
    "\n",
    "loss = model.surface_similarity(reconstructed_vertices, reconstructed_faces)\n",
    "print(loss)\n",
    "\n",
    "# illustrate_mesh(reconstructed_vertices, reconstructed_faces)"
   ]
  },
  {
   "cell_type": "code",
   "execution_count": 8,
   "metadata": {},
   "outputs": [
    {
     "data": {
      "application/vnd.jupyter.widget-view+json": {
       "model_id": "2caada481e394b0aaaa3fde7d907d2a5",
       "version_major": 2,
       "version_minor": 0
      },
      "text/plain": [
       "Plot(antialias=3, axes=['x', 'y', 'z'], axes_helper=1.0, background_color=16777215, camera=[2, -3, 0.2, 0.0, 0…"
      ]
     },
     "metadata": {},
     "output_type": "display_data"
    }
   ],
   "source": [
    "illustrate_mesh(reconstructed_vertices, reconstructed_faces)"
   ]
  },
  {
   "cell_type": "code",
   "execution_count": 16,
   "metadata": {
    "scrolled": true
   },
   "outputs": [
    {
     "data": {
      "text/plain": [
       "(755551, 0.08265528953648774)"
      ]
     },
     "execution_count": 16,
     "metadata": {},
     "output_type": "execute_result"
    }
   ],
   "source": [
    "len(combined_observation.points), loss"
   ]
  },
  {
   "cell_type": "code",
   "execution_count": 9,
   "metadata": {},
   "outputs": [
    {
     "data": {
      "text/plain": [
       "(47203, 0.2490280261287171)"
      ]
     },
     "execution_count": 9,
     "metadata": {},
     "output_type": "execute_result"
    }
   ],
   "source": [
    "len(combined_observation.points), loss"
   ]
  },
  {
   "cell_type": "code",
   "execution_count": 10,
   "metadata": {},
   "outputs": [
    {
     "name": "stdout",
     "output_type": "stream",
     "text": [
      "CPU times: user 19.3 s, sys: 129 ms, total: 19.4 s\n",
      "Wall time: 3.08 s\n"
     ]
    }
   ],
   "source": [
    "%%time\n",
    "reconstructed_vertices, reconstructed_faces = get_mesh(combined_observation)\n",
    "loss = model.surface_similarity(reconstructed_vertices, reconstructed_faces)"
   ]
  },
  {
   "cell_type": "code",
   "execution_count": null,
   "metadata": {},
   "outputs": [
    {
     "data": {
      "application/vnd.jupyter.widget-view+json": {
       "model_id": "dfbc099aad8c4f70bb860222d9778bff",
       "version_major": 2,
       "version_minor": 0
      },
      "text/plain": [
       "HBox(children=(IntProgress(value=0, max=72), HTML(value='')))"
      ]
     },
     "metadata": {},
     "output_type": "display_data"
    },
    {
     "name": "stdout",
     "output_type": "stream",
     "text": [
      "0.43260879503679267\n",
      "0.011748805825769773\n",
      "0.6368368930715143\n",
      "0.01999495878259948\n",
      "0.009864535577272508\n",
      "0.0049465034012368585\n",
      "0.004867339413804205\n",
      "2.114583249307729\n",
      "5.513358045365431\n",
      "0.007657026293620387\n",
      "0.012763651915830367\n",
      "0.022809397706465888\n",
      "0.606697827210757\n",
      "0.021164343424414495\n",
      "0.008369065356445203\n",
      "0.6542076437755041\n",
      "0.008919581879375504\n",
      "0.008961263241012722\n",
      "0.9702387490236133\n",
      "1.3275972704264303\n"
     ]
    }
   ],
   "source": [
    "NUM_POINTS = 10\n",
    "\n",
    "models_path = \"./data/1kabc/simple/val\"\n",
    "\n",
    "losses = []\n",
    "for model_name in tqdm(sorted(os.listdir(models_path))):\n",
    "    model = Model(os.path.join(models_path, model_name))\n",
    "    model.generate_view_points(NUM_POINTS)\n",
    "\n",
    "    combined_observation = None\n",
    "    for view_point_idx in range(NUM_POINTS):\n",
    "        observation = model.get_observation(view_point_idx)\n",
    "\n",
    "        if combined_observation is None:\n",
    "            combined_observation = observation\n",
    "        else:\n",
    "            combined_observation += observation\n",
    "    \n",
    "    reconstructed_vertices, reconstructed_faces = get_mesh(combined_observation)\n",
    "\n",
    "    loss = model.surface_similarity(reconstructed_vertices, reconstructed_faces)\n",
    "    print(loss)\n",
    "    losses.append(loss)"
   ]
  },
  {
   "cell_type": "code",
   "execution_count": null,
   "metadata": {},
   "outputs": [],
   "source": []
  }
 ],
 "metadata": {
  "kernelspec": {
   "display_name": "Python 3",
   "language": "python",
   "name": "python3"
  },
  "language_info": {
   "codemirror_mode": {
    "name": "ipython",
    "version": 3
   },
   "file_extension": ".py",
   "mimetype": "text/x-python",
   "name": "python",
   "nbconvert_exporter": "python",
   "pygments_lexer": "ipython3",
   "version": "3.6.9"
  }
 },
 "nbformat": 4,
 "nbformat_minor": 4
}
