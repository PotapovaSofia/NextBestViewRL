{
 "cells": [
  {
   "cell_type": "code",
   "execution_count": 1,
   "metadata": {},
   "outputs": [],
   "source": [
    "import numpy as np\n",
    "import itertools\n",
    "import trimesh\n",
    "import k3d\n",
    "import matplotlib.pyplot as plt\n",
    "%matplotlib inline\n",
    "\n",
    "from trimesh.ray.ray_pyembree import RayMeshIntersector\n",
    "from pypoisson import poisson_reconstruction\n",
    "\n",
    "from igl import hausdorff\n",
    "from pytorch3d.loss import chamfer_distance\n",
    "from torch import FloatTensor\n",
    "\n",
    "from utils.view import from_pose\n",
    "# from utils.sampling import get_config\n",
    "\n",
    "# !conda install -c conda-forge pyembree\n",
    "# !conda install -c conda-forge igl\n",
    "# !pip install Cython\n",
    "# !pip install gym"
   ]
  },
  {
   "cell_type": "code",
   "execution_count": 2,
   "metadata": {},
   "outputs": [],
   "source": [
    "def illustrate_points(points, plot=None, size=0.1):\n",
    "    if plot is None:\n",
    "        plot = k3d.plot(name='points')\n",
    "    plt_points = k3d.points(positions=points, point_size=size)\n",
    "    plot += plt_points\n",
    "    plt_points.shader='3d'\n",
    "    return plot\n",
    "\n",
    "def illustrate_mesh(vertices, faces, plot=None):\n",
    "    if plot is None:\n",
    "        plot = k3d.plot()\n",
    "        \n",
    "    plt_surface = k3d.mesh(vertices, faces,\n",
    "                           color_map = k3d.colormaps.basic_color_maps.Blues,\n",
    "                           attribute=vertices[:, 2])\n",
    "\n",
    "    plot += plt_surface\n",
    "    return plot\n",
    "\n",
    "\n",
    "def transform_mesh(mesh, rotation, translation=None, reverse=False):\n",
    "    # rotation = from_pose([x, y, z], [0, 0, 0]) \n",
    "    mesh_ = mesh.copy()\n",
    "    if reverse:\n",
    "        if translation is not None:\n",
    "            mesh_.apply_translation(-translation)\n",
    "        mesh_.apply_transform(rotation.T)\n",
    "    else:\n",
    "        mesh_.apply_transform(rotation)\n",
    "        if translation is not None:\n",
    "            mesh_.apply_translation(translation)\n",
    "\n",
    "    return mesh_\n",
    "\n",
    "\n",
    "def transform_points(points, rotation, translation=None, reverse=False):\n",
    "    if translation is None:\n",
    "        translation = np.zeros((3))\n",
    "    rotation = rotation[:3, :3]\n",
    "    \n",
    "    if reverse:\n",
    "        return (points - translation).dot(rotation)\n",
    "    return points.dot(rotation.T) + translation\n",
    "\n",
    "\n",
    "def generate_sunflower_sphere_points(num_points=100):\n",
    "    indices = np.arange(0, num_points, dtype=float) + 0.5\n",
    "\n",
    "    phi = np.arccos(1 - 2 * indices / num_points)\n",
    "    theta = np.pi * (1 + 5 ** 0.5) * indices\n",
    "\n",
    "    x, y, z = np.cos(theta) * np.sin(phi), np.sin(theta) * np.sin(phi), np.cos(phi)\n",
    "    points = np.vstack([x, y, z]).T\n",
    "    return points, phi, theta\n"
   ]
  },
  {
   "cell_type": "code",
   "execution_count": 87,
   "metadata": {},
   "outputs": [],
   "source": [
    "import torch\n",
    "from utils.matrix_torch import (create_rotation_matrix_x, create_rotation_matrix_y, create_rotation_matrix_z, create_translation_matrix)\n",
    "\n",
    "\n",
    "class ViewPoint:\n",
    "    def __init__(self, point, phi, theta):\n",
    "        self.point = point\n",
    "        self.phi = phi\n",
    "        self.theta = theta\n",
    "        \n",
    "    def get_transform_matrix(self):\n",
    "        rotation = torch.mm(create_rotation_matrix_y(-self.phi),\n",
    "                            create_rotation_matrix_z(-self.theta))\n",
    "        \n",
    "        translation = create_translation_matrix(0, 0, 0)\n",
    "        transform = torch.mm(rotation, translation)\n",
    "        return transform.t()\n",
    "        \n",
    "\n",
    "class Observation:\n",
    "    def __init__(self, vertices, normals):\n",
    "        self.vertices = vertices\n",
    "        self.normals = normals\n",
    "    \n",
    "    \n",
    "    @property\n",
    "    def size(self):\n",
    "        return self.vertices.shape[0]\n",
    "    \n",
    "    \n",
    "    def transform(self, transform):\n",
    "        self.vertices = transform_points(self.vertices, transform)\n",
    "        self.normals = transform_points(self.normals, transform,\n",
    "                                        translation=None)\n",
    "        \n",
    "        \n",
    "    def __add__(self, other):\n",
    "        vertices = np.concatenate([self.vertices, other.vertices])\n",
    "        normals = np.concatenate([self.normals, other.normals])\n",
    "        \n",
    "        unique_vertices, indices = np.unique(vertices.round(decimals=4),\n",
    "                                             axis=0, return_index=True)\n",
    "        unique_normals = normals[indices]\n",
    "        \n",
    "        return Observation(unique_vertices, unique_normals)\n",
    "        \n",
    "        \n",
    "    def illustrate(self, plot=None):\n",
    "        return illustrate_points(self.vertices, plot=plot)\n",
    "    \n",
    "    \n",
    "class Model:\n",
    "    def __init__(self, model_path):\n",
    "        self.mesh = trimesh.load_mesh('./data/Dude.obj')\n",
    "        self.transform = np.eye(4)\n",
    "        \n",
    "        self.view_points = []\n",
    "    \n",
    "    \n",
    "    def generate_view_points(self, num_points=100):\n",
    "        sphere_points, phis, thetas = generate_sunflower_sphere_points(num_points)\n",
    "\n",
    "        dists = self.mesh.vertices - self.mesh.center_mass\n",
    "        radius = np.abs(dists).max()\n",
    "        radius *= 1.20\n",
    "\n",
    "        sphere_points *= radius\n",
    "        sphere_points += self.mesh.center_mass\n",
    "\n",
    "        for point, phi, theta in zip(sphere_points, phis, thetas):\n",
    "            self.view_points.append(ViewPoint(point, phi, theta))\n",
    "            \n",
    "            \n",
    "    def get_point(self, view_point_idx):\n",
    "        return self.view_points[view_point_idx].point\n",
    "            \n",
    "\n",
    "    def illustrate(self):\n",
    "        plot = illustrate_mesh(self.mesh.vertices, self.mesh.faces)\n",
    "        plot = illustrate_points([vp.point for vp in self.view_points],\n",
    "                                 plot, size=0.5)\n",
    "        return plot\n",
    "\n",
    "\n",
    "    def rotate_to_view_point(self, view_point):\n",
    "        self.transform = view_point.get_transform_matrix()\n",
    "        self.mesh = transform_mesh(self.mesh, self.transform, reverse=True)\n",
    "        \n",
    "        \n",
    "    def rotate_to_origin(self):\n",
    "        self.mesh = transform_mesh(self.mesh, self.transform, reverse=False)\n",
    "        self.transform = np.eye(4)\n",
    "\n",
    "        \n",
    "    def raycast(self, visibility_eps = 1e-6):\n",
    "        vertex_ray_origins = np.array(self.mesh.vertices)\n",
    "        vertex_depth = vertex_ray_origins[:, 2].copy()\n",
    "        vertex_ray_origins[:, 2] = vertex_depth.max()\n",
    "        vertex_ray_directions = np.tile(np.array([0, 0, -1]), (vertex_ray_origins.shape[0], 1))\n",
    "\n",
    "        occluded = np.full_like(vertex_depth, True, dtype=np.bool)\n",
    "\n",
    "        ray_mesh = RayMeshIntersector(self.mesh)\n",
    "\n",
    "        triangles, rays, intersections = ray_mesh.intersects_id(\n",
    "            ray_origins=vertex_ray_origins,\n",
    "            ray_directions=vertex_ray_directions,\n",
    "            multiple_hits=False,\n",
    "            return_locations=True)\n",
    "\n",
    "        occluded[rays] = intersections[:, 2] - vertex_depth[rays] > visibility_eps\n",
    "\n",
    "        indices = np.where(~occluded)[0]\n",
    "        vertices = self.mesh.vertices[indices]\n",
    "        normals = self.mesh.vertex_normals[indices]\n",
    "\n",
    "        return Observation(vertices, normals)\n",
    "\n",
    "\n",
    "    def get_observation(self, view_point_idx):\n",
    "        view_point = self.view_points[view_point_idx]\n",
    "        self.rotate_to_view_point(view_point)\n",
    "        \n",
    "        observation = self.raycast()\n",
    "        observation.transform(self.transform)\n",
    "        \n",
    "        self.rotate_to_origin()\n",
    "        \n",
    "        return observation\n",
    "    \n",
    "    \n",
    "    def surface_similarity(self, reconstructed_vertices, reconstructed_faces):\n",
    "        return hausdorff(self.mesh.vertices,\n",
    "                         self.mesh.faces,\n",
    "                         reconstructed_vertices,\n",
    "                         reconstructed_faces.astype(np.int64))\n",
    "        \n",
    "\n",
    "    def observation_similarity(self, observation):\n",
    "        # TODO: We don't want to deal with GPU tensors right now, so simplify to this\n",
    "        # chamfer\n",
    "        # gt = FloatTensor(np.expand_dims(self.mesh.vertices, axis=0))\n",
    "        # pred = FloatTensor(np.expand_dims(observation.vertices, axis=0))\n",
    "        # return chamfer_distance(gt, pred)\n",
    "        return observation.size * 1.0 / self.mesh.vertices.shape[0]\n",
    "\n",
    "    \n",
    "def get_mesh(observation):\n",
    "    faces, vertices = poisson_reconstruction(\n",
    "        observation.vertices, observation.normals, depth=10)\n",
    "    return vertices, faces\n",
    "\n",
    "def combine_observations(observations):\n",
    "    # TODO unique\n",
    "    combined_vertices = np.concatenate([ob.vertices for ob in observations])\n",
    "    combined_normals = np.concatenate([ob.normals for ob in observations])\n",
    "    return Observation(combined_vertices, combined_normals)\n"
   ]
  },
  {
   "cell_type": "code",
   "execution_count": 61,
   "metadata": {
    "scrolled": false
   },
   "outputs": [
    {
     "data": {
      "application/vnd.jupyter.widget-view+json": {
       "model_id": "baaa234ce4b7440c8cea254991fd0e36",
       "version_major": 2,
       "version_minor": 0
      },
      "text/plain": [
       "Output()"
      ]
     },
     "metadata": {},
     "output_type": "display_data"
    },
    {
     "name": "stderr",
     "output_type": "stream",
     "text": [
      "unable to load materials from: FinalBaseMesh.mtl\n",
      "specified material (default)  not loaded!\n",
      "/opt/conda/lib/python3.7/site-packages/traittypes/traittypes.py:101: UserWarning: Given trait value dtype \"float64\" does not match required type \"float32\". A coerced copy has been created.\n",
      "  np.dtype(self.dtype).name))\n"
     ]
    },
    {
     "name": "stdout",
     "output_type": "stream",
     "text": [
      "0.0780939793388279\n"
     ]
    },
    {
     "name": "stderr",
     "output_type": "stream",
     "text": [
      "/opt/conda/lib/python3.7/site-packages/traittypes/traittypes.py:101: UserWarning: Given trait value dtype \"int32\" does not match required type \"uint32\". A coerced copy has been created.\n",
      "  np.dtype(self.dtype).name))\n"
     ]
    },
    {
     "data": {
      "application/vnd.jupyter.widget-view+json": {
       "model_id": "b44689e8a0054c6498c9aeb93cdf2677",
       "version_major": 2,
       "version_minor": 0
      },
      "text/plain": [
       "Plot(antialias=3, axes=['x', 'y', 'z'], axes_helper=1.0, background_color=16777215, camera=[2, -3, 0.2, 0.0, 0…"
      ]
     },
     "metadata": {},
     "output_type": "display_data"
    }
   ],
   "source": [
    "from time import sleep\n",
    "\n",
    "NUM_POINTS = 10\n",
    "\n",
    "\n",
    "plot = k3d.plot(name='points')\n",
    "plot.display()\n",
    "\n",
    "model = Model(\"./data/Dude.obj\")\n",
    "model.generate_view_points(NUM_POINTS)\n",
    "\n",
    "observations = []\n",
    "for view_point_idx in range(NUM_POINTS):\n",
    "    observation = model.get_observation(view_point_idx)\n",
    "    \n",
    "    plot = observation.illustrate(plot)\n",
    "    plot = illustrate_points([model.get_point(view_point_idx)], size=1.0, plot=plot)\n",
    "    sleep(2)\n",
    "    \n",
    "    observations.append(observation)\n",
    "    \n",
    "combined_observation = combine_observations(observations)\n",
    "reconstructed_vertices, reconstructed_faces = get_mesh(combined_observation)\n",
    "\n",
    "loss = model.surface_similarity(reconstructed_vertices, reconstructed_faces)\n",
    "print(loss)\n",
    "\n",
    "illustrate_mesh(reconstructed_vertices, reconstructed_faces)"
   ]
  },
  {
   "cell_type": "markdown",
   "metadata": {},
   "source": [
    "## Pipeline"
   ]
  },
  {
   "cell_type": "code",
   "execution_count": 137,
   "metadata": {},
   "outputs": [],
   "source": [
    "import gym\n",
    "from gym import spaces\n",
    "\n",
    "MAX_POINS_CNT = 100000\n",
    "VIEW_POINTS_CNT = 1000\n",
    "\n",
    "\n",
    "class EnvError(Exception):\n",
    "    pass\n",
    "\n",
    "\n",
    "class Environment(gym.Env):\n",
    "    def __init__(self, number_of_view_points=VIEW_POINTS_CNT):\n",
    "        super(Environment, self).__init__()\n",
    "\n",
    "        self.number_of_view_points = number_of_view_points\n",
    "\n",
    "        self.action_space = spaces.Discrete(number_of_view_points)\n",
    "        self.observation_space = spaces.Box(\n",
    "            -np.inf, np.inf, (MAX_POINS_CNT, 3), dtype=np.float32)\n",
    "\n",
    "        self._similarity_threshold = 1 - 1e-3\n",
    "        self._reconstruction_depth = 10\n",
    "\n",
    "        self.model = None\n",
    "        self.plot = None\n",
    "\n",
    "\n",
    "    def reset(self):\n",
    "        \"\"\"\n",
    "        Reset the environment for new episode.\n",
    "        Randomly (or not) generate CAD model for this episode.\n",
    "        \"\"\"\n",
    "        self.model = Model(\"./data/Dude.obj\")\n",
    "        self.model.generate_view_points(self.number_of_view_points)\n",
    "        \n",
    "        self.model.illustrate().display()\n",
    "        \n",
    "        init_state = self.action_space.sample()\n",
    "        observation = self.model.get_observation(init_state)\n",
    "        return observation\n",
    "\n",
    "\n",
    "    def step(self, action):\n",
    "        \"\"\"\n",
    "        Get new observation from current position (action), count step reward, decide whether to stop.\n",
    "        Args:\n",
    "            action: int\n",
    "        return: \n",
    "            next_state: List[List[List[int, int, int]]]\n",
    "            reward: float\n",
    "            done: bool\n",
    "            info: Tuple\n",
    "        \"\"\"\n",
    "        observation = self.model.get_observation(action)\n",
    "\n",
    "        reward = self.step_reward(observation)\n",
    "        done = reward >= self._similarity_threshold\n",
    "\n",
    "        return observation, reward, done, {}\n",
    "\n",
    "    \n",
    "    def render(self, action, observation, plot=None):\n",
    "        if plot is None:\n",
    "            plot = self.plot\n",
    "            \n",
    "        plot = illustrate_points(\n",
    "           [self.model.get_point(action)], size=1.0, plot=plot)\n",
    "        \n",
    "        plot = observation.illustrate(plot)\n",
    "        return plot\n",
    "    \n",
    "    \n",
    "    def step_reward(self, observation):\n",
    "        return self.model.observation_similarity(observation)\n",
    "    \n",
    "    \n",
    "    def final_reward(self, observation, illustrate=False):\n",
    "        vertices, faces = self._get_mesh(observation)\n",
    "        reward = self.model.surface_similarity(vertices, faces)\n",
    "        \n",
    "        if illustrate:\n",
    "            illustrate_mesh(vertices, faces).display()\n",
    "        return reward\n",
    "        \n",
    "        \n",
    "    def _get_mesh(self, observation):\n",
    "        faces, vertices = poisson_reconstruction(observation.vertices,\n",
    "                                                 observation.normals,\n",
    "                                                 depth=self._reconstruction_depth)\n",
    "        return vertices, faces\n",
    "\n",
    "\n",
    "    \n",
    "class CombiningObservationsWrapper:\n",
    "    def __init__(self, environment):\n",
    "        self.env = environment\n",
    "        \n",
    "        self.action_space = env.action_space\n",
    "        self.observation_space = env.observation_space\n",
    "        \n",
    "        self._similarity_reward_weight = 1.0\n",
    "        self._similarity_threshold = 1 - 1e-2\n",
    "\n",
    "        self.combined_observation = None\n",
    "        self.plot = None\n",
    "\n",
    "    \n",
    "    def reset(self):\n",
    "        observation = self.env.reset()\n",
    "        self.combined_observation = observation\n",
    "        \n",
    "        self.plot = k3d.plot(name='wrapper')\n",
    "        self.plot.display()\n",
    "\n",
    "        \n",
    "    def step(self, action):\n",
    "        observation, reward, done, info = self.env.step(action)\n",
    "\n",
    "        self._combine_observations(observation)\n",
    "        \n",
    "        # we know that step reward from env is ob_size / mesh_size\n",
    "        reward = self.combined_observation.size * reward / observation.size\n",
    "        print(\"Step reward: {:.6f}\".format(reward))\n",
    "        done = done or reward >= self._similarity_threshold\n",
    "        reward = -1 + self._similarity_reward_weight * reward\n",
    "        \n",
    "        return self.combined_observation, reward, done, info\n",
    "\n",
    "    \n",
    "    def render(self, action, observation):\n",
    "        self.plot = self.env.render(action, observation, self.plot)\n",
    "        \n",
    "    \n",
    "    def final_reward(self, illustrate=False):\n",
    "        return self.env.final_reward(self.combined_observation,\n",
    "                                     illustrate=illustrate)\n",
    "    \n",
    "\n",
    "    def _combine_observations(self, observation):\n",
    "        if self.combined_observation is None:\n",
    "            raise EnvError(\"Environment wasn't reset\")\n",
    "        \n",
    "        self.combined_observation += observation\n",
    "\n",
    "    \n",
    "class StepRewardWrapper:\n",
    "    def __init__(self, environment):\n",
    "        self.env = environment\n",
    "        \n",
    "        self.action_space = env.action_space\n",
    "        self.observation_space = env.observation_space\n",
    "        self._similarity_reward_weight = 1.0\n",
    "\n",
    "    \n",
    "    def reset(self):\n",
    "        self.env.reset()\n",
    "        \n",
    "        \n",
    "    def step(self, action):\n",
    "        observation, reward, done, info = self.env.step(action)\n",
    "        \n",
    "        gt = FloatTensor(np.expand_dims(self.env.env.model.mesh.vertices, axis=0))\n",
    "        pred = FloatTensor(np.expand_dims(observation.vertices, axis=0))\n",
    "        chamfer_dist = float(chamfer_distance(gt, pred)[0])\n",
    "        print(chamfer_dist)\n",
    "        reward = -1 + self._similarity_reward_weight * chamfer_dist\n",
    "        \n",
    "        return observation, reward, done, info\n",
    "\n",
    "    \n",
    "    def render(self, action, observation):\n",
    "        self.env.render(action, observation)\n",
    "        \n",
    "    \n",
    "    def final_reward(self, illustrate=False):\n",
    "        return self.env.final_reward(illustrate=illustrate)\n"
   ]
  },
  {
   "cell_type": "code",
   "execution_count": 138,
   "metadata": {},
   "outputs": [],
   "source": [
    "class Agent:\n",
    "\n",
    "    def __init__(self, env):\n",
    "        self.env = env\n",
    "        \n",
    "        self.observation_size = env.observation_space.shape[0]\n",
    "        self.actions_cnt = env.action_space.n\n",
    "        \n",
    "        self._max_iter = 10\n",
    "        self._gamma = 0.99\n",
    "        self._final_reward_weight = 1.0\n",
    "  \n",
    "\n",
    "    def predict_action(self, state):\n",
    "        \"\"\"\n",
    "        Return action that should be done from input state according to current policy.\n",
    "        Args:\n",
    "            state: list of points - results of raycasting\n",
    "        return: \n",
    "            action: int\n",
    "        \"\"\"    \n",
    "        # some cool RL staff\n",
    "        return self.env.action_space.sample()\n",
    "    \n",
    "\n",
    "    def evaluate(self):\n",
    "        \"\"\"\n",
    "        Generate CAD model, reconstruct it and count the reward according   to MSE between original and reconstructed models and number of steps.\n",
    "        Args:\n",
    "            environment: Environment\n",
    "            max_iter: int - max number of iterations to stop (~15)\n",
    "            gamma: float - discounted factor\n",
    "            w: float - weight of mse to final episode reward\n",
    "        return: \n",
    "            episode_reward: float\n",
    "        \"\"\"    \n",
    "        \n",
    "        state = self.env.reset()\n",
    "        \n",
    "        episode_reward = 0.0\n",
    "        for t in range(self._max_iter):\n",
    "            action = self.predict_action(state)\n",
    "            state, reward, done, info = self.env.step(action)\n",
    "            self.env.render(action, state)\n",
    "            episode_reward += reward * self._gamma ** t\n",
    "\n",
    "            if done:\n",
    "                break\n",
    "\n",
    "        episode_reward += self._final_reward_weight * self.env.final_reward(illustrate=True)\n",
    "        return episode_reward\n"
   ]
  },
  {
   "cell_type": "code",
   "execution_count": 139,
   "metadata": {},
   "outputs": [],
   "source": [
    "env = Environment()\n",
    "env_wrapper = CombiningObservationsWrapper(env)\n",
    "# env_wrapper2 = StepRewardWrapper(env_wrapper)\n",
    "\n",
    "agent = Agent(env_wrapper)"
   ]
  },
  {
   "cell_type": "code",
   "execution_count": 141,
   "metadata": {},
   "outputs": [
    {
     "name": "stderr",
     "output_type": "stream",
     "text": [
      "unable to load materials from: FinalBaseMesh.mtl\n",
      "specified material (default)  not loaded!\n"
     ]
    },
    {
     "data": {
      "application/vnd.jupyter.widget-view+json": {
       "model_id": "f865f5c230454665aa5692fccc24cb39",
       "version_major": 2,
       "version_minor": 0
      },
      "text/plain": [
       "Output()"
      ]
     },
     "metadata": {},
     "output_type": "display_data"
    },
    {
     "data": {
      "application/vnd.jupyter.widget-view+json": {
       "model_id": "fb58fd3887e64ab09b481fa75138acd3",
       "version_major": 2,
       "version_minor": 0
      },
      "text/plain": [
       "Output()"
      ]
     },
     "metadata": {},
     "output_type": "display_data"
    },
    {
     "name": "stdout",
     "output_type": "stream",
     "text": [
      "Step reward: 0.849434\n",
      "Step reward: 0.872164\n",
      "Step reward: 0.964065\n",
      "Step reward: 0.967336\n",
      "Step reward: 0.975635\n",
      "Step reward: 0.976738\n",
      "Step reward: 0.986795\n",
      "Step reward: 0.991742\n"
     ]
    },
    {
     "data": {
      "application/vnd.jupyter.widget-view+json": {
       "model_id": "834b824000dc494d888eb3ee68dd31fc",
       "version_major": 2,
       "version_minor": 0
      },
      "text/plain": [
       "Output()"
      ]
     },
     "metadata": {},
     "output_type": "display_data"
    },
    {
     "data": {
      "text/plain": [
       "-0.2940903060152707"
      ]
     },
     "execution_count": 141,
     "metadata": {},
     "output_type": "execute_result"
    }
   ],
   "source": [
    "agent.evaluate()"
   ]
  },
  {
   "cell_type": "markdown",
   "metadata": {},
   "source": [
    "## GPU"
   ]
  },
  {
   "cell_type": "code",
   "execution_count": 19,
   "metadata": {},
   "outputs": [],
   "source": [
    "observations = agent.env.observations"
   ]
  },
  {
   "cell_type": "code",
   "execution_count": 43,
   "metadata": {},
   "outputs": [],
   "source": [
    "combined_vertices = np.concatenate([ob.vertices for ob in observations])\n",
    "combined_normals = np.concatenate([ob.normals for ob in observations])\n",
    "\n",
    "vertices, indices = np.unique(combined_vertices.round(decimals=4),\n",
    "                              axis=0, return_index=True)\n",
    "normals = combined_normals[indices]"
   ]
  },
  {
   "cell_type": "code",
   "execution_count": 56,
   "metadata": {},
   "outputs": [
    {
     "data": {
      "text/plain": [
       "((9711, 3), (12791, 3), (18546, 3))"
      ]
     },
     "execution_count": 56,
     "metadata": {},
     "output_type": "execute_result"
    }
   ],
   "source": [
    "a, b = observations[0].vertices, observations[1].vertices\n",
    "\n",
    "combined_vertices = np.concatenate([a, b])\n",
    "vertices, indices = np.unique(combined_vertices.round(decimals=4),\n",
    "                              axis=0, return_index=True)\n",
    "a.shape, b.shape, vertices.shape"
   ]
  },
  {
   "cell_type": "code",
   "execution_count": 57,
   "metadata": {},
   "outputs": [],
   "source": [
    "a = FloatTensor(a)\n",
    "b = FloatTensor(b)"
   ]
  },
  {
   "cell_type": "code",
   "execution_count": 58,
   "metadata": {},
   "outputs": [
    {
     "data": {
      "text/plain": [
       "torch.Size([9711, 3])"
      ]
     },
     "execution_count": 58,
     "metadata": {},
     "output_type": "execute_result"
    }
   ],
   "source": [
    "gt = FloatTensor(np.expand_dims(self.mesh.vertices, axis=0))\n",
    "pred = FloatTensor(np.expand_dims(observation.vertices, axis=0))\n",
    "chamfer_distance(gt, pred)"
   ]
  },
  {
   "cell_type": "code",
   "execution_count": null,
   "metadata": {},
   "outputs": [],
   "source": []
  }
 ],
 "metadata": {
  "kernelspec": {
   "display_name": "Python 3",
   "language": "python",
   "name": "python3"
  },
  "language_info": {
   "codemirror_mode": {
    "name": "ipython",
    "version": 3
   },
   "file_extension": ".py",
   "mimetype": "text/x-python",
   "name": "python",
   "nbconvert_exporter": "python",
   "pygments_lexer": "ipython3",
   "version": "3.7.4"
  }
 },
 "nbformat": 4,
 "nbformat_minor": 4
}
