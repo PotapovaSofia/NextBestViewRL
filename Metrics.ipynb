{
 "cells": [
  {
   "cell_type": "code",
   "execution_count": 1,
   "metadata": {},
   "outputs": [],
   "source": [
    "import numpy as np\n",
    "import itertools\n",
    "import trimesh\n",
    "import math\n",
    "import k3d\n",
    "from time import sleep\n",
    "\n",
    "from IPython.display import clear_output\n",
    "import matplotlib.pyplot as plt\n",
    "%matplotlib inline\n",
    "\n",
    "# !conda install -c conda-forge pyembree\n",
    "# !conda install -c conda-forge igl\n",
    "# !pip install Cython\n",
    "# !pip install gym"
   ]
  },
  {
   "cell_type": "code",
   "execution_count": 2,
   "metadata": {},
   "outputs": [],
   "source": [
    "def compute_metrics(env, agent, iter_cnt=10, max_iter=30):\n",
    "    rewards, final_rewards, novp = [], [], []\n",
    "    for _ in range(iter_cnt):\n",
    "        state, action, mask = env.reset()\n",
    "        episode_reward = 0.0\n",
    "        for t in range(max_iter):\n",
    "            action =  agent.act(state, mask, epsilon=0.05)\n",
    "                        \n",
    "            state, reward, done, info, mask = env.step(action)\n",
    "            episode_reward += reward\n",
    "\n",
    "            if done:\n",
    "                break\n",
    "\n",
    "        final_reward = 0\n",
    "        final_reward = env.final_reward()\n",
    "#         episode_reward += 1.0 / final_reward\n",
    "        rewards.append(episode_reward)\n",
    "        final_rewards.append(final_reward)\n",
    "        novp.append(t + 1)\n",
    "    return np.mean(rewards), np.mean(final_rewards), np.mean(novp)"
   ]
  },
  {
   "cell_type": "code",
   "execution_count": 12,
   "metadata": {},
   "outputs": [],
   "source": [
    "from rl.environment import *\n",
    "\n",
    "def create_env(model_path=None):    \n",
    "    env = Environment(model_path=model_path,\n",
    "                      image_size=1024,\n",
    "                      number_of_view_points=100)\n",
    "\n",
    "    env = MeshReconstructionWrapper(env, reconstruction_depth=8, final_depth=10, scale_factor=8,\n",
    "                                    do_step_reconstruction=True)\n",
    "    env = VoxelGridWrapper(env, occlusion_reward=True, grid_size=64)\n",
    "    env = CombiningObservationsWrapper(env)\n",
    "    env = VoxelWrapper(env)\n",
    "    env = StepPenaltyRewardWrapper(env)\n",
    "    env = FrameStackWrapper(env, num_stack=4, lz4_compress=False)\n",
    "    env = ActionMaskWrapper(env)\n",
    "    return env\n"
   ]
  },
  {
   "cell_type": "markdown",
   "metadata": {},
   "source": [
    "### DQN"
   ]
  },
  {
   "cell_type": "code",
   "execution_count": 13,
   "metadata": {},
   "outputs": [],
   "source": [
    "from tqdm import tqdm_notebook as tqdm\n",
    "from rl.agent import *"
   ]
  },
  {
   "cell_type": "code",
   "execution_count": 14,
   "metadata": {},
   "outputs": [],
   "source": [
    "import torch\n",
    "from rl.dqn import *\n",
    "\n",
    "device = torch.device('cuda:3' if torch.cuda.is_available() else 'cpu')\n",
    "\n",
    "model = torch.load(\"./models/abc-vdqn-occl-fix-rew/last-150000.pt\")\n",
    "agent = DQNAgent(env.observation_space.shape, env.action_space.n,\n",
    "                 device=device)\n",
    "\n",
    "agent.model = model.to(device)"
   ]
  },
  {
   "cell_type": "code",
   "execution_count": null,
   "metadata": {
    "scrolled": false
   },
   "outputs": [],
   "source": [
    "%%time\n",
    "models_path = \"./data/1kabc/simple/val/\"\n",
    "result = {}\n",
    "for model_path in tqdm(sorted(os.listdir(models_path))):\n",
    "    env = create_env(os.path.join(models_path, model_path))\n",
    "    result[model_path] = compute_metrics(env, agent, max_iter=100, iter_cnt=1)\n",
    "    print(model_path, result[model_path])"
   ]
  },
  {
   "cell_type": "markdown",
   "metadata": {},
   "source": [
    "### Random"
   ]
  },
  {
   "cell_type": "code",
   "execution_count": null,
   "metadata": {
    "scrolled": true
   },
   "outputs": [
    {
     "name": "stdout",
     "output_type": "stream",
     "text": [
      "00731313_58fc1a1bb4b5be10cb401503_003.obj (-2.5757095519377606, 0.25795545337154036, 4.3)\n",
      "00942098_bd039b3a4a4efa75e86b7350_000.obj (-3.0503391472868215, 0.10782423963311767, 4.9)\n"
     ]
    }
   ],
   "source": [
    "%%time\n",
    "random_agent_func = lambda s : env.action_space.sample()\n",
    "models_path = \"./data/10abc/\"\n",
    "result = {}\n",
    "for model_path in os.listdir(models_path):\n",
    "    env = create_env(os.path.join(models_path, model_path))\n",
    "    result[model_path] = compute_metrics(env, random_agent_func, max_iter=30)\n",
    "    print(model_path, result[model_path])"
   ]
  }
 ],
 "metadata": {
  "kernelspec": {
   "display_name": "Python 3",
   "language": "python",
   "name": "python3"
  },
  "language_info": {
   "codemirror_mode": {
    "name": "ipython",
    "version": 3
   },
   "file_extension": ".py",
   "mimetype": "text/x-python",
   "name": "python",
   "nbconvert_exporter": "python",
   "pygments_lexer": "ipython3",
   "version": "3.7.4"
  }
 },
 "nbformat": 4,
 "nbformat_minor": 4
}
