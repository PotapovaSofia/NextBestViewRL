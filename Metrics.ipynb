{
 "cells": [
  {
   "cell_type": "code",
   "execution_count": 1,
   "metadata": {},
   "outputs": [],
   "source": [
    "import numpy as np\n",
    "import itertools\n",
    "import trimesh\n",
    "import math\n",
    "import k3d\n",
    "from time import sleep\n",
    "\n",
    "from IPython.display import clear_output\n",
    "import matplotlib.pyplot as plt\n",
    "%matplotlib inline\n",
    "\n",
    "# !conda install -c conda-forge pyembree\n",
    "# !conda install -c conda-forge igl\n",
    "# !pip install Cython\n",
    "# !pip install gym"
   ]
  },
  {
   "cell_type": "code",
   "execution_count": 5,
   "metadata": {},
   "outputs": [],
   "source": [
    "def compute_metrics(env, agent_func, iter_cnt=10, max_iter=30):\n",
    "    rewards, final_rewards, novp = [], [], []\n",
    "    for _ in range(iter_cnt):\n",
    "        state, action = env.reset()\n",
    "        episode_reward = 0.0\n",
    "        for t in range(max_iter):\n",
    "            action = agent_func(state)\n",
    "            state, reward, done, info = env.step(action)\n",
    "            # print(\"REWARD: \", reward)\n",
    "            env.render(action, state)\n",
    "            episode_reward += reward\n",
    "\n",
    "            if done:\n",
    "                break\n",
    "\n",
    "        final_reward = env.final_reward()\n",
    "        # episode_reward += 1.0 / final_reward\n",
    "        rewards.append(episode_reward)\n",
    "        final_rewards.append(final_reward)\n",
    "        novp.append(t + 1)\n",
    "    return np.mean(rewards), np.mean(final_rewards), np.mean(novp)"
   ]
  },
  {
   "cell_type": "code",
   "execution_count": 6,
   "metadata": {},
   "outputs": [],
   "source": [
    "from rl.environment import *\n",
    "\n",
    "env = Environment(illustrate=False, number_of_view_points=1000, model_path=\"./data/Dude.obj\")\n",
    "env = CombiningObservationsWrapper(env)\n",
    "env = StepPenaltyRewardWrapper(env)\n",
    "env = DepthMapWrapper(env)"
   ]
  },
  {
   "cell_type": "markdown",
   "metadata": {},
   "source": [
    "### Random"
   ]
  },
  {
   "cell_type": "code",
   "execution_count": 7,
   "metadata": {
    "scrolled": true
   },
   "outputs": [
    {
     "name": "stderr",
     "output_type": "stream",
     "text": [
      "unable to load materials from: FinalBaseMesh.mtl\n",
      "specified material (default)  not loaded!\n",
      "unable to load materials from: FinalBaseMesh.mtl\n",
      "specified material (default)  not loaded!\n",
      "unable to load materials from: FinalBaseMesh.mtl\n",
      "specified material (default)  not loaded!\n",
      "unable to load materials from: FinalBaseMesh.mtl\n",
      "specified material (default)  not loaded!\n",
      "unable to load materials from: FinalBaseMesh.mtl\n",
      "specified material (default)  not loaded!\n",
      "unable to load materials from: FinalBaseMesh.mtl\n",
      "specified material (default)  not loaded!\n",
      "unable to load materials from: FinalBaseMesh.mtl\n",
      "specified material (default)  not loaded!\n",
      "unable to load materials from: FinalBaseMesh.mtl\n",
      "specified material (default)  not loaded!\n",
      "unable to load materials from: FinalBaseMesh.mtl\n",
      "specified material (default)  not loaded!\n",
      "unable to load materials from: FinalBaseMesh.mtl\n",
      "specified material (default)  not loaded!\n"
     ]
    },
    {
     "name": "stdout",
     "output_type": "stream",
     "text": [
      "CPU times: user 35min 23s, sys: 32.9 s, total: 35min 56s\n",
      "Wall time: 6min 23s\n"
     ]
    },
    {
     "data": {
      "text/plain": [
       "(-6.120172533627703, 0.05615134506556711, 13.2)"
      ]
     },
     "execution_count": 7,
     "metadata": {},
     "output_type": "execute_result"
    }
   ],
   "source": [
    "%%time\n",
    "random_agent_func = lambda s : env.action_space.sample()\n",
    "compute_metrics(env, random_agent_func, max_iter=20)"
   ]
  },
  {
   "cell_type": "markdown",
   "metadata": {},
   "source": [
    "### DQN"
   ]
  },
  {
   "cell_type": "code",
   "execution_count": null,
   "metadata": {},
   "outputs": [],
   "source": [
    "import torch\n",
    "from rl.dqn import *\n",
    "\n",
    "model = torch.load(\"./models/dude-100vp-3500.pt\")\n",
    "if USE_CUDA:\n",
    "    model = model.cuda()"
   ]
  },
  {
   "cell_type": "code",
   "execution_count": null,
   "metadata": {},
   "outputs": [],
   "source": [
    "%%time\n",
    "agent_func = lambda s : model.act(s, epsilon=0.0)\n",
    "compute_metrics(env, agent_func)"
   ]
  }
 ],
 "metadata": {
  "kernelspec": {
   "display_name": "Python 3",
   "language": "python",
   "name": "python3"
  },
  "language_info": {
   "codemirror_mode": {
    "name": "ipython",
    "version": 3
   },
   "file_extension": ".py",
   "mimetype": "text/x-python",
   "name": "python",
   "nbconvert_exporter": "python",
   "pygments_lexer": "ipython3",
   "version": "3.7.4"
  }
 },
 "nbformat": 4,
 "nbformat_minor": 4
}
